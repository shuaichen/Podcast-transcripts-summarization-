{
 "cells": [
  {
   "cell_type": "markdown",
   "metadata": {},
   "source": [
    "## Capstone --- Build Abstractive summarization model.\n",
    "\n",
    "\n",
    "#### Shuaichen Wu"
   ]
  },
  {
   "cell_type": "markdown",
   "metadata": {},
   "source": [
    "## Introduction\n",
    "\n",
    "The purpose of this notebook is to Build abstractive summarization model for podcast transcripts.\n",
    "\n",
    "Diffferent from extractive summarization model, abstracitve summarization is to generate short summary that captures the main ideas of a text.\n",
    "The generated summaries potentially contain new phrases and sentences that may not appear in original text."
   ]
  },
  {
   "cell_type": "code",
   "execution_count": null,
   "metadata": {},
   "outputs": [],
   "source": []
  },
  {
   "cell_type": "code",
   "execution_count": null,
   "metadata": {},
   "outputs": [],
   "source": []
  },
  {
   "cell_type": "markdown",
   "metadata": {},
   "source": [
    "## Import library"
   ]
  },
  {
   "cell_type": "code",
   "execution_count": 3,
   "metadata": {},
   "outputs": [],
   "source": [
    "#for built neuro network\n",
    "from tensorflow.keras.layers import Input, LSTM, Embedding, Dense, TimeDistributed, Concatenate, BatchNormalization\n",
    "from tensorflow.keras.models import Model\n",
    "from tensorflow.keras.callbacks import EarlyStopping\n",
    "import joblib\n",
    "\n",
    "import pandas as pd\n",
    "import numpy as np\n",
    "from sklearn.model_selection import train_test_split\n",
    "import matplotlib.pyplot as plt\n",
    "import seaborn as sns\n",
    "\n",
    "from tensorflow.keras.preprocessing.text import Tokenizer \n",
    "from tensorflow.keras.preprocessing.sequence import pad_sequences\n",
    "\n",
    "# import rouge\n",
    "\n",
    "from attention import AttentionLayer"
   ]
  },
  {
   "cell_type": "markdown",
   "metadata": {},
   "source": [
    "## model building"
   ]
  },
  {
   "cell_type": "markdown",
   "metadata": {},
   "source": [
    "### Get the half of Dataset"
   ]
  },
  {
   "cell_type": "code",
   "execution_count": 8,
   "metadata": {},
   "outputs": [],
   "source": [
    "# first I need read the dataset I double cleaned\n",
    "train = joblib.load('second_clean_train.pkl')"
   ]
  },
  {
   "cell_type": "code",
   "execution_count": 9,
   "metadata": {},
   "outputs": [
    {
     "data": {
      "text/plain": [
       "(32354, 2)"
      ]
     },
     "execution_count": 9,
     "metadata": {},
     "output_type": "execute_result"
    }
   ],
   "source": [
    "#check the shape\n",
    "train.shape"
   ]
  },
  {
   "cell_type": "markdown",
   "metadata": {},
   "source": [
    "Consider the computation momery and run time neuro network need, I decide to decrease the train dataset to half, choose from the 25% to 75% in length of summary."
   ]
  },
  {
   "cell_type": "code",
   "execution_count": 10,
   "metadata": {},
   "outputs": [],
   "source": [
    "len_summary = train['summary'].apply(lambda x:len(x.split()))"
   ]
  },
  {
   "cell_type": "code",
   "execution_count": 11,
   "metadata": {},
   "outputs": [
    {
     "data": {
      "text/plain": [
       "count    32354.000000\n",
       "mean        82.199944\n",
       "std         65.661362\n",
       "min         21.000000\n",
       "25%         42.000000\n",
       "50%         63.000000\n",
       "75%         99.000000\n",
       "max        740.000000\n",
       "Name: summary, dtype: float64"
      ]
     },
     "execution_count": 11,
     "metadata": {},
     "output_type": "execute_result"
    }
   ],
   "source": [
    "len_summary.describe()"
   ]
  },
  {
   "cell_type": "code",
   "execution_count": 12,
   "metadata": {},
   "outputs": [],
   "source": [
    "start_ = np.quantile(len_summary,0.25)\n",
    "_end = np.quantile(len_summary,0.75)"
   ]
  },
  {
   "cell_type": "code",
   "execution_count": 13,
   "metadata": {},
   "outputs": [],
   "source": [
    "train_half = np.where((len_summary>start_) & (len_summary<_end))"
   ]
  },
  {
   "cell_type": "code",
   "execution_count": 14,
   "metadata": {},
   "outputs": [],
   "source": [
    "# get the half size of data\n",
    "train_half = train.loc[train_half]"
   ]
  },
  {
   "cell_type": "code",
   "execution_count": 5,
   "metadata": {},
   "outputs": [],
   "source": [
    "train_half=pd.read_csv('train_half.csv')"
   ]
  },
  {
   "cell_type": "code",
   "execution_count": 6,
   "metadata": {},
   "outputs": [
    {
     "data": {
      "text/plain": [
       "(15729, 3)"
      ]
     },
     "execution_count": 6,
     "metadata": {},
     "output_type": "execute_result"
    }
   ],
   "source": [
    "train_half.shape"
   ]
  },
  {
   "cell_type": "markdown",
   "metadata": {},
   "source": [
    "Check the length of transcripts of the half dataset."
   ]
  },
  {
   "cell_type": "code",
   "execution_count": 7,
   "metadata": {},
   "outputs": [],
   "source": [
    "len_transcript_half = train_half['transcript'].apply(lambda x:len(x.split()))"
   ]
  },
  {
   "cell_type": "code",
   "execution_count": 8,
   "metadata": {},
   "outputs": [
    {
     "data": {
      "text/plain": [
       "count    15729.000000\n",
       "mean      7177.436455\n",
       "std       4023.316547\n",
       "min         27.000000\n",
       "25%       3967.000000\n",
       "50%       6734.000000\n",
       "75%      10030.000000\n",
       "max      22216.000000\n",
       "Name: transcript, dtype: float64"
      ]
     },
     "execution_count": 8,
     "metadata": {},
     "output_type": "execute_result"
    }
   ],
   "source": [
    "len_transcript_half.describe()"
   ]
  },
  {
   "cell_type": "markdown",
   "metadata": {},
   "source": [
    "The central transcripts still have 7177±4023 words, which is compatibel with full size summaries."
   ]
  },
  {
   "cell_type": "code",
   "execution_count": 9,
   "metadata": {},
   "outputs": [],
   "source": [
    "len_summary_half = train_half['summary'].apply(lambda x:len(x.split()))"
   ]
  },
  {
   "cell_type": "code",
   "execution_count": 10,
   "metadata": {},
   "outputs": [
    {
     "data": {
      "text/plain": [
       "count    15729.000000\n",
       "mean        65.613707\n",
       "std         15.519773\n",
       "min         43.000000\n",
       "25%         52.000000\n",
       "50%         63.000000\n",
       "75%         78.000000\n",
       "max         98.000000\n",
       "Name: summary, dtype: float64"
      ]
     },
     "execution_count": 10,
     "metadata": {},
     "output_type": "execute_result"
    }
   ],
   "source": [
    "len_summary_half.describe()"
   ]
  },
  {
   "cell_type": "markdown",
   "metadata": {},
   "source": [
    "For summries, the central length become 65 ± 15,\n",
    "which is better for build a summarization model."
   ]
  },
  {
   "cell_type": "markdown",
   "metadata": {},
   "source": [
    "Now put transcript and summary into X and y, split it into train and test dataset.\n",
    "\n",
    "Then, split the train into train and validation dataset."
   ]
  },
  {
   "cell_type": "code",
   "execution_count": 11,
   "metadata": {},
   "outputs": [],
   "source": [
    "X=train_half['transcript']\n",
    "y=train_half['summary']"
   ]
  },
  {
   "cell_type": "code",
   "execution_count": 12,
   "metadata": {},
   "outputs": [],
   "source": [
    "np.random.seed(100)"
   ]
  },
  {
   "cell_type": "code",
   "execution_count": 13,
   "metadata": {},
   "outputs": [],
   "source": [
    "#split into train-validation and test dataset\n",
    "X_, X_test, y_, y_test = train_test_split(X,y,test_size=0.2,random_state=100)"
   ]
  },
  {
   "cell_type": "code",
   "execution_count": 14,
   "metadata": {},
   "outputs": [],
   "source": [
    "#split into train and validation dataset\n",
    "X_train, X_val, y_train, y_val = train_test_split(X_,y_,test_size=0.1,random_state=100)"
   ]
  },
  {
   "cell_type": "code",
   "execution_count": 15,
   "metadata": {},
   "outputs": [
    {
     "data": {
      "text/plain": [
       "(11324,)"
      ]
     },
     "execution_count": 15,
     "metadata": {},
     "output_type": "execute_result"
    }
   ],
   "source": [
    "X_train.shape"
   ]
  },
  {
   "cell_type": "code",
   "execution_count": 16,
   "metadata": {},
   "outputs": [
    {
     "data": {
      "text/plain": [
       "(11324,)"
      ]
     },
     "execution_count": 16,
     "metadata": {},
     "output_type": "execute_result"
    }
   ],
   "source": [
    "y_train.shape"
   ]
  },
  {
   "cell_type": "markdown",
   "metadata": {},
   "source": [
    "### Get the transcript tokens and encoder size"
   ]
  },
  {
   "cell_type": "markdown",
   "metadata": {},
   "source": [
    "For I will build RNN sequence to sequence model.\n",
    "The Architecture will be like this:\n",
    "\n",
    "<img src=\"http://drive.google.com/uc?export=view&id=14iYh3JU7OiMz2--fPFXrEiagw1juHruI\" height=400 width=600></img>\n"
   ]
  },
  {
   "cell_type": "markdown",
   "metadata": {},
   "source": [
    "The architecture seperate the input encoding and output encoding complettely.\n",
    "\n",
    "In this encoder decoder model, the encoder module that processes the input sequence to produce a single vector as a representation for the input.\n",
    "\n",
    "This vector is fed into the decodre module, which generates the output sequence in an auto-regressive fashion.\n",
    "\n",
    "And the first step output of the decoder is fed as the input of the second-step and so on."
   ]
  },
  {
   "cell_type": "markdown",
   "metadata": {},
   "source": [
    "In the RNN model I will build, a transcript will be the input sequence which will be encoder processed as a single vector later.\n",
    "\n",
    "\n",
    "Encoder model can't read raw text.\n",
    "\n",
    "First I need tokenizer my whole transcript corpus.\n",
    "\n",
    "Second I need use represent my whole transcript corpus with word tokens index.\n",
    "\n",
    "Third I need pad my document sequence, encoder model deal with the same size of document sequence.\n"
   ]
  },
  {
   "cell_type": "code",
   "execution_count": null,
   "metadata": {},
   "outputs": [],
   "source": []
  },
  {
   "cell_type": "code",
   "execution_count": null,
   "metadata": {},
   "outputs": [],
   "source": []
  },
  {
   "cell_type": "code",
   "execution_count": null,
   "metadata": {},
   "outputs": [],
   "source": []
  },
  {
   "cell_type": "code",
   "execution_count": null,
   "metadata": {},
   "outputs": [],
   "source": []
  },
  {
   "cell_type": "markdown",
   "metadata": {},
   "source": [
    "<img src=\"https://cdn.analyticsvidhya.com/wp-content/uploads/2019/05/61.jpg\" height=400 width=600></img>"
   ]
  },
  {
   "cell_type": "markdown",
   "metadata": {},
   "source": [
    "The diagram[1] above describe how encoder work. At each step, One word is fed into the encoder. At the end, the hidden state h, and the cell state c will be used to initialize the decoder.\n"
   ]
  },
  {
   "cell_type": "markdown",
   "metadata": {},
   "source": [
    "The shape of input for recurrent network will be n*q*d:\n",
    "\n",
    "n: the number of obseravation\n",
    "the number of the sequence\n",
    "\n",
    "q: the sequence length\n",
    "\n",
    "d: the number of feature for each element belong to the sequence.\n",
    "\n",
    "In my RNN model, the number of observation will be the train size\n",
    "the sequence length will be the max length of my transcripts\n",
    "the number of feature for each element will be the embeding dimension.\n",
    "\n"
   ]
  },
  {
   "cell_type": "code",
   "execution_count": null,
   "metadata": {},
   "outputs": [],
   "source": []
  },
  {
   "cell_type": "code",
   "execution_count": null,
   "metadata": {},
   "outputs": [],
   "source": []
  },
  {
   "cell_type": "code",
   "execution_count": null,
   "metadata": {},
   "outputs": [],
   "source": []
  },
  {
   "cell_type": "code",
   "execution_count": null,
   "metadata": {},
   "outputs": [],
   "source": []
  },
  {
   "cell_type": "markdown",
   "metadata": {},
   "source": [
    "Now I need explore train dataset.\n",
    "\n",
    "Check the rare words for transcripts in train dataset. How much the rare words makes up the whole corpus."
   ]
  },
  {
   "cell_type": "code",
   "execution_count": 17,
   "metadata": {},
   "outputs": [],
   "source": [
    "x_tokenizer = Tokenizer() \n",
    "x_tokenizer.fit_on_texts(X_train)"
   ]
  },
  {
   "cell_type": "code",
   "execution_count": 18,
   "metadata": {},
   "outputs": [
    {
     "name": "stdout",
     "output_type": "stream",
     "text": [
      "Percentage of rare words in summary vocabulary:58.79%\n",
      "Total Coverage of rare words for summary:0.22%\n"
     ]
    }
   ],
   "source": [
    "thresh=6 #threshold to define a rare word\n",
    "rare=0 #how many rare words in the corpus\n",
    "unique=0 # how many unique words in the corpus\n",
    "rare_freq=0 # how many times the rare words shows up\n",
    "freq = 0 # how long the whole corpus is\n",
    "for key,value in x_tokenizer.word_counts.items():\n",
    "    unique=unique+1\n",
    "    freq=freq+value\n",
    "    if(value<thresh):\n",
    "        rare=rare+1\n",
    "        rare_freq=rare_freq+value\n",
    "print(f'Percentage of rare words in summary vocabulary:{round(rare/unique*100,2)}%')\n",
    "print(f'Total Coverage of rare words for summary:{round(rare_freq/freq*100,2)}%')"
   ]
  },
  {
   "cell_type": "markdown",
   "metadata": {},
   "source": [
    "I define rare word as tokens that show up less than 6 times, in whole corpus.\n",
    "\n",
    "These kind rare words makes up 58% all tokens, but only shows up contribute to 0.23% of corpus.\n",
    "\n",
    "\n",
    "I decide to exclude all the rare words in the tokenizer by set num_words=(unique-rare),\n",
    "\n",
    "When I use function text_to_sequence, only indexes of top num_words frequent words will be returned."
   ]
  },
  {
   "cell_type": "code",
   "execution_count": 19,
   "metadata": {},
   "outputs": [],
   "source": [
    "#now I need build new tokenizer\n",
    "x_tokenizer = Tokenizer(num_words=unique-rare)\n",
    "x_tokenizer.fit_on_texts(X_train)"
   ]
  },
  {
   "cell_type": "code",
   "execution_count": 20,
   "metadata": {},
   "outputs": [],
   "source": [
    "#transform word in sentences into index of word token\n",
    "X_train_toseq = x_tokenizer.texts_to_sequences(X_train)\n",
    "#create sequence for validation set\n",
    "X_val_toseq = x_tokenizer.texts_to_sequences(X_val)"
   ]
  },
  {
   "cell_type": "code",
   "execution_count": 21,
   "metadata": {},
   "outputs": [
    {
     "data": {
      "text/plain": [
       "10030.0"
      ]
     },
     "execution_count": 21,
     "metadata": {},
     "output_type": "execute_result"
    }
   ],
   "source": [
    "#consider decrease the parameter to train, set max_x_len as quantile 75%\n",
    "np.quantile(len_transcript_half,0.75)"
   ]
  },
  {
   "cell_type": "code",
   "execution_count": 22,
   "metadata": {},
   "outputs": [],
   "source": [
    "max_x_len = 10030 #75% of the transcripts are lower than 10030 words"
   ]
  },
  {
   "cell_type": "code",
   "execution_count": 23,
   "metadata": {},
   "outputs": [],
   "source": [
    "#pading zero up tp maximum length of sequence\n",
    "X_train_pad = pad_sequences(X_train_toseq, maxlen = max_x_len, padding = 'post')\n",
    "#pading zero up tp maximum length of sequence\n",
    "X_val_pad = pad_sequences(X_val_toseq, maxlen = max_x_len, padding = 'post')"
   ]
  },
  {
   "cell_type": "code",
   "execution_count": 203,
   "metadata": {},
   "outputs": [
    {
     "data": {
      "text/plain": [
       "['x_train_pad.pkl']"
      ]
     },
     "execution_count": 203,
     "metadata": {},
     "output_type": "execute_result"
    }
   ],
   "source": [
    "joblib.dump(X_train_pad,'x_train_pad.pkl')"
   ]
  },
  {
   "cell_type": "code",
   "execution_count": 204,
   "metadata": {},
   "outputs": [
    {
     "data": {
      "text/plain": [
       "['x_val_pad.pkl']"
      ]
     },
     "execution_count": 204,
     "metadata": {},
     "output_type": "execute_result"
    }
   ],
   "source": [
    "joblib.dump(X_val_pad,'x_val_pad.pkl')"
   ]
  },
  {
   "cell_type": "code",
   "execution_count": null,
   "metadata": {},
   "outputs": [],
   "source": []
  },
  {
   "cell_type": "code",
   "execution_count": null,
   "metadata": {},
   "outputs": [],
   "source": []
  },
  {
   "cell_type": "code",
   "execution_count": null,
   "metadata": {},
   "outputs": [],
   "source": []
  },
  {
   "cell_type": "markdown",
   "metadata": {},
   "source": [
    "Now I can do the same thing to summary."
   ]
  },
  {
   "cell_type": "markdown",
   "metadata": {},
   "source": [
    "First I need add start and end to the summary."
   ]
  },
  {
   "cell_type": "markdown",
   "metadata": {},
   "source": [
    "The Diagram describe the decoder architecture, which reads the entire target sequence word by word and predicts \n",
    "the same sequence offset by one timestep.\n",
    "\n",
    "The encoder is trained to predict the next word in the sequence given the previous word.\n",
    "\n",
    "\n",
    "<img src=\"https://cdn.analyticsvidhya.com/wp-content/uploads/2019/05/71.jpg\" height=400 width=600></img>\n",
    "\n",
    "\n",
    "Start and end are the special tokens which are added to the target sequence before feeding into decoder.\n"
   ]
  },
  {
   "cell_type": "code",
   "execution_count": null,
   "metadata": {},
   "outputs": [],
   "source": []
  },
  {
   "cell_type": "code",
   "execution_count": null,
   "metadata": {},
   "outputs": [],
   "source": []
  },
  {
   "cell_type": "code",
   "execution_count": null,
   "metadata": {},
   "outputs": [],
   "source": []
  },
  {
   "cell_type": "code",
   "execution_count": null,
   "metadata": {},
   "outputs": [],
   "source": []
  },
  {
   "cell_type": "code",
   "execution_count": null,
   "metadata": {},
   "outputs": [],
   "source": []
  },
  {
   "cell_type": "code",
   "execution_count": 24,
   "metadata": {},
   "outputs": [],
   "source": [
    "#Add start and end tokens to the y_train\n",
    "y_train = y_train.apply(lambda x: 'sostok '+ x + ' eostok')\n",
    "y_val = y_val.apply(lambda x: 'sostok '+ x + ' eostok')"
   ]
  },
  {
   "cell_type": "code",
   "execution_count": 25,
   "metadata": {},
   "outputs": [
    {
     "data": {
      "text/plain": [
       "2065    sostok now, i love chinese food. i mean, who d...\n",
       "5936    sostok time blocking has practically become a ...\n",
       "1406    sostok tonight i am joined by duracell battery...\n",
       "4431    sostok please bear with us for the choppy edit...\n",
       "4764    sostok before cutting ties release their debut...\n",
       "Name: summary, dtype: object"
      ]
     },
     "execution_count": 25,
     "metadata": {},
     "output_type": "execute_result"
    }
   ],
   "source": [
    "#check the head\n",
    "y_train.head()"
   ]
  },
  {
   "cell_type": "code",
   "execution_count": 26,
   "metadata": {},
   "outputs": [
    {
     "data": {
      "text/plain": [
       "852      sostok in this episode,​ i am joined by rich r...\n",
       "4701     sostok and we are back! happy new year to you ...\n",
       "11761    sostok fresh off the packers' win over the vik...\n",
       "11475    sostok well, here it is! 2012 and all that hap...\n",
       "15712    sostok lean in as jasmine, business owner, mot...\n",
       "Name: summary, dtype: object"
      ]
     },
     "execution_count": 26,
     "metadata": {},
     "output_type": "execute_result"
    }
   ],
   "source": [
    "y_val.head()"
   ]
  },
  {
   "cell_type": "code",
   "execution_count": 27,
   "metadata": {},
   "outputs": [],
   "source": [
    "y_tokenizer = Tokenizer()   \n",
    "y_tokenizer.fit_on_texts(y_train)"
   ]
  },
  {
   "cell_type": "code",
   "execution_count": 28,
   "metadata": {},
   "outputs": [
    {
     "name": "stdout",
     "output_type": "stream",
     "text": [
      "Percentage of rare words in summary vocabulary:81.43%\n",
      "Total Coverage of rare words for summary:7.73%\n"
     ]
    }
   ],
   "source": [
    "thresh=6 #threshold to define a rare word\n",
    "rare=0 #how many rare words in the corpus\n",
    "unique=0 # how many unique words in the corpus\n",
    "rare_freq=0 # how many times the rare words shows up\n",
    "freq = 0 # how long the whole corpus is\n",
    "for key,value in y_tokenizer.word_counts.items():\n",
    "    unique=unique+1\n",
    "    freq=freq+value\n",
    "    if(value<thresh):\n",
    "        rare=rare+1\n",
    "        rare_freq=rare_freq+value\n",
    "print(f'Percentage of rare words in summary vocabulary:{round(rare/unique*100,2)}%')\n",
    "print(f'Total Coverage of rare words for summary:{round(rare_freq/freq*100,2)}%')"
   ]
  },
  {
   "cell_type": "markdown",
   "metadata": {},
   "source": [
    "For summary, the rare words take up to 81% of all tokens, but only contribute to 7% of corpus."
   ]
  },
  {
   "cell_type": "code",
   "execution_count": 29,
   "metadata": {},
   "outputs": [],
   "source": [
    "#Based on the situation, I build a new tokenizer\n",
    "y_tokenizer = Tokenizer(num_words=unique-rare)\n",
    "y_tokenizer.fit_on_texts(y_train)"
   ]
  },
  {
   "cell_type": "code",
   "execution_count": 43,
   "metadata": {},
   "outputs": [
    {
     "data": {
      "text/plain": [
       "7"
      ]
     },
     "execution_count": 43,
     "metadata": {},
     "output_type": "execute_result"
    }
   ],
   "source": [
    "y_tokenizer.word_index['sostok']"
   ]
  },
  {
   "cell_type": "code",
   "execution_count": 44,
   "metadata": {},
   "outputs": [
    {
     "data": {
      "text/plain": [
       "8"
      ]
     },
     "execution_count": 44,
     "metadata": {},
     "output_type": "execute_result"
    }
   ],
   "source": [
    "y_tokenizer.word_index['eostok']"
   ]
  },
  {
   "cell_type": "code",
   "execution_count": 45,
   "metadata": {},
   "outputs": [],
   "source": [
    "#transform word in sentences into index of word token\n",
    "y_train_toseq = y_tokenizer.texts_to_sequences(y_train)\n",
    "#create sequence for validation set\n",
    "y_val_toseq = y_tokenizer.texts_to_sequences(y_val)"
   ]
  },
  {
   "cell_type": "code",
   "execution_count": 46,
   "metadata": {},
   "outputs": [],
   "source": [
    "max_y_len = max(len_summary_half)"
   ]
  },
  {
   "cell_type": "code",
   "execution_count": 47,
   "metadata": {},
   "outputs": [
    {
     "data": {
      "text/plain": [
       "98"
      ]
     },
     "execution_count": 47,
     "metadata": {},
     "output_type": "execute_result"
    }
   ],
   "source": [
    "max_y_len"
   ]
  },
  {
   "cell_type": "code",
   "execution_count": 48,
   "metadata": {},
   "outputs": [],
   "source": [
    "#pading zero up tp maximum length of sequence\n",
    "y_train_pad = pad_sequences(y_train_toseq, maxlen = max_y_len, padding = 'post')\n",
    "#pading zero up tp maximum length of sequence\n",
    "y_val_pad = pad_sequences(y_val_toseq, maxlen = max_y_len, padding = 'post')"
   ]
  },
  {
   "cell_type": "code",
   "execution_count": null,
   "metadata": {},
   "outputs": [],
   "source": []
  },
  {
   "cell_type": "code",
   "execution_count": null,
   "metadata": {},
   "outputs": [],
   "source": []
  },
  {
   "cell_type": "code",
   "execution_count": null,
   "metadata": {},
   "outputs": [],
   "source": []
  },
  {
   "cell_type": "markdown",
   "metadata": {},
   "source": [
    "## First One LSTM layer for encoder and decoder"
   ]
  },
  {
   "cell_type": "code",
   "execution_count": 49,
   "metadata": {},
   "outputs": [
    {
     "name": "stdout",
     "output_type": "stream",
     "text": [
      "Transcripts vocabulary is 64751, Summaries vocabulary is 8395.\n"
     ]
    }
   ],
   "source": [
    "x_voc = x_tokenizer.num_words+1\n",
    "y_voc = y_tokenizer.num_words+1\n",
    "print(f'Transcripts vocabulary is {x_voc}, Summaries vocabulary is {y_voc}.')"
   ]
  },
  {
   "cell_type": "code",
   "execution_count": 50,
   "metadata": {},
   "outputs": [],
   "source": [
    "from keras import backend as K\n",
    "K.clear_session()"
   ]
  },
  {
   "cell_type": "markdown",
   "metadata": {},
   "source": [
    "For the first model,  I set dropout = 0.4, epoches = 10, and batch_size = 128 in this time."
   ]
  },
  {
   "cell_type": "code",
   "execution_count": 51,
   "metadata": {},
   "outputs": [],
   "source": [
    "\n",
    "dropout = 0.2\n",
    "epochs = 50\n",
    "batch_size = 128\n",
    "embedding_dim = 100\n",
    "latent_dim = 100"
   ]
  },
  {
   "cell_type": "code",
   "execution_count": 52,
   "metadata": {},
   "outputs": [],
   "source": [
    "\n",
    "#encoder: x input initiate\n",
    "x_in = Input(shape=(max_x_len,))\n",
    "#embedding\n",
    "layer_x_emb = Embedding(x_voc,embedding_dim,trainable=True)\n",
    "x_emb = layer_x_emb(x_in)\n",
    "##lstm\n",
    "layer_x_lstm = LSTM(latent_dim, return_sequences=True, return_state=True, dropout=dropout)\n",
    "x_out, state_h, state_c = layer_x_lstm(x_emb)"
   ]
  },
  {
   "cell_type": "code",
   "execution_count": 53,
   "metadata": {},
   "outputs": [],
   "source": [
    "#decoder\n",
    "#y input initiate\n",
    "y_in = Input(shape=(None,))\n",
    "#embedding layer\n",
    "layer_y_emb = Embedding(y_voc, embedding_dim, trainable=True)\n",
    "y_emb = layer_y_emb(y_in)\n",
    "#lstm\n",
    "layer_y_lstm = LSTM(latent_dim, return_sequences =True, return_state= True, dropout = dropout)\n",
    "y_out, y_h2,  y_c2 = layer_y_lstm(y_emb,initial_state=[state_h,state_c])\n",
    "#dense layer\n",
    "decoder_dense =  TimeDistributed(Dense(y_voc, activation='softmax'))\n",
    "y_out = decoder_dense(y_out)"
   ]
  },
  {
   "cell_type": "code",
   "execution_count": 54,
   "metadata": {},
   "outputs": [
    {
     "name": "stdout",
     "output_type": "stream",
     "text": [
      "Model: \"functional_1\"\n",
      "__________________________________________________________________________________________________\n",
      "Layer (type)                    Output Shape         Param #     Connected to                     \n",
      "==================================================================================================\n",
      "input_1 (InputLayer)            [(None, 10030)]      0                                            \n",
      "__________________________________________________________________________________________________\n",
      "input_2 (InputLayer)            [(None, None)]       0                                            \n",
      "__________________________________________________________________________________________________\n",
      "embedding (Embedding)           (None, 10030, 100)   6475100     input_1[0][0]                    \n",
      "__________________________________________________________________________________________________\n",
      "embedding_1 (Embedding)         (None, None, 100)    839500      input_2[0][0]                    \n",
      "__________________________________________________________________________________________________\n",
      "lstm (LSTM)                     [(None, 10030, 100), 80400       embedding[0][0]                  \n",
      "__________________________________________________________________________________________________\n",
      "lstm_1 (LSTM)                   [(None, None, 100),  80400       embedding_1[0][0]                \n",
      "                                                                 lstm[0][1]                       \n",
      "                                                                 lstm[0][2]                       \n",
      "__________________________________________________________________________________________________\n",
      "time_distributed (TimeDistribut (None, None, 8395)   847895      lstm_1[0][0]                     \n",
      "==================================================================================================\n",
      "Total params: 8,323,295\n",
      "Trainable params: 8,323,295\n",
      "Non-trainable params: 0\n",
      "__________________________________________________________________________________________________\n"
     ]
    }
   ],
   "source": [
    "# Compile model\n",
    "model = Model([x_in, y_in], y_out)\n",
    "# Display its summary\n",
    "model.summary()"
   ]
  },
  {
   "cell_type": "code",
   "execution_count": 55,
   "metadata": {},
   "outputs": [],
   "source": [
    "model.compile(optimizer='rmsprop', loss='sparse_categorical_crossentropy') #classifier\n",
    "es = EarlyStopping(monitor='val_loss', mode='min', verbose=1, patience=2) #epoch early stopping"
   ]
  },
  {
   "cell_type": "code",
   "execution_count": 56,
   "metadata": {},
   "outputs": [
    {
     "name": "stdout",
     "output_type": "stream",
     "text": [
      "Epoch 1/50\n",
      "89/89 [==============================] - 70s 790ms/step - loss: 5.2964 - val_loss: 4.2768\n",
      "Epoch 2/50\n",
      "89/89 [==============================] - 70s 781ms/step - loss: 4.2443 - val_loss: 4.0718\n",
      "Epoch 3/50\n",
      "89/89 [==============================] - 69s 781ms/step - loss: 4.1228 - val_loss: 3.9855\n",
      "Epoch 4/50\n",
      "89/89 [==============================] - 70s 784ms/step - loss: 4.0378 - val_loss: 3.9120\n",
      "Epoch 5/50\n",
      "89/89 [==============================] - 69s 780ms/step - loss: 3.9587 - val_loss: 3.8350\n",
      "Epoch 6/50\n",
      "89/89 [==============================] - 69s 778ms/step - loss: 3.8745 - val_loss: 3.7615\n",
      "Epoch 7/50\n",
      "89/89 [==============================] - 70s 783ms/step - loss: 3.7983 - val_loss: 3.6958\n",
      "Epoch 8/50\n",
      "89/89 [==============================] - 70s 781ms/step - loss: 3.7351 - val_loss: 3.6477\n",
      "Epoch 9/50\n",
      "89/89 [==============================] - 69s 775ms/step - loss: 3.6835 - val_loss: 3.6083\n",
      "Epoch 10/50\n",
      "89/89 [==============================] - 70s 789ms/step - loss: 3.6393 - val_loss: 3.5752\n",
      "Epoch 11/50\n",
      "89/89 [==============================] - 70s 784ms/step - loss: 3.5995 - val_loss: 3.5456\n",
      "Epoch 12/50\n",
      "89/89 [==============================] - 69s 780ms/step - loss: 3.5644 - val_loss: 3.5202\n",
      "Epoch 13/50\n",
      "89/89 [==============================] - 69s 780ms/step - loss: 3.5324 - val_loss: 3.4991\n",
      "Epoch 14/50\n",
      "89/89 [==============================] - 69s 780ms/step - loss: 3.5033 - val_loss: 3.4794\n",
      "Epoch 15/50\n",
      "89/89 [==============================] - 69s 780ms/step - loss: 3.4768 - val_loss: 3.4613\n",
      "Epoch 16/50\n",
      "89/89 [==============================] - 69s 779ms/step - loss: 3.4523 - val_loss: 3.4458\n",
      "Epoch 17/50\n",
      "89/89 [==============================] - 69s 780ms/step - loss: 3.4296 - val_loss: 3.4339\n",
      "Epoch 18/50\n",
      "89/89 [==============================] - 70s 785ms/step - loss: 3.4085 - val_loss: 3.4212\n",
      "Epoch 19/50\n",
      "89/89 [==============================] - 69s 780ms/step - loss: 3.3885 - val_loss: 3.4080\n",
      "Epoch 20/50\n",
      "89/89 [==============================] - 69s 778ms/step - loss: 3.3696 - val_loss: 3.3981\n",
      "Epoch 21/50\n",
      "89/89 [==============================] - 69s 780ms/step - loss: 3.3516 - val_loss: 3.3882\n",
      "Epoch 22/50\n",
      "89/89 [==============================] - 69s 779ms/step - loss: 3.3346 - val_loss: 3.3801\n",
      "Epoch 23/50\n",
      "89/89 [==============================] - 69s 779ms/step - loss: 3.3183 - val_loss: 3.3705\n",
      "Epoch 24/50\n",
      "89/89 [==============================] - 70s 781ms/step - loss: 3.3025 - val_loss: 3.3646\n",
      "Epoch 25/50\n",
      "89/89 [==============================] - 70s 782ms/step - loss: 3.2876 - val_loss: 3.3574\n",
      "Epoch 26/50\n",
      "89/89 [==============================] - 70s 781ms/step - loss: 3.2730 - val_loss: 3.3507\n",
      "Epoch 27/50\n",
      "89/89 [==============================] - 69s 780ms/step - loss: 3.2593 - val_loss: 3.3456\n",
      "Epoch 28/50\n",
      "89/89 [==============================] - 69s 780ms/step - loss: 3.2456 - val_loss: 3.3401\n",
      "Epoch 29/50\n",
      "89/89 [==============================] - 69s 778ms/step - loss: 3.2328 - val_loss: 3.3355\n",
      "Epoch 30/50\n",
      "89/89 [==============================] - 69s 777ms/step - loss: 3.2205 - val_loss: 3.3317\n",
      "Epoch 31/50\n",
      "89/89 [==============================] - 70s 781ms/step - loss: 3.2085 - val_loss: 3.3272\n",
      "Epoch 32/50\n",
      "89/89 [==============================] - 70s 784ms/step - loss: 3.1971 - val_loss: 3.3260\n",
      "Epoch 33/50\n",
      "89/89 [==============================] - 70s 781ms/step - loss: 3.1857 - val_loss: 3.3203\n",
      "Epoch 34/50\n",
      "89/89 [==============================] - 69s 779ms/step - loss: 3.1754 - val_loss: 3.3168\n",
      "Epoch 35/50\n",
      "89/89 [==============================] - 69s 780ms/step - loss: 3.1642 - val_loss: 3.3149\n",
      "Epoch 36/50\n",
      "89/89 [==============================] - 69s 779ms/step - loss: 3.1543 - val_loss: 3.3121\n",
      "Epoch 37/50\n",
      "89/89 [==============================] - 69s 780ms/step - loss: 3.1444 - val_loss: 3.3097\n",
      "Epoch 38/50\n",
      "89/89 [==============================] - 70s 783ms/step - loss: 3.1346 - val_loss: 3.3085\n",
      "Epoch 39/50\n",
      "89/89 [==============================] - 70s 784ms/step - loss: 3.1255 - val_loss: 3.3093\n",
      "Epoch 40/50\n",
      "89/89 [==============================] - 69s 780ms/step - loss: 3.1167 - val_loss: 3.3051\n",
      "Epoch 41/50\n",
      "89/89 [==============================] - 69s 779ms/step - loss: 3.1076 - val_loss: 3.3039\n",
      "Epoch 42/50\n",
      "89/89 [==============================] - 69s 780ms/step - loss: 3.0990 - val_loss: 3.3016\n",
      "Epoch 43/50\n",
      "89/89 [==============================] - 70s 782ms/step - loss: 3.0908 - val_loss: 3.3014\n",
      "Epoch 44/50\n",
      "89/89 [==============================] - 69s 779ms/step - loss: 3.0823 - val_loss: 3.3016\n",
      "Epoch 45/50\n",
      "89/89 [==============================] - 69s 780ms/step - loss: 3.0746 - val_loss: 3.3004\n",
      "Epoch 46/50\n",
      "89/89 [==============================] - 70s 786ms/step - loss: 3.0669 - val_loss: 3.2995\n",
      "Epoch 47/50\n",
      "89/89 [==============================] - 70s 782ms/step - loss: 3.0587 - val_loss: 3.2996\n",
      "Epoch 48/50\n",
      "89/89 [==============================] - 69s 780ms/step - loss: 3.0513 - val_loss: 3.3001\n",
      "Epoch 00048: early stopping\n"
     ]
    }
   ],
   "source": [
    "history=model.fit([X_train_pad,y_train_pad[:,:-1]],\\\n",
    "                  y_train_pad.reshape(y_train_pad.shape[0],y_train_pad.shape[1], 1)[:,1:] ,\\\n",
    "                  epochs=epochs,\\\n",
    "                  callbacks=[es],\\\n",
    "                  batch_size=batch_size, \\\n",
    "                  validation_data=([X_val_pad,y_val_pad[:,:-1]], \\\n",
    "                                   y_val_pad.reshape(y_val_pad.shape[0],y_val_pad.shape[1], 1)[:,1:]))"
   ]
  },
  {
   "cell_type": "code",
   "execution_count": 57,
   "metadata": {},
   "outputs": [
    {
     "data": {
      "image/png": "[encoded data removed]",
      "text/plain": [
       "<Figure size 432x288 with 1 Axes>"
      ]
     },
     "metadata": {
      "needs_background": "light"
     },
     "output_type": "display_data"
    }
   ],
   "source": [
    "plt.plot(history.history['loss'], label='train') \n",
    "plt.plot(history.history['val_loss'], label='test') \n",
    "plt.xlabel('Epoch')\n",
    "plt.ylabel('Val_loss')\n",
    "plt.title('The Val_loss by every epoch')\n",
    "plt.legend() \n",
    "plt.show()"
   ]
  },
  {
   "cell_type": "markdown",
   "metadata": {},
   "source": [
    "## Build the First Inference model"
   ]
  },
  {
   "cell_type": "code",
   "execution_count": 58,
   "metadata": {},
   "outputs": [],
   "source": [
    "x_index_word = x_tokenizer.index_word\n",
    "y_index_word = y_tokenizer.index_word\n",
    "y_word_index = y_tokenizer.word_index"
   ]
  },
  {
   "cell_type": "code",
   "execution_count": 59,
   "metadata": {},
   "outputs": [
    {
     "name": "stdout",
     "output_type": "stream",
     "text": [
      "Model: \"functional_3\"\n",
      "_________________________________________________________________\n",
      "Layer (type)                 Output Shape              Param #   \n",
      "=================================================================\n",
      "input_1 (InputLayer)         [(None, 10030)]           0         \n",
      "_________________________________________________________________\n",
      "embedding (Embedding)        (None, 10030, 100)        6475100   \n",
      "_________________________________________________________________\n",
      "lstm (LSTM)                  [(None, 10030, 100), (Non 80400     \n",
      "=================================================================\n",
      "Total params: 6,555,500\n",
      "Trainable params: 6,555,500\n",
      "Non-trainable params: 0\n",
      "_________________________________________________________________\n"
     ]
    }
   ],
   "source": [
    "#encoder inference\n",
    "encoder_model = Model(inputs = x_in, outputs = [x_out, state_h, state_c])\n",
    "encoder_model.summary()"
   ]
  },
  {
   "cell_type": "code",
   "execution_count": 61,
   "metadata": {},
   "outputs": [
    {
     "name": "stdout",
     "output_type": "stream",
     "text": [
      "WARNING:tensorflow:From /usr/lib/python3/dist-packages/tensorflow/python/training/tracking/tracking.py:111: Model.state_updates (from tensorflow.python.keras.engine.training) is deprecated and will be removed in a future version.\n",
      "Instructions for updating:\n",
      "This property should not be used in TensorFlow 2.0, as updates are applied automatically.\n",
      "WARNING:tensorflow:From /usr/lib/python3/dist-packages/tensorflow/python/training/tracking/tracking.py:111: Layer.updates (from tensorflow.python.keras.engine.base_layer) is deprecated and will be removed in a future version.\n",
      "Instructions for updating:\n",
      "This property should not be used in TensorFlow 2.0, as updates are applied automatically.\n",
      "INFO:tensorflow:Assets written to: en1/assets\n"
     ]
    }
   ],
   "source": [
    "encoder_model.save('en1')"
   ]
  },
  {
   "cell_type": "code",
   "execution_count": 62,
   "metadata": {},
   "outputs": [
    {
     "name": "stdout",
     "output_type": "stream",
     "text": [
      "Model: \"functional_5\"\n",
      "__________________________________________________________________________________________________\n",
      "Layer (type)                    Output Shape         Param #     Connected to                     \n",
      "==================================================================================================\n",
      "input_2 (InputLayer)            [(None, None)]       0                                            \n",
      "__________________________________________________________________________________________________\n",
      "embedding_1 (Embedding)         (None, None, 100)    839500      input_2[0][0]                    \n",
      "__________________________________________________________________________________________________\n",
      "input_4 (InputLayer)            [(None, 100)]        0                                            \n",
      "__________________________________________________________________________________________________\n",
      "input_5 (InputLayer)            [(None, 100)]        0                                            \n",
      "__________________________________________________________________________________________________\n",
      "lstm_1 (LSTM)                   [(None, None, 100),  80400       embedding_1[1][0]                \n",
      "                                                                 input_4[0][0]                    \n",
      "                                                                 input_5[0][0]                    \n",
      "__________________________________________________________________________________________________\n",
      "input_3 (InputLayer)            [(None, 10030, 100)] 0                                            \n",
      "__________________________________________________________________________________________________\n",
      "time_distributed (TimeDistribut (None, None, 8395)   847895      lstm_1[1][0]                     \n",
      "==================================================================================================\n",
      "Total params: 1,767,795\n",
      "Trainable params: 1,767,795\n",
      "Non-trainable params: 0\n",
      "__________________________________________________________________________________________________\n"
     ]
    }
   ],
   "source": [
    "# decoder inference\n",
    "\n",
    "encoder_out = Input(shape=(max_x_len,latent_dim))                 \n",
    "decoder_state_h = Input(shape=(latent_dim,))\n",
    "decoder_state_c = Input(shape=(latent_dim,))\n",
    "                               \n",
    "# decoder embedding                \n",
    "dec_emb = layer_y_emb(y_in)\n",
    "                \n",
    "#lstm to predict the next word                \n",
    "dec_out2, dec_state_h2, dec_state_c2 = layer_y_lstm(dec_emb, initial_state = [decoder_state_h, decoder_state_c])\n",
    "                \n",
    "#use softmax to generate probability over vocabular\n",
    "probas = decoder_dense(dec_out2)\n",
    "                \n",
    "#compile\n",
    "decoder_model = Model(inputs=[y_in, encoder_out, decoder_state_h, decoder_state_c], outputs=[probas, dec_state_h2, dec_state_c2])\n",
    "decoder_model.summary()"
   ]
  },
  {
   "cell_type": "code",
   "execution_count": 63,
   "metadata": {},
   "outputs": [
    {
     "name": "stdout",
     "output_type": "stream",
     "text": [
      "INFO:tensorflow:Assets written to: de1/assets\n"
     ]
    }
   ],
   "source": [
    "decoder_model.save('de1')"
   ]
  },
  {
   "cell_type": "code",
   "execution_count": 64,
   "metadata": {},
   "outputs": [],
   "source": [
    "# # predict for one test pad\n",
    "def decode_padding(x):\n",
    "    x=x.reshape(1,max_x_len)\n",
    "    #encoder X\n",
    "    e_out, e_state_h, e_state_c = encoder_model.predict(x)\n",
    "    #The word feed in \n",
    "    target_seq = np.array([y_word_index['sostok']])\n",
    "    predicted_text=\"\"\n",
    "    stop = False\n",
    "\n",
    "    while not stop:\n",
    "        #predict the dictionary probability\n",
    "        tokens, new_state_h, new_state_c = decoder_model.predict([target_seq, e_out, e_state_h, e_state_c])\n",
    "        #get predict word\n",
    "        voc_idx = np.argmax(tokens[0,-1,:])\n",
    "        pred_word = y_index_word[voc_idx]\n",
    "\n",
    "        #check the stop\n",
    "        if (pred_word != 'eostok') and (len(predicted_text.split()) < max_y_len):\n",
    "            predicted_text = predicted_text + \" \" + pred_word\n",
    "        else:\n",
    "            stop=True\n",
    "        #next\n",
    "        target_seq = np.array([voc_idx])\n",
    "        e_state_h, e_state_c = new_state_h, new_state_c\n",
    "    return predicted_text"
   ]
  },
  {
   "cell_type": "code",
   "execution_count": 70,
   "metadata": {},
   "outputs": [
    {
     "data": {
      "text/plain": [
       "' in this episode we talk about the importance of the and the most important things we have learned from the world of the world and how to make it and how to do we have to do we have to do we have to do we have to do we have to do we have to do we have to do we have to do we have to do we have to do we have to do we have to do we have to do we have to do we have to do we have to do we'"
      ]
     },
     "execution_count": 70,
     "metadata": {},
     "output_type": "execute_result"
    }
   ],
   "source": [
    "decode_padding(X_val_pad[900])"
   ]
  },
  {
   "cell_type": "code",
   "execution_count": null,
   "metadata": {},
   "outputs": [],
   "source": [
    "y_test[900]"
   ]
  },
  {
   "cell_type": "markdown",
   "metadata": {},
   "source": [
    "From the summary generated, I know basically the encoder and decoder layer didn't learn much through the training phase, All the predicted summary are basic the same and basically not related to original summary.\n",
    "\n",
    "Based on the situation, I go through some paper, I found out LSTMs work well if the problem has one output for every input, like time series foresting or text translation.\n",
    "\n",
    "LSTMs can be chanllenging to use, when the input sequences are very long and the outputs are much shorter, which exactly is in our case.\n",
    "\n",
    "I decide manually truncate it to half the size."
   ]
  },
  {
   "cell_type": "code",
   "execution_count": null,
   "metadata": {},
   "outputs": [],
   "source": [
    "# x_voc = \n",
    "# y_voc =\n",
    "max_x_len = 5000\n",
    "max_y_len = 100"
   ]
  },
  {
   "cell_type": "code",
   "execution_count": null,
   "metadata": {},
   "outputs": [],
   "source": []
  },
  {
   "cell_type": "code",
   "execution_count": 73,
   "metadata": {},
   "outputs": [],
   "source": []
  },
  {
   "cell_type": "markdown",
   "metadata": {},
   "source": [
    "### Some hyperparameter tuning And Normalization layers.\n",
    "\n",
    "Try to run 50 epochs, Decrease batch_size to 64, and change the dropout as 0.4 and also I add recurrent_regularizer=regularizers.l2(0.01).\n",
    "\n",
    "And I add Four batch normalization layers."
   ]
  },
  {
   "cell_type": "code",
   "execution_count": 90,
   "metadata": {},
   "outputs": [],
   "source": []
  },
  {
   "cell_type": "code",
   "execution_count": 74,
   "metadata": {},
   "outputs": [],
   "source": [
    "dropout = 0.4\n",
    "epochs = 50\n",
    "batch_size = 128\n",
    "embedding_dim = 100 #decrease embedding dimension will decrease running time\n",
    "latent_dim = 100"
   ]
  },
  {
   "cell_type": "code",
   "execution_count": 75,
   "metadata": {},
   "outputs": [],
   "source": [
    "from keras import backend as K\n",
    "from keras import regularizers\n",
    "import tensorflow as tf\n",
    "K.clear_session()"
   ]
  },
  {
   "cell_type": "code",
   "execution_count": 76,
   "metadata": {},
   "outputs": [],
   "source": [
    "\n",
    "#And batch normalization \n",
    "bn1 = BatchNormalization()\n",
    "bn2 = BatchNormalization()\n",
    "\n",
    "#encoder\n",
    "x_in = Input(shape=(max_x_len,))\n",
    "\n",
    "#embedding\n",
    "layer_x_emb = Embedding(x_voc,embedding_dim,trainable=True)\n",
    "x_emb = layer_x_emb(x_in)\n",
    "x_emb = bn1(x_emb)\n",
    "\n",
    "##lstm\n",
    "layer_x_lstm = LSTM(latent_dim, return_sequences=True, return_state=True, dropout=dropout, recurrent_regularizer=regularizers.l2(0.01))\n",
    "x_out, state_h, state_c = layer_x_lstm(x_emb)\n",
    "x_out = bn2(x_out)\n",
    "\n",
    "#decoder\n",
    "#And batch normalization \n",
    "bn3 = BatchNormalization()\n",
    "bn4 = BatchNormalization()\n",
    "\n",
    "#\n",
    "y_in = Input(shape=(None,))\n",
    "\n",
    "#embedding layer\n",
    "layer_y_emb = Embedding(y_voc, embedding_dim, trainable=True)\n",
    "\n",
    "y_emb = layer_y_emb(y_in)\n",
    "y_emb = bn3(y_emb)\n",
    "\n",
    "#lstm\n",
    "layer_y_lstm = LSTM(latent_dim, return_sequences =True, return_state= True, dropout = dropout, recurrent_regularizer=regularizers.l2(0.01))\n",
    "\n",
    "y_out, y_h,  y_c = layer_y_lstm(y_emb,initial_state=[state_h,state_c])\n",
    "\n",
    "#dense layer\n",
    "decoder_dense =  TimeDistributed(Dense(y_voc, activation='softmax'))\n",
    "\n",
    "y_out = bn4(y_out)\n",
    "y_out = decoder_dense(y_out)"
   ]
  },
  {
   "cell_type": "code",
   "execution_count": 77,
   "metadata": {},
   "outputs": [
    {
     "name": "stdout",
     "output_type": "stream",
     "text": [
      "Model: \"functional_1\"\n",
      "__________________________________________________________________________________________________\n",
      "Layer (type)                    Output Shape         Param #     Connected to                     \n",
      "==================================================================================================\n",
      "input_1 (InputLayer)            [(None, 5000)]       0                                            \n",
      "__________________________________________________________________________________________________\n",
      "input_2 (InputLayer)            [(None, None)]       0                                            \n",
      "__________________________________________________________________________________________________\n",
      "embedding (Embedding)           (None, 5000, 100)    6475100     input_1[0][0]                    \n",
      "__________________________________________________________________________________________________\n",
      "embedding_1 (Embedding)         (None, None, 100)    839500      input_2[0][0]                    \n",
      "__________________________________________________________________________________________________\n",
      "batch_normalization (BatchNorma (None, 5000, 100)    400         embedding[0][0]                  \n",
      "__________________________________________________________________________________________________\n",
      "batch_normalization_2 (BatchNor (None, None, 100)    400         embedding_1[0][0]                \n",
      "__________________________________________________________________________________________________\n",
      "lstm (LSTM)                     [(None, 5000, 100),  80400       batch_normalization[0][0]        \n",
      "__________________________________________________________________________________________________\n",
      "lstm_1 (LSTM)                   [(None, None, 100),  80400       batch_normalization_2[0][0]      \n",
      "                                                                 lstm[0][1]                       \n",
      "                                                                 lstm[0][2]                       \n",
      "__________________________________________________________________________________________________\n",
      "batch_normalization_3 (BatchNor (None, None, 100)    400         lstm_1[0][0]                     \n",
      "__________________________________________________________________________________________________\n",
      "time_distributed (TimeDistribut (None, None, 8395)   847895      batch_normalization_3[0][0]      \n",
      "==================================================================================================\n",
      "Total params: 8,324,495\n",
      "Trainable params: 8,323,895\n",
      "Non-trainable params: 600\n",
      "__________________________________________________________________________________________________\n"
     ]
    }
   ],
   "source": [
    "# Compile model\n",
    "model = Model([x_in, y_in], y_out)\n",
    "# Display its summary\n",
    "model.summary()"
   ]
  },
  {
   "cell_type": "code",
   "execution_count": 78,
   "metadata": {},
   "outputs": [],
   "source": [
    "model.compile(optimizer='rmsprop', loss='sparse_categorical_crossentropy')\n",
    "checkpoint_filepath='./checkpoint1/'\n",
    "model_checkpoint_callback = tf.keras.callbacks.ModelCheckpoint(\n",
    "    filepath=checkpoint_filepath,\n",
    "    save_weights_only=True,\n",
    "    monitor='val_loss',\n",
    "    mode='min',\n",
    "    save_best_only=True)"
   ]
  },
  {
   "cell_type": "code",
   "execution_count": 79,
   "metadata": {},
   "outputs": [
    {
     "name": "stdout",
     "output_type": "stream",
     "text": [
      "Epoch 1/50\n",
      "WARNING:tensorflow:Model was constructed with shape (None, 5000) for input Tensor(\"input_1:0\", shape=(None, 5000), dtype=float32), but it was called on an input with incompatible shape (None, 10030).\n",
      "WARNING:tensorflow:Model was constructed with shape (None, 5000) for input Tensor(\"input_1:0\", shape=(None, 5000), dtype=float32), but it was called on an input with incompatible shape (None, 10030).\n",
      "89/89 [==============================] - ETA: 0s - loss: 5.8680WARNING:tensorflow:Model was constructed with shape (None, 5000) for input Tensor(\"input_1:0\", shape=(None, 5000), dtype=float32), but it was called on an input with incompatible shape (None, 10030).\n",
      "89/89 [==============================] - 72s 811ms/step - loss: 5.8680 - val_loss: 8.2115\n",
      "Epoch 2/50\n",
      "89/89 [==============================] - 71s 801ms/step - loss: 3.9360 - val_loss: 7.6508\n",
      "Epoch 3/50\n",
      "89/89 [==============================] - 72s 804ms/step - loss: 3.6727 - val_loss: 5.6649\n",
      "Epoch 4/50\n",
      "89/89 [==============================] - 72s 807ms/step - loss: 3.5534 - val_loss: 4.0789\n",
      "Epoch 5/50\n",
      "89/89 [==============================] - 72s 804ms/step - loss: 3.4738 - val_loss: 3.6650\n",
      "Epoch 6/50\n",
      "89/89 [==============================] - 71s 801ms/step - loss: 3.4142 - val_loss: 3.4579\n",
      "Epoch 7/50\n",
      "89/89 [==============================] - 72s 804ms/step - loss: 3.3666 - val_loss: 3.3748\n",
      "Epoch 8/50\n",
      "89/89 [==============================] - 71s 803ms/step - loss: 3.3248 - val_loss: 3.3368\n",
      "Epoch 9/50\n",
      "89/89 [==============================] - 71s 801ms/step - loss: 3.2916 - val_loss: 3.3308\n",
      "Epoch 10/50\n",
      "89/89 [==============================] - 72s 807ms/step - loss: 3.2606 - val_loss: 3.2979\n",
      "Epoch 11/50\n",
      "89/89 [==============================] - 71s 798ms/step - loss: 3.2342 - val_loss: 3.3096\n",
      "Epoch 12/50\n",
      "89/89 [==============================] - 71s 798ms/step - loss: 3.2103 - val_loss: 3.3065\n",
      "Epoch 13/50\n",
      "89/89 [==============================] - 71s 796ms/step - loss: 3.1874 - val_loss: 3.2982\n",
      "Epoch 14/50\n",
      "89/89 [==============================] - 71s 802ms/step - loss: 3.1692 - val_loss: 3.2904\n",
      "Epoch 15/50\n",
      "89/89 [==============================] - 71s 803ms/step - loss: 3.1508 - val_loss: 3.2854\n",
      "Epoch 16/50\n",
      "89/89 [==============================] - 71s 801ms/step - loss: 3.1345 - val_loss: 3.3079\n",
      "Epoch 17/50\n",
      "89/89 [==============================] - 71s 799ms/step - loss: 3.1192 - val_loss: 3.2878\n",
      "Epoch 18/50\n",
      "89/89 [==============================] - 71s 797ms/step - loss: 3.1049 - val_loss: 3.2875\n",
      "Epoch 19/50\n",
      "89/89 [==============================] - 71s 799ms/step - loss: 3.0921 - val_loss: 3.3058\n",
      "Epoch 20/50\n",
      "89/89 [==============================] - 71s 800ms/step - loss: 3.0776 - val_loss: 3.2895\n",
      "Epoch 21/50\n",
      "89/89 [==============================] - 71s 801ms/step - loss: 3.0672 - val_loss: 3.2853\n",
      "Epoch 22/50\n",
      "89/89 [==============================] - 71s 799ms/step - loss: 3.0557 - val_loss: 3.2847\n",
      "Epoch 23/50\n",
      "42/89 [=============>................] - ETA: 35s - loss: 3.0343"
     ]
    },
    {
     "ename": "KeyboardInterrupt",
     "evalue": "",
     "output_type": "error",
     "traceback": [
      "\u001b[0;31m---------------------------------------------------------------------------\u001b[0m",
      "\u001b[0;31mKeyboardInterrupt\u001b[0m                         Traceback (most recent call last)",
      "\u001b[0;32m<ipython-input-79-7dd7801028dc>\u001b[0m in \u001b[0;36m<module>\u001b[0;34m\u001b[0m\n\u001b[0;32m----> 1\u001b[0;31m history=model.fit([X_train_pad,y_train_pad[:,:-1]],\\\n\u001b[0m\u001b[1;32m      2\u001b[0m                   \u001b[0my_train_pad\u001b[0m\u001b[0;34m.\u001b[0m\u001b[0mreshape\u001b[0m\u001b[0;34m(\u001b[0m\u001b[0my_train_pad\u001b[0m\u001b[0;34m.\u001b[0m\u001b[0mshape\u001b[0m\u001b[0;34m[\u001b[0m\u001b[0;36m0\u001b[0m\u001b[0;34m]\u001b[0m\u001b[0;34m,\u001b[0m\u001b[0my_train_pad\u001b[0m\u001b[0;34m.\u001b[0m\u001b[0mshape\u001b[0m\u001b[0;34m[\u001b[0m\u001b[0;36m1\u001b[0m\u001b[0;34m]\u001b[0m\u001b[0;34m,\u001b[0m \u001b[0;36m1\u001b[0m\u001b[0;34m)\u001b[0m\u001b[0;34m[\u001b[0m\u001b[0;34m:\u001b[0m\u001b[0;34m,\u001b[0m\u001b[0;36m1\u001b[0m\u001b[0;34m:\u001b[0m\u001b[0;34m]\u001b[0m \u001b[0;34m,\u001b[0m\u001b[0;31m\\\u001b[0m\u001b[0;34m\u001b[0m\u001b[0;34m\u001b[0m\u001b[0m\n\u001b[1;32m      3\u001b[0m                   \u001b[0mepochs\u001b[0m\u001b[0;34m=\u001b[0m\u001b[0mepochs\u001b[0m\u001b[0;34m,\u001b[0m\u001b[0;31m\\\u001b[0m\u001b[0;34m\u001b[0m\u001b[0;34m\u001b[0m\u001b[0m\n\u001b[1;32m      4\u001b[0m                   \u001b[0mcallbacks\u001b[0m\u001b[0;34m=\u001b[0m\u001b[0;34m[\u001b[0m\u001b[0mmodel_checkpoint_callback\u001b[0m\u001b[0;34m]\u001b[0m\u001b[0;34m,\u001b[0m\u001b[0;31m\\\u001b[0m\u001b[0;34m\u001b[0m\u001b[0;34m\u001b[0m\u001b[0m\n\u001b[1;32m      5\u001b[0m                   \u001b[0mbatch_size\u001b[0m\u001b[0;34m=\u001b[0m\u001b[0mbatch_size\u001b[0m \u001b[0;34m,\u001b[0m\u001b[0;31m \u001b[0m\u001b[0;31m\\\u001b[0m\u001b[0;34m\u001b[0m\u001b[0;34m\u001b[0m\u001b[0m\n",
      "\u001b[0;32m/usr/lib/python3/dist-packages/tensorflow/python/keras/engine/training.py\u001b[0m in \u001b[0;36m_method_wrapper\u001b[0;34m(self, *args, **kwargs)\u001b[0m\n\u001b[1;32m    106\u001b[0m   \u001b[0;32mdef\u001b[0m \u001b[0m_method_wrapper\u001b[0m\u001b[0;34m(\u001b[0m\u001b[0mself\u001b[0m\u001b[0;34m,\u001b[0m \u001b[0;34m*\u001b[0m\u001b[0margs\u001b[0m\u001b[0;34m,\u001b[0m \u001b[0;34m**\u001b[0m\u001b[0mkwargs\u001b[0m\u001b[0;34m)\u001b[0m\u001b[0;34m:\u001b[0m\u001b[0;34m\u001b[0m\u001b[0;34m\u001b[0m\u001b[0m\n\u001b[1;32m    107\u001b[0m     \u001b[0;32mif\u001b[0m \u001b[0;32mnot\u001b[0m \u001b[0mself\u001b[0m\u001b[0;34m.\u001b[0m\u001b[0m_in_multi_worker_mode\u001b[0m\u001b[0;34m(\u001b[0m\u001b[0;34m)\u001b[0m\u001b[0;34m:\u001b[0m  \u001b[0;31m# pylint: disable=protected-access\u001b[0m\u001b[0;34m\u001b[0m\u001b[0;34m\u001b[0m\u001b[0m\n\u001b[0;32m--> 108\u001b[0;31m       \u001b[0;32mreturn\u001b[0m \u001b[0mmethod\u001b[0m\u001b[0;34m(\u001b[0m\u001b[0mself\u001b[0m\u001b[0;34m,\u001b[0m \u001b[0;34m*\u001b[0m\u001b[0margs\u001b[0m\u001b[0;34m,\u001b[0m \u001b[0;34m**\u001b[0m\u001b[0mkwargs\u001b[0m\u001b[0;34m)\u001b[0m\u001b[0;34m\u001b[0m\u001b[0;34m\u001b[0m\u001b[0m\n\u001b[0m\u001b[1;32m    109\u001b[0m \u001b[0;34m\u001b[0m\u001b[0m\n\u001b[1;32m    110\u001b[0m     \u001b[0;31m# Running inside `run_distribute_coordinator` already.\u001b[0m\u001b[0;34m\u001b[0m\u001b[0;34m\u001b[0m\u001b[0;34m\u001b[0m\u001b[0m\n",
      "\u001b[0;32m/usr/lib/python3/dist-packages/tensorflow/python/keras/engine/training.py\u001b[0m in \u001b[0;36mfit\u001b[0;34m(self, x, y, batch_size, epochs, verbose, callbacks, validation_split, validation_data, shuffle, class_weight, sample_weight, initial_epoch, steps_per_epoch, validation_steps, validation_batch_size, validation_freq, max_queue_size, workers, use_multiprocessing)\u001b[0m\n\u001b[1;32m   1096\u001b[0m                 batch_size=batch_size):\n\u001b[1;32m   1097\u001b[0m               \u001b[0mcallbacks\u001b[0m\u001b[0;34m.\u001b[0m\u001b[0mon_train_batch_begin\u001b[0m\u001b[0;34m(\u001b[0m\u001b[0mstep\u001b[0m\u001b[0;34m)\u001b[0m\u001b[0;34m\u001b[0m\u001b[0;34m\u001b[0m\u001b[0m\n\u001b[0;32m-> 1098\u001b[0;31m               \u001b[0mtmp_logs\u001b[0m \u001b[0;34m=\u001b[0m \u001b[0mtrain_function\u001b[0m\u001b[0;34m(\u001b[0m\u001b[0miterator\u001b[0m\u001b[0;34m)\u001b[0m\u001b[0;34m\u001b[0m\u001b[0;34m\u001b[0m\u001b[0m\n\u001b[0m\u001b[1;32m   1099\u001b[0m               \u001b[0;32mif\u001b[0m \u001b[0mdata_handler\u001b[0m\u001b[0;34m.\u001b[0m\u001b[0mshould_sync\u001b[0m\u001b[0;34m:\u001b[0m\u001b[0;34m\u001b[0m\u001b[0;34m\u001b[0m\u001b[0m\n\u001b[1;32m   1100\u001b[0m                 \u001b[0mcontext\u001b[0m\u001b[0;34m.\u001b[0m\u001b[0masync_wait\u001b[0m\u001b[0;34m(\u001b[0m\u001b[0;34m)\u001b[0m\u001b[0;34m\u001b[0m\u001b[0;34m\u001b[0m\u001b[0m\n",
      "\u001b[0;32m/usr/lib/python3/dist-packages/tensorflow/python/eager/def_function.py\u001b[0m in \u001b[0;36m__call__\u001b[0;34m(self, *args, **kwds)\u001b[0m\n\u001b[1;32m    778\u001b[0m       \u001b[0;32melse\u001b[0m\u001b[0;34m:\u001b[0m\u001b[0;34m\u001b[0m\u001b[0;34m\u001b[0m\u001b[0m\n\u001b[1;32m    779\u001b[0m         \u001b[0mcompiler\u001b[0m \u001b[0;34m=\u001b[0m \u001b[0;34m\"nonXla\"\u001b[0m\u001b[0;34m\u001b[0m\u001b[0;34m\u001b[0m\u001b[0m\n\u001b[0;32m--> 780\u001b[0;31m         \u001b[0mresult\u001b[0m \u001b[0;34m=\u001b[0m \u001b[0mself\u001b[0m\u001b[0;34m.\u001b[0m\u001b[0m_call\u001b[0m\u001b[0;34m(\u001b[0m\u001b[0;34m*\u001b[0m\u001b[0margs\u001b[0m\u001b[0;34m,\u001b[0m \u001b[0;34m**\u001b[0m\u001b[0mkwds\u001b[0m\u001b[0;34m)\u001b[0m\u001b[0;34m\u001b[0m\u001b[0;34m\u001b[0m\u001b[0m\n\u001b[0m\u001b[1;32m    781\u001b[0m \u001b[0;34m\u001b[0m\u001b[0m\n\u001b[1;32m    782\u001b[0m       \u001b[0mnew_tracing_count\u001b[0m \u001b[0;34m=\u001b[0m \u001b[0mself\u001b[0m\u001b[0;34m.\u001b[0m\u001b[0m_get_tracing_count\u001b[0m\u001b[0;34m(\u001b[0m\u001b[0;34m)\u001b[0m\u001b[0;34m\u001b[0m\u001b[0;34m\u001b[0m\u001b[0m\n",
      "\u001b[0;32m/usr/lib/python3/dist-packages/tensorflow/python/eager/def_function.py\u001b[0m in \u001b[0;36m_call\u001b[0;34m(self, *args, **kwds)\u001b[0m\n\u001b[1;32m    805\u001b[0m       \u001b[0;31m# In this case we have created variables on the first call, so we run the\u001b[0m\u001b[0;34m\u001b[0m\u001b[0;34m\u001b[0m\u001b[0;34m\u001b[0m\u001b[0m\n\u001b[1;32m    806\u001b[0m       \u001b[0;31m# defunned version which is guaranteed to never create variables.\u001b[0m\u001b[0;34m\u001b[0m\u001b[0;34m\u001b[0m\u001b[0;34m\u001b[0m\u001b[0m\n\u001b[0;32m--> 807\u001b[0;31m       \u001b[0;32mreturn\u001b[0m \u001b[0mself\u001b[0m\u001b[0;34m.\u001b[0m\u001b[0m_stateless_fn\u001b[0m\u001b[0;34m(\u001b[0m\u001b[0;34m*\u001b[0m\u001b[0margs\u001b[0m\u001b[0;34m,\u001b[0m \u001b[0;34m**\u001b[0m\u001b[0mkwds\u001b[0m\u001b[0;34m)\u001b[0m  \u001b[0;31m# pylint: disable=not-callable\u001b[0m\u001b[0;34m\u001b[0m\u001b[0;34m\u001b[0m\u001b[0m\n\u001b[0m\u001b[1;32m    808\u001b[0m     \u001b[0;32melif\u001b[0m \u001b[0mself\u001b[0m\u001b[0;34m.\u001b[0m\u001b[0m_stateful_fn\u001b[0m \u001b[0;32mis\u001b[0m \u001b[0;32mnot\u001b[0m \u001b[0;32mNone\u001b[0m\u001b[0;34m:\u001b[0m\u001b[0;34m\u001b[0m\u001b[0;34m\u001b[0m\u001b[0m\n\u001b[1;32m    809\u001b[0m       \u001b[0;31m# Release the lock early so that multiple threads can perform the call\u001b[0m\u001b[0;34m\u001b[0m\u001b[0;34m\u001b[0m\u001b[0;34m\u001b[0m\u001b[0m\n",
      "\u001b[0;32m/usr/lib/python3/dist-packages/tensorflow/python/eager/function.py\u001b[0m in \u001b[0;36m__call__\u001b[0;34m(self, *args, **kwargs)\u001b[0m\n\u001b[1;32m   2827\u001b[0m     \u001b[0;32mwith\u001b[0m \u001b[0mself\u001b[0m\u001b[0;34m.\u001b[0m\u001b[0m_lock\u001b[0m\u001b[0;34m:\u001b[0m\u001b[0;34m\u001b[0m\u001b[0;34m\u001b[0m\u001b[0m\n\u001b[1;32m   2828\u001b[0m       \u001b[0mgraph_function\u001b[0m\u001b[0;34m,\u001b[0m \u001b[0margs\u001b[0m\u001b[0;34m,\u001b[0m \u001b[0mkwargs\u001b[0m \u001b[0;34m=\u001b[0m \u001b[0mself\u001b[0m\u001b[0;34m.\u001b[0m\u001b[0m_maybe_define_function\u001b[0m\u001b[0;34m(\u001b[0m\u001b[0margs\u001b[0m\u001b[0;34m,\u001b[0m \u001b[0mkwargs\u001b[0m\u001b[0;34m)\u001b[0m\u001b[0;34m\u001b[0m\u001b[0;34m\u001b[0m\u001b[0m\n\u001b[0;32m-> 2829\u001b[0;31m     \u001b[0;32mreturn\u001b[0m \u001b[0mgraph_function\u001b[0m\u001b[0;34m.\u001b[0m\u001b[0m_filtered_call\u001b[0m\u001b[0;34m(\u001b[0m\u001b[0margs\u001b[0m\u001b[0;34m,\u001b[0m \u001b[0mkwargs\u001b[0m\u001b[0;34m)\u001b[0m  \u001b[0;31m# pylint: disable=protected-access\u001b[0m\u001b[0;34m\u001b[0m\u001b[0;34m\u001b[0m\u001b[0m\n\u001b[0m\u001b[1;32m   2830\u001b[0m \u001b[0;34m\u001b[0m\u001b[0m\n\u001b[1;32m   2831\u001b[0m   \u001b[0;34m@\u001b[0m\u001b[0mproperty\u001b[0m\u001b[0;34m\u001b[0m\u001b[0;34m\u001b[0m\u001b[0m\n",
      "\u001b[0;32m/usr/lib/python3/dist-packages/tensorflow/python/eager/function.py\u001b[0m in \u001b[0;36m_filtered_call\u001b[0;34m(self, args, kwargs, cancellation_manager)\u001b[0m\n\u001b[1;32m   1841\u001b[0m       \u001b[0;31m`\u001b[0m\u001b[0margs\u001b[0m\u001b[0;31m`\u001b[0m \u001b[0;32mand\u001b[0m\u001b[0;31m \u001b[0m\u001b[0;31m`\u001b[0m\u001b[0mkwargs\u001b[0m\u001b[0;31m`\u001b[0m\u001b[0;34m.\u001b[0m\u001b[0;34m\u001b[0m\u001b[0;34m\u001b[0m\u001b[0m\n\u001b[1;32m   1842\u001b[0m     \"\"\"\n\u001b[0;32m-> 1843\u001b[0;31m     return self._call_flat(\n\u001b[0m\u001b[1;32m   1844\u001b[0m         [t for t in nest.flatten((args, kwargs), expand_composites=True)\n\u001b[1;32m   1845\u001b[0m          if isinstance(t, (ops.Tensor,\n",
      "\u001b[0;32m/usr/lib/python3/dist-packages/tensorflow/python/eager/function.py\u001b[0m in \u001b[0;36m_call_flat\u001b[0;34m(self, args, captured_inputs, cancellation_manager)\u001b[0m\n\u001b[1;32m   1921\u001b[0m         and executing_eagerly):\n\u001b[1;32m   1922\u001b[0m       \u001b[0;31m# No tape is watching; skip to running the function.\u001b[0m\u001b[0;34m\u001b[0m\u001b[0;34m\u001b[0m\u001b[0;34m\u001b[0m\u001b[0m\n\u001b[0;32m-> 1923\u001b[0;31m       return self._build_call_outputs(self._inference_function.call(\n\u001b[0m\u001b[1;32m   1924\u001b[0m           ctx, args, cancellation_manager=cancellation_manager))\n\u001b[1;32m   1925\u001b[0m     forward_backward = self._select_forward_and_backward_functions(\n",
      "\u001b[0;32m/usr/lib/python3/dist-packages/tensorflow/python/eager/function.py\u001b[0m in \u001b[0;36mcall\u001b[0;34m(self, ctx, args, cancellation_manager)\u001b[0m\n\u001b[1;32m    543\u001b[0m       \u001b[0;32mwith\u001b[0m \u001b[0m_InterpolateFunctionError\u001b[0m\u001b[0;34m(\u001b[0m\u001b[0mself\u001b[0m\u001b[0;34m)\u001b[0m\u001b[0;34m:\u001b[0m\u001b[0;34m\u001b[0m\u001b[0;34m\u001b[0m\u001b[0m\n\u001b[1;32m    544\u001b[0m         \u001b[0;32mif\u001b[0m \u001b[0mcancellation_manager\u001b[0m \u001b[0;32mis\u001b[0m \u001b[0;32mNone\u001b[0m\u001b[0;34m:\u001b[0m\u001b[0;34m\u001b[0m\u001b[0;34m\u001b[0m\u001b[0m\n\u001b[0;32m--> 545\u001b[0;31m           outputs = execute.execute(\n\u001b[0m\u001b[1;32m    546\u001b[0m               \u001b[0mstr\u001b[0m\u001b[0;34m(\u001b[0m\u001b[0mself\u001b[0m\u001b[0;34m.\u001b[0m\u001b[0msignature\u001b[0m\u001b[0;34m.\u001b[0m\u001b[0mname\u001b[0m\u001b[0;34m)\u001b[0m\u001b[0;34m,\u001b[0m\u001b[0;34m\u001b[0m\u001b[0;34m\u001b[0m\u001b[0m\n\u001b[1;32m    547\u001b[0m               \u001b[0mnum_outputs\u001b[0m\u001b[0;34m=\u001b[0m\u001b[0mself\u001b[0m\u001b[0;34m.\u001b[0m\u001b[0m_num_outputs\u001b[0m\u001b[0;34m,\u001b[0m\u001b[0;34m\u001b[0m\u001b[0;34m\u001b[0m\u001b[0m\n",
      "\u001b[0;32m/usr/lib/python3/dist-packages/tensorflow/python/eager/execute.py\u001b[0m in \u001b[0;36mquick_execute\u001b[0;34m(op_name, num_outputs, inputs, attrs, ctx, name)\u001b[0m\n\u001b[1;32m     57\u001b[0m   \u001b[0;32mtry\u001b[0m\u001b[0;34m:\u001b[0m\u001b[0;34m\u001b[0m\u001b[0;34m\u001b[0m\u001b[0m\n\u001b[1;32m     58\u001b[0m     \u001b[0mctx\u001b[0m\u001b[0;34m.\u001b[0m\u001b[0mensure_initialized\u001b[0m\u001b[0;34m(\u001b[0m\u001b[0;34m)\u001b[0m\u001b[0;34m\u001b[0m\u001b[0;34m\u001b[0m\u001b[0m\n\u001b[0;32m---> 59\u001b[0;31m     tensors = pywrap_tfe.TFE_Py_Execute(ctx._handle, device_name, op_name,\n\u001b[0m\u001b[1;32m     60\u001b[0m                                         inputs, attrs, num_outputs)\n\u001b[1;32m     61\u001b[0m   \u001b[0;32mexcept\u001b[0m \u001b[0mcore\u001b[0m\u001b[0;34m.\u001b[0m\u001b[0m_NotOkStatusException\u001b[0m \u001b[0;32mas\u001b[0m \u001b[0me\u001b[0m\u001b[0;34m:\u001b[0m\u001b[0;34m\u001b[0m\u001b[0;34m\u001b[0m\u001b[0m\n",
      "\u001b[0;31mKeyboardInterrupt\u001b[0m: "
     ]
    }
   ],
   "source": [
    "history=model.fit([X_train_pad,y_train_pad[:,:-1]],\\\n",
    "                  y_train_pad.reshape(y_train_pad.shape[0],y_train_pad.shape[1], 1)[:,1:] ,\\\n",
    "                  epochs=epochs,\\\n",
    "                  callbacks=[model_checkpoint_callback],\\\n",
    "                  batch_size=batch_size , \\\n",
    "                  validation_data=([X_val_pad,y_val_pad[:,:-1]], \\\n",
    "                                   y_val_pad.reshape(y_val_pad.shape[0],y_val_pad.shape[1], 1)[:,1:]))"
   ]
  },
  {
   "cell_type": "markdown",
   "metadata": {},
   "source": [
    "I stopped when there are no more improvement."
   ]
  },
  {
   "cell_type": "markdown",
   "metadata": {},
   "source": [
    "Some interesting oberservation during hyperparametr tuning.\n",
    "\n",
    "When I set batch size small, the ETA also get much higher number.\n",
    "\n",
    "The embedding layer is the make ups marjority of parameters."
   ]
  },
  {
   "cell_type": "code",
   "execution_count": null,
   "metadata": {},
   "outputs": [],
   "source": []
  },
  {
   "cell_type": "markdown",
   "metadata": {},
   "source": [
    "### Second Inference for Model with Batch-normalization layer"
   ]
  },
  {
   "cell_type": "code",
   "execution_count": 91,
   "metadata": {},
   "outputs": [
    {
     "name": "stdout",
     "output_type": "stream",
     "text": [
      "Model: \"functional_7\"\n",
      "_________________________________________________________________\n",
      "Layer (type)                 Output Shape              Param #   \n",
      "=================================================================\n",
      "input_1 (InputLayer)         [(None, 5000)]            0         \n",
      "_________________________________________________________________\n",
      "embedding (Embedding)        (None, 5000, 100)         6475100   \n",
      "_________________________________________________________________\n",
      "batch_normalization (BatchNo (None, 5000, 100)         400       \n",
      "_________________________________________________________________\n",
      "lstm (LSTM)                  [(None, 5000, 100), (None 80400     \n",
      "_________________________________________________________________\n",
      "batch_normalization_1 (Batch (None, 5000, 100)         400       \n",
      "=================================================================\n",
      "Total params: 6,556,300\n",
      "Trainable params: 6,555,900\n",
      "Non-trainable params: 400\n",
      "_________________________________________________________________\n"
     ]
    }
   ],
   "source": [
    "#encoder inference\n",
    "encoder_model = Model(inputs = x_in, outputs = [x_out, state_h, state_c])\n",
    "encoder_model.summary()"
   ]
  },
  {
   "cell_type": "code",
   "execution_count": 93,
   "metadata": {},
   "outputs": [
    {
     "name": "stdout",
     "output_type": "stream",
     "text": [
      "INFO:tensorflow:Assets written to: en2/assets\n"
     ]
    }
   ],
   "source": [
    "encoder_model.save('en2')"
   ]
  },
  {
   "cell_type": "code",
   "execution_count": 92,
   "metadata": {},
   "outputs": [
    {
     "name": "stdout",
     "output_type": "stream",
     "text": [
      "Model: \"functional_9\"\n",
      "__________________________________________________________________________________________________\n",
      "Layer (type)                    Output Shape         Param #     Connected to                     \n",
      "==================================================================================================\n",
      "input_2 (InputLayer)            [(None, None)]       0                                            \n",
      "__________________________________________________________________________________________________\n",
      "embedding_1 (Embedding)         (None, None, 100)    839500      input_2[0][0]                    \n",
      "__________________________________________________________________________________________________\n",
      "batch_normalization_2 (BatchNor (None, None, 100)    400         embedding_1[2][0]                \n",
      "__________________________________________________________________________________________________\n",
      "input_7 (InputLayer)            [(None, 100)]        0                                            \n",
      "__________________________________________________________________________________________________\n",
      "input_8 (InputLayer)            [(None, 100)]        0                                            \n",
      "__________________________________________________________________________________________________\n",
      "lstm_1 (LSTM)                   [(None, None, 100),  80400       batch_normalization_2[2][0]      \n",
      "                                                                 input_7[0][0]                    \n",
      "                                                                 input_8[0][0]                    \n",
      "__________________________________________________________________________________________________\n",
      "batch_normalization_3 (BatchNor (None, None, 100)    400         lstm_1[2][0]                     \n",
      "__________________________________________________________________________________________________\n",
      "input_6 (InputLayer)            [(None, 5000, 100)]  0                                            \n",
      "__________________________________________________________________________________________________\n",
      "time_distributed (TimeDistribut (None, None, 8395)   847895      batch_normalization_3[2][0]      \n",
      "==================================================================================================\n",
      "Total params: 1,768,595\n",
      "Trainable params: 1,768,195\n",
      "Non-trainable params: 400\n",
      "__________________________________________________________________________________________________\n"
     ]
    }
   ],
   "source": [
    "# decoder inference\n",
    "#initiate the input for decoder model\n",
    "encoder_out = Input(shape=(max_x_len,latent_dim))                    \n",
    "decoder_state_h = Input(shape=(latent_dim,))\n",
    "decoder_state_c = Input(shape=(latent_dim,))\n",
    "                                \n",
    "# decoder embedding                \n",
    "dec_emb = layer_y_emb(y_in)\n",
    "dec_emb = bn3(dec_emb)                \n",
    "#lstm to predict the next word                \n",
    "dec_out2, dec_state_h2, dec_state_c2 = layer_y_lstm(dec_emb, initial_state = [decoder_state_h, decoder_state_c])\n",
    "dec_out2 = bn4(dec_out2)                \n",
    "#use softmax to generate probability over vocabular\n",
    "probas = decoder_dense(dec_out2)                \n",
    "#compile\n",
    "decoder_model = Model(inputs=[y_in, encoder_out, decoder_state_h, decoder_state_c], outputs=[probas, dec_state_h2, dec_state_c2])\n",
    "\n",
    "decoder_model.summary()"
   ]
  },
  {
   "cell_type": "code",
   "execution_count": 94,
   "metadata": {},
   "outputs": [
    {
     "name": "stdout",
     "output_type": "stream",
     "text": [
      "INFO:tensorflow:Assets written to: de2/assets\n"
     ]
    }
   ],
   "source": [
    "decoder_model.save('de2')"
   ]
  },
  {
   "cell_type": "code",
   "execution_count": 86,
   "metadata": {},
   "outputs": [
    {
     "data": {
      "text/plain": [
       "' the guys are back in the first episode of the season of the week we talk about the upcoming season of the week we talk about the upcoming season of the week we talk about the upcoming season of the week we talk about the upcoming season of the week we talk about the upcoming season of the week we talk about the upcoming season of the week we talk about the upcoming season of the week we talk about the upcoming season of the week we talk about the upcoming season of the week we talk about the upcoming'"
      ]
     },
     "execution_count": 86,
     "metadata": {},
     "output_type": "execute_result"
    }
   ],
   "source": [
    "decode_padding(X_train_pad[890][:5000])"
   ]
  },
  {
   "cell_type": "code",
   "execution_count": 87,
   "metadata": {},
   "outputs": [
    {
     "data": {
      "text/plain": [
       "' is a good friend and a good friend and a friend of mine and we talk about the importance of being a good friend and how to get a little bit of the best and how to make it a good time to get a little bit of the best and bad things that is not only the best thing you can find out what you think'"
      ]
     },
     "execution_count": 87,
     "metadata": {},
     "output_type": "execute_result"
    }
   ],
   "source": [
    "decode_padding(X_train_pad[1200][:5000])"
   ]
  },
  {
   "cell_type": "code",
   "execution_count": 89,
   "metadata": {},
   "outputs": [
    {
     "data": {
      "text/plain": [
       "' on this episode of the guys discuss the recent trip to the nfl playoffs and the guys discuss the recent trip to the nfl playoffs and the guys discuss the upcoming season of the season and the guys discuss the upcoming season of the season and the guys discuss the upcoming season of the season'"
      ]
     },
     "execution_count": 89,
     "metadata": {},
     "output_type": "execute_result"
    }
   ],
   "source": [
    "decode_padding(X_train_pad[2499][:5000])"
   ]
  },
  {
   "cell_type": "code",
   "execution_count": null,
   "metadata": {},
   "outputs": [],
   "source": []
  },
  {
   "cell_type": "code",
   "execution_count": null,
   "metadata": {},
   "outputs": [],
   "source": []
  },
  {
   "cell_type": "code",
   "execution_count": null,
   "metadata": {},
   "outputs": [],
   "source": []
  },
  {
   "cell_type": "markdown",
   "metadata": {},
   "source": [
    "The result proved my assumption, that the encoder and decoder can't handle long sequence, After I cut sequence into half, the quality of summaries spike up.\n",
    "\n",
    "Now the question become How to shorten the sequence. \n",
    "\n",
    "Based the extractive models I built, Baseline model and Text rank, TFIDF, Count Vectorizer model,\n",
    "I found that simply Baseline model and Text rank out performed others in F1 SCores.\n",
    "\n",
    "I wanna try those two:\n",
    "\n",
    "1, the first 5000 words\n",
    "\n",
    "2, text rank, word_count = 5000\n",
    "\n",
    "I decide to try the baseline model first, which is to pick first K words."
   ]
  },
  {
   "cell_type": "code",
   "execution_count": null,
   "metadata": {},
   "outputs": [],
   "source": []
  },
  {
   "cell_type": "code",
   "execution_count": null,
   "metadata": {},
   "outputs": [],
   "source": []
  },
  {
   "cell_type": "code",
   "execution_count": null,
   "metadata": {},
   "outputs": [],
   "source": []
  },
  {
   "cell_type": "code",
   "execution_count": null,
   "metadata": {},
   "outputs": [],
   "source": []
  },
  {
   "cell_type": "markdown",
   "metadata": {},
   "source": [
    "## Truncate Text Size"
   ]
  },
  {
   "cell_type": "markdown",
   "metadata": {},
   "source": [
    "Now I need redo the tokenizer and everything"
   ]
  },
  {
   "cell_type": "code",
   "execution_count": 190,
   "metadata": {},
   "outputs": [],
   "source": [
    "K=1000\n",
    "First_500 = train_half['transcript'].apply(lambda x : ' '.join(x.split()[:K]))"
   ]
  },
  {
   "cell_type": "code",
   "execution_count": 191,
   "metadata": {},
   "outputs": [],
   "source": [
    "X=First_500\n",
    "y=train_half['summary']"
   ]
  },
  {
   "cell_type": "code",
   "execution_count": 192,
   "metadata": {},
   "outputs": [],
   "source": [
    "np.random.seed(100)"
   ]
  },
  {
   "cell_type": "code",
   "execution_count": 193,
   "metadata": {},
   "outputs": [],
   "source": [
    "#split into train-validation and test dataset\n",
    "X_, X_test, y_, y_test = train_test_split(X,y,test_size=0.2,random_state=100)"
   ]
  },
  {
   "cell_type": "code",
   "execution_count": 194,
   "metadata": {},
   "outputs": [],
   "source": [
    "#split into train and validation dataset\n",
    "X_train, X_val, y_train, y_val = train_test_split(X_,y_,test_size=0.1,random_state=100)"
   ]
  },
  {
   "cell_type": "code",
   "execution_count": 195,
   "metadata": {},
   "outputs": [],
   "source": [
    "x_tokenizer = Tokenizer() \n",
    "x_tokenizer.fit_on_texts(X_train)"
   ]
  },
  {
   "cell_type": "code",
   "execution_count": 196,
   "metadata": {},
   "outputs": [],
   "source": [
    "#transform word in sentences into index of word token\n",
    "X_train_toseq = x_tokenizer.texts_to_sequences(X_train)\n",
    "#create sequence for validation set\n",
    "X_val_toseq = x_tokenizer.texts_to_sequences(X_val)"
   ]
  },
  {
   "cell_type": "code",
   "execution_count": 197,
   "metadata": {},
   "outputs": [],
   "source": [
    "max_x_len=5000"
   ]
  },
  {
   "cell_type": "code",
   "execution_count": 198,
   "metadata": {},
   "outputs": [],
   "source": [
    "#pading zero up tp maximum length of sequence\n",
    "X_train_pad = pad_sequences(X_train_toseq, maxlen = max_x_len, padding = 'post')\n",
    "#pading zero up tp maximum length of sequence\n",
    "X_val_pad = pad_sequences(X_val_toseq, maxlen = max_x_len, padding = 'post')"
   ]
  },
  {
   "cell_type": "code",
   "execution_count": 199,
   "metadata": {},
   "outputs": [],
   "source": [
    "#Add start and end tokens to the y_train\n",
    "y_train = y_train.apply(lambda x: 'sostok '+ x + ' eostok')\n",
    "y_val = y_val.apply(lambda x: 'sostok '+ x + ' eostok')"
   ]
  },
  {
   "cell_type": "code",
   "execution_count": 200,
   "metadata": {},
   "outputs": [
    {
     "data": {
      "text/plain": [
       "2065    sostok now, i love chinese food. i mean, who d...\n",
       "5936    sostok time blocking has practically become a ...\n",
       "1406    sostok tonight i am joined by duracell battery...\n",
       "4431    sostok please bear with us for the choppy edit...\n",
       "4764    sostok before cutting ties release their debut...\n",
       "Name: summary, dtype: object"
      ]
     },
     "execution_count": 200,
     "metadata": {},
     "output_type": "execute_result"
    }
   ],
   "source": [
    "#check the head\n",
    "y_train.head()"
   ]
  },
  {
   "cell_type": "code",
   "execution_count": 201,
   "metadata": {},
   "outputs": [],
   "source": [
    "y_tokenizer = Tokenizer()   \n",
    "y_tokenizer.fit_on_texts(y_train)"
   ]
  },
  {
   "cell_type": "code",
   "execution_count": 202,
   "metadata": {},
   "outputs": [],
   "source": [
    "max_y_len = max(len_summary_half) "
   ]
  },
  {
   "cell_type": "code",
   "execution_count": 203,
   "metadata": {},
   "outputs": [],
   "source": [
    "#pading zero up tp maximum length of sequence\n",
    "y_train_pad = pad_sequences(y_train_toseq, maxlen = max_y_len, padding = 'post')\n",
    "#pading zero up tp maximum length of sequence\n",
    "y_val_pad = pad_sequences(y_val_toseq, maxlen = max_y_len, padding = 'post')"
   ]
  },
  {
   "cell_type": "code",
   "execution_count": 205,
   "metadata": {},
   "outputs": [
    {
     "name": "stdout",
     "output_type": "stream",
     "text": [
      "Transcripts vocabulary is 80308, Summaries vocabulary is 45195.\n"
     ]
    }
   ],
   "source": [
    "x_voc = len(x_tokenizer.index_word)+1\n",
    "y_voc = len(y_tokenizer.index_word)+1\n",
    "print(f'Transcripts vocabulary is {x_voc}, Summaries vocabulary is {y_voc}.')\n"
   ]
  },
  {
   "cell_type": "markdown",
   "metadata": {},
   "source": [
    "The transcripts vocabulary decrease so much."
   ]
  },
  {
   "cell_type": "code",
   "execution_count": null,
   "metadata": {},
   "outputs": [],
   "source": []
  },
  {
   "cell_type": "code",
   "execution_count": 206,
   "metadata": {},
   "outputs": [],
   "source": [
    "from keras import backend as K\n",
    "from keras import regularizers\n",
    "import tensorflow as tf\n",
    "K.clear_session()"
   ]
  },
  {
   "cell_type": "code",
   "execution_count": 207,
   "metadata": {},
   "outputs": [],
   "source": [
    "dropout = 0.4\n",
    "r_dropout = 0\n",
    "epochs = 50\n",
    "batch_size = 128\n",
    "embedding_dim = 100 #decrease embedding dimension will decrease running time\n",
    "latent_dim = 100"
   ]
  },
  {
   "cell_type": "code",
   "execution_count": 208,
   "metadata": {},
   "outputs": [],
   "source": [
    "\n",
    "#And batch normalization \n",
    "bn1 = BatchNormalization()\n",
    "bn2 = BatchNormalization()\n",
    "bn3 = BatchNormalization()\n",
    "bn4 = BatchNormalization()\n",
    "\n",
    "\n",
    "#encoder\n",
    "x_in = Input(shape=(max_x_len,))\n",
    "\n",
    "#embedding\n",
    "layer_x_emb = Embedding(x_voc,embedding_dim,trainable=True)\n",
    "x_emb = layer_x_emb(x_in)\n",
    "x_emb = bn1(x_emb)\n",
    "\n",
    "##lstm\n",
    "layer_x_lstm = LSTM(latent_dim, return_sequences=True, return_state=True, dropout=dropout, recurrent_regularizer=regularizers.l2(0.01))\n",
    "x_out3, x_state_h3, x_state_c3 = layer_x_lstm(x_emb)\n",
    "\n",
    "##lstm 2\n",
    "layer_x_lstm2 = LSTM(latent_dim, return_sequences=True, return_state=True, dropout=dropout, recurrent_regularizer=regularizers.l2(0.01))\n",
    "x_out2, x_state_h2, x_state_c2 = layer_x_lstm2(x_out3)\n",
    "\n",
    "##lstm 3\n",
    "layer_x_lstm3 = LSTM(latent_dim, return_sequences=True, return_state=True, dropout=dropout, recurrent_regularizer=regularizers.l2(0.01))\n",
    "x_out, x_state_h, x_state_c = layer_x_lstm3(x_out2)\n",
    "x_out = bn3(x_out)\n",
    "\n",
    "#decoder\n",
    "y_in = Input(shape=(None,))\n",
    "\n",
    "#embedding layer\n",
    "layer_y_emb = Embedding(y_voc, embedding_dim, trainable=True)\n",
    "y_emb = layer_y_emb(y_in)\n",
    "y_emb = bn3(y_emb)\n",
    "\n",
    "#lstm\n",
    "layer_y_lstm = LSTM(latent_dim, return_sequences =True, return_state= True, dropout = dropout, recurrent_dropout=r_dropout,recurrent_regularizer=regularizers.l2(0.01))\n",
    "y_out, y_h,  y_c = layer_y_lstm(y_emb,initial_state=[x_state_h,x_state_c])\n",
    "y_out = bn4(y_out)\n",
    "#dense layer\n",
    "decoder_dense =  TimeDistributed(Dense(y_voc, activation='softmax'))\n",
    "y_out = decoder_dense(y_out)"
   ]
  },
  {
   "cell_type": "code",
   "execution_count": 209,
   "metadata": {},
   "outputs": [
    {
     "name": "stdout",
     "output_type": "stream",
     "text": [
      "Model: \"functional_1\"\n",
      "__________________________________________________________________________________________________\n",
      "Layer (type)                    Output Shape         Param #     Connected to                     \n",
      "==================================================================================================\n",
      "input_1 (InputLayer)            [(None, 5000)]       0                                            \n",
      "__________________________________________________________________________________________________\n",
      "embedding (Embedding)           (None, 5000, 100)    8030800     input_1[0][0]                    \n",
      "__________________________________________________________________________________________________\n",
      "batch_normalization (BatchNorma (None, 5000, 100)    400         embedding[0][0]                  \n",
      "__________________________________________________________________________________________________\n",
      "input_2 (InputLayer)            [(None, None)]       0                                            \n",
      "__________________________________________________________________________________________________\n",
      "lstm (LSTM)                     [(None, 5000, 100),  80400       batch_normalization[0][0]        \n",
      "__________________________________________________________________________________________________\n",
      "embedding_1 (Embedding)         (None, None, 100)    4519500     input_2[0][0]                    \n",
      "__________________________________________________________________________________________________\n",
      "lstm_1 (LSTM)                   [(None, 5000, 100),  80400       lstm[0][0]                       \n",
      "__________________________________________________________________________________________________\n",
      "batch_normalization_2 (BatchNor multiple             400         embedding_1[0][0]                \n",
      "__________________________________________________________________________________________________\n",
      "lstm_2 (LSTM)                   [(None, 5000, 100),  80400       lstm_1[0][0]                     \n",
      "__________________________________________________________________________________________________\n",
      "lstm_3 (LSTM)                   [(None, None, 100),  80400       batch_normalization_2[1][0]      \n",
      "                                                                 lstm_2[0][1]                     \n",
      "                                                                 lstm_2[0][2]                     \n",
      "__________________________________________________________________________________________________\n",
      "batch_normalization_3 (BatchNor (None, None, 100)    400         lstm_3[0][0]                     \n",
      "__________________________________________________________________________________________________\n",
      "time_distributed (TimeDistribut (None, None, 45195)  4564695     batch_normalization_3[0][0]      \n",
      "==================================================================================================\n",
      "Total params: 17,437,795\n",
      "Trainable params: 17,437,195\n",
      "Non-trainable params: 600\n",
      "__________________________________________________________________________________________________\n"
     ]
    }
   ],
   "source": [
    "# Compile model\n",
    "model = Model([x_in, y_in], y_out)\n",
    "# Display its summary\n",
    "model.summary()"
   ]
  },
  {
   "cell_type": "code",
   "execution_count": 210,
   "metadata": {},
   "outputs": [],
   "source": [
    "model.compile(optimizer='rmsprop', loss='sparse_categorical_crossentropy')\n",
    "es = EarlyStopping(monitor='val_loss', mode='min', verbose=1, patience=2) #epoch early stopping"
   ]
  },
  {
   "cell_type": "code",
   "execution_count": 211,
   "metadata": {},
   "outputs": [
    {
     "name": "stdout",
     "output_type": "stream",
     "text": [
      "Epoch 1/50\n",
      "89/89 [==============================] - 99s 1s/step - loss: 7.4253 - val_loss: 9.3810\n",
      "Epoch 2/50\n",
      "89/89 [==============================] - 98s 1s/step - loss: 4.1403 - val_loss: 7.8634\n",
      "Epoch 3/50\n",
      "89/89 [==============================] - 98s 1s/step - loss: 3.8027 - val_loss: 6.0057\n",
      "Epoch 4/50\n",
      "89/89 [==============================] - 98s 1s/step - loss: 3.6452 - val_loss: 4.2608\n",
      "Epoch 5/50\n",
      "89/89 [==============================] - 98s 1s/step - loss: 3.5458 - val_loss: 3.7304\n",
      "Epoch 6/50\n",
      "89/89 [==============================] - 98s 1s/step - loss: 3.4754 - val_loss: 3.5024\n",
      "Epoch 7/50\n",
      "89/89 [==============================] - 98s 1s/step - loss: 3.4208 - val_loss: 3.4098\n",
      "Epoch 8/50\n",
      "89/89 [==============================] - 98s 1s/step - loss: 3.3745 - val_loss: 3.3675\n",
      "Epoch 9/50\n",
      "89/89 [==============================] - 98s 1s/step - loss: 3.3352 - val_loss: 3.3402\n",
      "Epoch 10/50\n",
      "89/89 [==============================] - 98s 1s/step - loss: 3.3034 - val_loss: 3.3180\n",
      "Epoch 11/50\n",
      "89/89 [==============================] - 98s 1s/step - loss: 3.2739 - val_loss: 3.3087\n",
      "Epoch 12/50\n",
      "89/89 [==============================] - 97s 1s/step - loss: 3.2471 - val_loss: 3.3331\n",
      "Epoch 13/50\n",
      "89/89 [==============================] - 98s 1s/step - loss: 3.2250 - val_loss: 3.3075\n",
      "Epoch 14/50\n",
      "89/89 [==============================] - 98s 1s/step - loss: 3.2040 - val_loss: 3.2904\n",
      "Epoch 15/50\n",
      "89/89 [==============================] - 98s 1s/step - loss: 3.1839 - val_loss: 3.2940\n",
      "Epoch 16/50\n",
      "89/89 [==============================] - 98s 1s/step - loss: 3.1677 - val_loss: 3.2943\n",
      "Epoch 00016: early stopping\n"
     ]
    }
   ],
   "source": [
    "history=model.fit([X_train_pad,y_train_pad[:,:-1]],\\\n",
    "                  y_train_pad.reshape(y_train_pad.shape[0],y_train_pad.shape[1], 1)[:,1:] ,\\\n",
    "                  epochs=epochs,\\\n",
    "                  callbacks=[es],\\\n",
    "                  batch_size=batch_size , \\\n",
    "                  validation_data=([X_val_pad,y_val_pad[:,:-1]], \\\n",
    "                                   y_val_pad.reshape(y_val_pad.shape[0],y_val_pad.shape[1], 1)[:,1:]))"
   ]
  },
  {
   "cell_type": "code",
   "execution_count": 212,
   "metadata": {},
   "outputs": [
    {
     "data": {
      "image/png": "[encoded data removed]",
      "text/plain": [
       "<Figure size 432x288 with 1 Axes>"
      ]
     },
     "metadata": {
      "needs_background": "light"
     },
     "output_type": "display_data"
    }
   ],
   "source": [
    "plt.plot(history.history['loss'], label='train') \n",
    "plt.plot(history.history['val_loss'], label='test') \n",
    "plt.xlabel('Epoch')\n",
    "plt.ylabel('Val_loss')\n",
    "plt.title('The Val_loss by every epoch')\n",
    "plt.legend() \n",
    "plt.show()"
   ]
  },
  {
   "cell_type": "code",
   "execution_count": 179,
   "metadata": {},
   "outputs": [
    {
     "name": "stdout",
     "output_type": "stream",
     "text": [
      "Model: \"functional_5\"\n",
      "_________________________________________________________________\n",
      "Layer (type)                 Output Shape              Param #   \n",
      "=================================================================\n",
      "input_3 (InputLayer)         [(None, 5000)]            0         \n",
      "_________________________________________________________________\n",
      "embedding_2 (Embedding)      (None, 5000, 100)         5357200   \n",
      "_________________________________________________________________\n",
      "batch_normalization_4 (Batch (None, 5000, 100)         400       \n",
      "_________________________________________________________________\n",
      "lstm_4 (LSTM)                [(None, 5000, 100), (None 80400     \n",
      "_________________________________________________________________\n",
      "lstm_5 (LSTM)                [(None, 5000, 100), (None 80400     \n",
      "_________________________________________________________________\n",
      "lstm_6 (LSTM)                [(None, 5000, 100), (None 80400     \n",
      "_________________________________________________________________\n",
      "batch_normalization_6 (Batch multiple                  400       \n",
      "=================================================================\n",
      "Total params: 5,599,200\n",
      "Trainable params: 5,598,800\n",
      "Non-trainable params: 400\n",
      "_________________________________________________________________\n"
     ]
    }
   ],
   "source": [
    "#encoder inference\n",
    "encoder_model = Model(inputs = x_in, outputs = [x_out, x_state_h, x_state_c])\n",
    "encoder_model.summary()"
   ]
  },
  {
   "cell_type": "code",
   "execution_count": 213,
   "metadata": {},
   "outputs": [
    {
     "name": "stdout",
     "output_type": "stream",
     "text": [
      "Model: \"functional_3\"\n",
      "__________________________________________________________________________________________________\n",
      "Layer (type)                    Output Shape         Param #     Connected to                     \n",
      "==================================================================================================\n",
      "input_2 (InputLayer)            [(None, None)]       0                                            \n",
      "__________________________________________________________________________________________________\n",
      "embedding_1 (Embedding)         (None, None, 100)    4519500     input_2[0][0]                    \n",
      "__________________________________________________________________________________________________\n",
      "batch_normalization_2 (BatchNor multiple             400         embedding_1[1][0]                \n",
      "__________________________________________________________________________________________________\n",
      "input_4 (InputLayer)            [(None, 100)]        0                                            \n",
      "__________________________________________________________________________________________________\n",
      "input_5 (InputLayer)            [(None, 100)]        0                                            \n",
      "__________________________________________________________________________________________________\n",
      "lstm_3 (LSTM)                   [(None, None, 100),  80400       batch_normalization_2[2][0]      \n",
      "                                                                 input_4[0][0]                    \n",
      "                                                                 input_5[0][0]                    \n",
      "__________________________________________________________________________________________________\n",
      "batch_normalization_3 (BatchNor (None, None, 100)    400         lstm_3[1][0]                     \n",
      "__________________________________________________________________________________________________\n",
      "input_3 (InputLayer)            [(None, 5000, 100)]  0                                            \n",
      "__________________________________________________________________________________________________\n",
      "time_distributed (TimeDistribut (None, None, 45195)  4564695     batch_normalization_3[1][0]      \n",
      "==================================================================================================\n",
      "Total params: 9,165,395\n",
      "Trainable params: 9,164,995\n",
      "Non-trainable params: 400\n",
      "__________________________________________________________________________________________________\n"
     ]
    }
   ],
   "source": [
    "# decoder inference\n",
    "#initiate the input for decoder model\n",
    "encoder_out = Input(shape=(max_x_len,latent_dim))                    \n",
    "decoder_state_h = Input(shape=(latent_dim,))\n",
    "decoder_state_c = Input(shape=(latent_dim,))\n",
    "                                \n",
    "# decoder embedding                \n",
    "dec_emb = layer_y_emb(y_in)\n",
    "dec_emb = bn3(dec_emb)                \n",
    "#lstm to predict the next word                \n",
    "dec_out2, dec_state_h2, dec_state_c2 = layer_y_lstm(dec_emb, initial_state = [decoder_state_h, decoder_state_c])\n",
    "dec_out2 = bn4(dec_out2)                \n",
    "#use softmax to generate probability over vocabular\n",
    "probas = decoder_dense(dec_out2)                \n",
    "#compile\n",
    "decoder_model = Model(inputs=[y_in, encoder_out, decoder_state_h, decoder_state_c], outputs=[probas, dec_state_h2, dec_state_c2])\n",
    "\n",
    "decoder_model.summary()"
   ]
  },
  {
   "cell_type": "code",
   "execution_count": 215,
   "metadata": {},
   "outputs": [
    {
     "ename": "InvalidArgumentError",
     "evalue": "2 root error(s) found.\n  (0) Invalid argument:  indices[0,444] = 75045 is not in [0, 53572)\n\t [[node functional_5/embedding_2/embedding_lookup (defined at <ipython-input-64-f370cd0f122a>:5) ]]\n  (1) Invalid argument:  indices[0,444] = 75045 is not in [0, 53572)\n\t [[node functional_5/embedding_2/embedding_lookup (defined at <ipython-input-64-f370cd0f122a>:5) ]]\n\t [[functional_5/embedding_2/embedding_lookup/_6]]\n0 successful operations.\n0 derived errors ignored. [Op:__inference_predict_function_206668]\n\nErrors may have originated from an input operation.\nInput Source operations connected to node functional_5/embedding_2/embedding_lookup:\n functional_5/embedding_2/embedding_lookup/205306 (defined at /usr/lib/python3.8/contextlib.py:113)\n\nInput Source operations connected to node functional_5/embedding_2/embedding_lookup:\n functional_5/embedding_2/embedding_lookup/205306 (defined at /usr/lib/python3.8/contextlib.py:113)\n\nFunction call stack:\npredict_function -> predict_function\n",
     "output_type": "error",
     "traceback": [
      "\u001b[0;31m---------------------------------------------------------------------------\u001b[0m",
      "\u001b[0;31mInvalidArgumentError\u001b[0m                      Traceback (most recent call last)",
      "\u001b[0;32m<ipython-input-215-5d125558c590>\u001b[0m in \u001b[0;36m<module>\u001b[0;34m\u001b[0m\n\u001b[0;32m----> 1\u001b[0;31m \u001b[0mdecode_padding\u001b[0m\u001b[0;34m(\u001b[0m\u001b[0mX_val_pad\u001b[0m\u001b[0;34m[\u001b[0m\u001b[0;36m789\u001b[0m\u001b[0;34m]\u001b[0m\u001b[0;34m)\u001b[0m\u001b[0;34m\u001b[0m\u001b[0;34m\u001b[0m\u001b[0m\n\u001b[0m",
      "\u001b[0;32m<ipython-input-64-f370cd0f122a>\u001b[0m in \u001b[0;36mdecode_padding\u001b[0;34m(x)\u001b[0m\n\u001b[1;32m      3\u001b[0m     \u001b[0mx\u001b[0m\u001b[0;34m=\u001b[0m\u001b[0mx\u001b[0m\u001b[0;34m.\u001b[0m\u001b[0mreshape\u001b[0m\u001b[0;34m(\u001b[0m\u001b[0;36m1\u001b[0m\u001b[0;34m,\u001b[0m\u001b[0mmax_x_len\u001b[0m\u001b[0;34m)\u001b[0m\u001b[0;34m\u001b[0m\u001b[0;34m\u001b[0m\u001b[0m\n\u001b[1;32m      4\u001b[0m     \u001b[0;31m#encoder X\u001b[0m\u001b[0;34m\u001b[0m\u001b[0;34m\u001b[0m\u001b[0;34m\u001b[0m\u001b[0m\n\u001b[0;32m----> 5\u001b[0;31m     \u001b[0me_out\u001b[0m\u001b[0;34m,\u001b[0m \u001b[0me_state_h\u001b[0m\u001b[0;34m,\u001b[0m \u001b[0me_state_c\u001b[0m \u001b[0;34m=\u001b[0m \u001b[0mencoder_model\u001b[0m\u001b[0;34m.\u001b[0m\u001b[0mpredict\u001b[0m\u001b[0;34m(\u001b[0m\u001b[0mx\u001b[0m\u001b[0;34m)\u001b[0m\u001b[0;34m\u001b[0m\u001b[0;34m\u001b[0m\u001b[0m\n\u001b[0m\u001b[1;32m      6\u001b[0m     \u001b[0;31m#The word feed in\u001b[0m\u001b[0;34m\u001b[0m\u001b[0;34m\u001b[0m\u001b[0;34m\u001b[0m\u001b[0m\n\u001b[1;32m      7\u001b[0m     \u001b[0mtarget_seq\u001b[0m \u001b[0;34m=\u001b[0m \u001b[0mnp\u001b[0m\u001b[0;34m.\u001b[0m\u001b[0marray\u001b[0m\u001b[0;34m(\u001b[0m\u001b[0;34m[\u001b[0m\u001b[0my_word_index\u001b[0m\u001b[0;34m[\u001b[0m\u001b[0;34m'sostok'\u001b[0m\u001b[0;34m]\u001b[0m\u001b[0;34m]\u001b[0m\u001b[0;34m)\u001b[0m\u001b[0;34m\u001b[0m\u001b[0;34m\u001b[0m\u001b[0m\n",
      "\u001b[0;32m/usr/lib/python3/dist-packages/tensorflow/python/keras/engine/training.py\u001b[0m in \u001b[0;36m_method_wrapper\u001b[0;34m(self, *args, **kwargs)\u001b[0m\n\u001b[1;32m    128\u001b[0m       raise ValueError('{} is not supported in multi-worker mode.'.format(\n\u001b[1;32m    129\u001b[0m           method.__name__))\n\u001b[0;32m--> 130\u001b[0;31m     \u001b[0;32mreturn\u001b[0m \u001b[0mmethod\u001b[0m\u001b[0;34m(\u001b[0m\u001b[0mself\u001b[0m\u001b[0;34m,\u001b[0m \u001b[0;34m*\u001b[0m\u001b[0margs\u001b[0m\u001b[0;34m,\u001b[0m \u001b[0;34m**\u001b[0m\u001b[0mkwargs\u001b[0m\u001b[0;34m)\u001b[0m\u001b[0;34m\u001b[0m\u001b[0;34m\u001b[0m\u001b[0m\n\u001b[0m\u001b[1;32m    131\u001b[0m \u001b[0;34m\u001b[0m\u001b[0m\n\u001b[1;32m    132\u001b[0m   return tf_decorator.make_decorator(\n",
      "\u001b[0;32m/usr/lib/python3/dist-packages/tensorflow/python/keras/engine/training.py\u001b[0m in \u001b[0;36mpredict\u001b[0;34m(self, x, batch_size, verbose, steps, callbacks, max_queue_size, workers, use_multiprocessing)\u001b[0m\n\u001b[1;32m   1597\u001b[0m           \u001b[0;32mfor\u001b[0m \u001b[0mstep\u001b[0m \u001b[0;32min\u001b[0m \u001b[0mdata_handler\u001b[0m\u001b[0;34m.\u001b[0m\u001b[0msteps\u001b[0m\u001b[0;34m(\u001b[0m\u001b[0;34m)\u001b[0m\u001b[0;34m:\u001b[0m\u001b[0;34m\u001b[0m\u001b[0;34m\u001b[0m\u001b[0m\n\u001b[1;32m   1598\u001b[0m             \u001b[0mcallbacks\u001b[0m\u001b[0;34m.\u001b[0m\u001b[0mon_predict_batch_begin\u001b[0m\u001b[0;34m(\u001b[0m\u001b[0mstep\u001b[0m\u001b[0;34m)\u001b[0m\u001b[0;34m\u001b[0m\u001b[0;34m\u001b[0m\u001b[0m\n\u001b[0;32m-> 1599\u001b[0;31m             \u001b[0mtmp_batch_outputs\u001b[0m \u001b[0;34m=\u001b[0m \u001b[0mpredict_function\u001b[0m\u001b[0;34m(\u001b[0m\u001b[0miterator\u001b[0m\u001b[0;34m)\u001b[0m\u001b[0;34m\u001b[0m\u001b[0;34m\u001b[0m\u001b[0m\n\u001b[0m\u001b[1;32m   1600\u001b[0m             \u001b[0;32mif\u001b[0m \u001b[0mdata_handler\u001b[0m\u001b[0;34m.\u001b[0m\u001b[0mshould_sync\u001b[0m\u001b[0;34m:\u001b[0m\u001b[0;34m\u001b[0m\u001b[0;34m\u001b[0m\u001b[0m\n\u001b[1;32m   1601\u001b[0m               \u001b[0mcontext\u001b[0m\u001b[0;34m.\u001b[0m\u001b[0masync_wait\u001b[0m\u001b[0;34m(\u001b[0m\u001b[0;34m)\u001b[0m\u001b[0;34m\u001b[0m\u001b[0;34m\u001b[0m\u001b[0m\n",
      "\u001b[0;32m/usr/lib/python3/dist-packages/tensorflow/python/eager/def_function.py\u001b[0m in \u001b[0;36m__call__\u001b[0;34m(self, *args, **kwds)\u001b[0m\n\u001b[1;32m    778\u001b[0m       \u001b[0;32melse\u001b[0m\u001b[0;34m:\u001b[0m\u001b[0;34m\u001b[0m\u001b[0;34m\u001b[0m\u001b[0m\n\u001b[1;32m    779\u001b[0m         \u001b[0mcompiler\u001b[0m \u001b[0;34m=\u001b[0m \u001b[0;34m\"nonXla\"\u001b[0m\u001b[0;34m\u001b[0m\u001b[0;34m\u001b[0m\u001b[0m\n\u001b[0;32m--> 780\u001b[0;31m         \u001b[0mresult\u001b[0m \u001b[0;34m=\u001b[0m \u001b[0mself\u001b[0m\u001b[0;34m.\u001b[0m\u001b[0m_call\u001b[0m\u001b[0;34m(\u001b[0m\u001b[0;34m*\u001b[0m\u001b[0margs\u001b[0m\u001b[0;34m,\u001b[0m \u001b[0;34m**\u001b[0m\u001b[0mkwds\u001b[0m\u001b[0;34m)\u001b[0m\u001b[0;34m\u001b[0m\u001b[0;34m\u001b[0m\u001b[0m\n\u001b[0m\u001b[1;32m    781\u001b[0m \u001b[0;34m\u001b[0m\u001b[0m\n\u001b[1;32m    782\u001b[0m       \u001b[0mnew_tracing_count\u001b[0m \u001b[0;34m=\u001b[0m \u001b[0mself\u001b[0m\u001b[0;34m.\u001b[0m\u001b[0m_get_tracing_count\u001b[0m\u001b[0;34m(\u001b[0m\u001b[0;34m)\u001b[0m\u001b[0;34m\u001b[0m\u001b[0;34m\u001b[0m\u001b[0m\n",
      "\u001b[0;32m/usr/lib/python3/dist-packages/tensorflow/python/eager/def_function.py\u001b[0m in \u001b[0;36m_call\u001b[0;34m(self, *args, **kwds)\u001b[0m\n\u001b[1;32m    812\u001b[0m       \u001b[0;31m# In this case we have not created variables on the first call. So we can\u001b[0m\u001b[0;34m\u001b[0m\u001b[0;34m\u001b[0m\u001b[0;34m\u001b[0m\u001b[0m\n\u001b[1;32m    813\u001b[0m       \u001b[0;31m# run the first trace but we should fail if variables are created.\u001b[0m\u001b[0;34m\u001b[0m\u001b[0;34m\u001b[0m\u001b[0;34m\u001b[0m\u001b[0m\n\u001b[0;32m--> 814\u001b[0;31m       \u001b[0mresults\u001b[0m \u001b[0;34m=\u001b[0m \u001b[0mself\u001b[0m\u001b[0;34m.\u001b[0m\u001b[0m_stateful_fn\u001b[0m\u001b[0;34m(\u001b[0m\u001b[0;34m*\u001b[0m\u001b[0margs\u001b[0m\u001b[0;34m,\u001b[0m \u001b[0;34m**\u001b[0m\u001b[0mkwds\u001b[0m\u001b[0;34m)\u001b[0m\u001b[0;34m\u001b[0m\u001b[0;34m\u001b[0m\u001b[0m\n\u001b[0m\u001b[1;32m    815\u001b[0m       \u001b[0;32mif\u001b[0m \u001b[0mself\u001b[0m\u001b[0;34m.\u001b[0m\u001b[0m_created_variables\u001b[0m\u001b[0;34m:\u001b[0m\u001b[0;34m\u001b[0m\u001b[0;34m\u001b[0m\u001b[0m\n\u001b[1;32m    816\u001b[0m         raise ValueError(\"Creating variables on a non-first call to a function\"\n",
      "\u001b[0;32m/usr/lib/python3/dist-packages/tensorflow/python/eager/function.py\u001b[0m in \u001b[0;36m__call__\u001b[0;34m(self, *args, **kwargs)\u001b[0m\n\u001b[1;32m   2827\u001b[0m     \u001b[0;32mwith\u001b[0m \u001b[0mself\u001b[0m\u001b[0;34m.\u001b[0m\u001b[0m_lock\u001b[0m\u001b[0;34m:\u001b[0m\u001b[0;34m\u001b[0m\u001b[0;34m\u001b[0m\u001b[0m\n\u001b[1;32m   2828\u001b[0m       \u001b[0mgraph_function\u001b[0m\u001b[0;34m,\u001b[0m \u001b[0margs\u001b[0m\u001b[0;34m,\u001b[0m \u001b[0mkwargs\u001b[0m \u001b[0;34m=\u001b[0m \u001b[0mself\u001b[0m\u001b[0;34m.\u001b[0m\u001b[0m_maybe_define_function\u001b[0m\u001b[0;34m(\u001b[0m\u001b[0margs\u001b[0m\u001b[0;34m,\u001b[0m \u001b[0mkwargs\u001b[0m\u001b[0;34m)\u001b[0m\u001b[0;34m\u001b[0m\u001b[0;34m\u001b[0m\u001b[0m\n\u001b[0;32m-> 2829\u001b[0;31m     \u001b[0;32mreturn\u001b[0m \u001b[0mgraph_function\u001b[0m\u001b[0;34m.\u001b[0m\u001b[0m_filtered_call\u001b[0m\u001b[0;34m(\u001b[0m\u001b[0margs\u001b[0m\u001b[0;34m,\u001b[0m \u001b[0mkwargs\u001b[0m\u001b[0;34m)\u001b[0m  \u001b[0;31m# pylint: disable=protected-access\u001b[0m\u001b[0;34m\u001b[0m\u001b[0;34m\u001b[0m\u001b[0m\n\u001b[0m\u001b[1;32m   2830\u001b[0m \u001b[0;34m\u001b[0m\u001b[0m\n\u001b[1;32m   2831\u001b[0m   \u001b[0;34m@\u001b[0m\u001b[0mproperty\u001b[0m\u001b[0;34m\u001b[0m\u001b[0;34m\u001b[0m\u001b[0m\n",
      "\u001b[0;32m/usr/lib/python3/dist-packages/tensorflow/python/eager/function.py\u001b[0m in \u001b[0;36m_filtered_call\u001b[0;34m(self, args, kwargs, cancellation_manager)\u001b[0m\n\u001b[1;32m   1841\u001b[0m       \u001b[0;31m`\u001b[0m\u001b[0margs\u001b[0m\u001b[0;31m`\u001b[0m \u001b[0;32mand\u001b[0m\u001b[0;31m \u001b[0m\u001b[0;31m`\u001b[0m\u001b[0mkwargs\u001b[0m\u001b[0;31m`\u001b[0m\u001b[0;34m.\u001b[0m\u001b[0;34m\u001b[0m\u001b[0;34m\u001b[0m\u001b[0m\n\u001b[1;32m   1842\u001b[0m     \"\"\"\n\u001b[0;32m-> 1843\u001b[0;31m     return self._call_flat(\n\u001b[0m\u001b[1;32m   1844\u001b[0m         [t for t in nest.flatten((args, kwargs), expand_composites=True)\n\u001b[1;32m   1845\u001b[0m          if isinstance(t, (ops.Tensor,\n",
      "\u001b[0;32m/usr/lib/python3/dist-packages/tensorflow/python/eager/function.py\u001b[0m in \u001b[0;36m_call_flat\u001b[0;34m(self, args, captured_inputs, cancellation_manager)\u001b[0m\n\u001b[1;32m   1921\u001b[0m         and executing_eagerly):\n\u001b[1;32m   1922\u001b[0m       \u001b[0;31m# No tape is watching; skip to running the function.\u001b[0m\u001b[0;34m\u001b[0m\u001b[0;34m\u001b[0m\u001b[0;34m\u001b[0m\u001b[0m\n\u001b[0;32m-> 1923\u001b[0;31m       return self._build_call_outputs(self._inference_function.call(\n\u001b[0m\u001b[1;32m   1924\u001b[0m           ctx, args, cancellation_manager=cancellation_manager))\n\u001b[1;32m   1925\u001b[0m     forward_backward = self._select_forward_and_backward_functions(\n",
      "\u001b[0;32m/usr/lib/python3/dist-packages/tensorflow/python/eager/function.py\u001b[0m in \u001b[0;36mcall\u001b[0;34m(self, ctx, args, cancellation_manager)\u001b[0m\n\u001b[1;32m    543\u001b[0m       \u001b[0;32mwith\u001b[0m \u001b[0m_InterpolateFunctionError\u001b[0m\u001b[0;34m(\u001b[0m\u001b[0mself\u001b[0m\u001b[0;34m)\u001b[0m\u001b[0;34m:\u001b[0m\u001b[0;34m\u001b[0m\u001b[0;34m\u001b[0m\u001b[0m\n\u001b[1;32m    544\u001b[0m         \u001b[0;32mif\u001b[0m \u001b[0mcancellation_manager\u001b[0m \u001b[0;32mis\u001b[0m \u001b[0;32mNone\u001b[0m\u001b[0;34m:\u001b[0m\u001b[0;34m\u001b[0m\u001b[0;34m\u001b[0m\u001b[0m\n\u001b[0;32m--> 545\u001b[0;31m           outputs = execute.execute(\n\u001b[0m\u001b[1;32m    546\u001b[0m               \u001b[0mstr\u001b[0m\u001b[0;34m(\u001b[0m\u001b[0mself\u001b[0m\u001b[0;34m.\u001b[0m\u001b[0msignature\u001b[0m\u001b[0;34m.\u001b[0m\u001b[0mname\u001b[0m\u001b[0;34m)\u001b[0m\u001b[0;34m,\u001b[0m\u001b[0;34m\u001b[0m\u001b[0;34m\u001b[0m\u001b[0m\n\u001b[1;32m    547\u001b[0m               \u001b[0mnum_outputs\u001b[0m\u001b[0;34m=\u001b[0m\u001b[0mself\u001b[0m\u001b[0;34m.\u001b[0m\u001b[0m_num_outputs\u001b[0m\u001b[0;34m,\u001b[0m\u001b[0;34m\u001b[0m\u001b[0;34m\u001b[0m\u001b[0m\n",
      "\u001b[0;32m/usr/lib/python3/dist-packages/tensorflow/python/eager/execute.py\u001b[0m in \u001b[0;36mquick_execute\u001b[0;34m(op_name, num_outputs, inputs, attrs, ctx, name)\u001b[0m\n\u001b[1;32m     57\u001b[0m   \u001b[0;32mtry\u001b[0m\u001b[0;34m:\u001b[0m\u001b[0;34m\u001b[0m\u001b[0;34m\u001b[0m\u001b[0m\n\u001b[1;32m     58\u001b[0m     \u001b[0mctx\u001b[0m\u001b[0;34m.\u001b[0m\u001b[0mensure_initialized\u001b[0m\u001b[0;34m(\u001b[0m\u001b[0;34m)\u001b[0m\u001b[0;34m\u001b[0m\u001b[0;34m\u001b[0m\u001b[0m\n\u001b[0;32m---> 59\u001b[0;31m     tensors = pywrap_tfe.TFE_Py_Execute(ctx._handle, device_name, op_name,\n\u001b[0m\u001b[1;32m     60\u001b[0m                                         inputs, attrs, num_outputs)\n\u001b[1;32m     61\u001b[0m   \u001b[0;32mexcept\u001b[0m \u001b[0mcore\u001b[0m\u001b[0;34m.\u001b[0m\u001b[0m_NotOkStatusException\u001b[0m \u001b[0;32mas\u001b[0m \u001b[0me\u001b[0m\u001b[0;34m:\u001b[0m\u001b[0;34m\u001b[0m\u001b[0;34m\u001b[0m\u001b[0m\n",
      "\u001b[0;31mInvalidArgumentError\u001b[0m: 2 root error(s) found.\n  (0) Invalid argument:  indices[0,444] = 75045 is not in [0, 53572)\n\t [[node functional_5/embedding_2/embedding_lookup (defined at <ipython-input-64-f370cd0f122a>:5) ]]\n  (1) Invalid argument:  indices[0,444] = 75045 is not in [0, 53572)\n\t [[node functional_5/embedding_2/embedding_lookup (defined at <ipython-input-64-f370cd0f122a>:5) ]]\n\t [[functional_5/embedding_2/embedding_lookup/_6]]\n0 successful operations.\n0 derived errors ignored. [Op:__inference_predict_function_206668]\n\nErrors may have originated from an input operation.\nInput Source operations connected to node functional_5/embedding_2/embedding_lookup:\n functional_5/embedding_2/embedding_lookup/205306 (defined at /usr/lib/python3.8/contextlib.py:113)\n\nInput Source operations connected to node functional_5/embedding_2/embedding_lookup:\n functional_5/embedding_2/embedding_lookup/205306 (defined at /usr/lib/python3.8/contextlib.py:113)\n\nFunction call stack:\npredict_function -> predict_function\n"
     ]
    }
   ],
   "source": [
    "decode_padding(X_val_pad[789])"
   ]
  },
  {
   "cell_type": "code",
   "execution_count": null,
   "metadata": {},
   "outputs": [],
   "source": []
  },
  {
   "cell_type": "code",
   "execution_count": null,
   "metadata": {},
   "outputs": [],
   "source": []
  },
  {
   "cell_type": "code",
   "execution_count": null,
   "metadata": {},
   "outputs": [],
   "source": []
  },
  {
   "cell_type": "code",
   "execution_count": null,
   "metadata": {},
   "outputs": [],
   "source": []
  },
  {
   "cell_type": "markdown",
   "metadata": {},
   "source": [
    "## Conclusion\n",
    "\n",
    "IN this notebook, I build three Neural network models, two without attention layers, one with attention layers.\n",
    "I did some hyperparameter tuning for all the neural network models.\n",
    "\n",
    "dropout would help with overfitting.\n",
    "Batch normalization could acts as regularization and also could help with overfitting.\n",
    "\n",
    "I also add layer regularizaiton for LSTM layer ---l2,regularization"
   ]
  },
  {
   "cell_type": "code",
   "execution_count": null,
   "metadata": {},
   "outputs": [],
   "source": []
  },
  {
   "cell_type": "code",
   "execution_count": null,
   "metadata": {},
   "outputs": [],
   "source": []
  },
  {
   "cell_type": "markdown",
   "metadata": {},
   "source": [
    "reference\n",
    "\n",
    "[1]Seq2Seq: Abstractive Summarization Using LSTM and Attention Mechanism. Madhav Mishra. Aug 14,2020.\n",
    "https://medium.com/analytics-vidhya/seq2seq-abstractive-summarization-using-lstm-and-attention-mechanism-code-da2e9c439711"
   ]
  },
  {
   "cell_type": "code",
   "execution_count": null,
   "metadata": {},
   "outputs": [],
   "source": []
  },
  {
   "cell_type": "code",
   "execution_count": null,
   "metadata": {},
   "outputs": [],
   "source": []
  },
  {
   "cell_type": "code",
   "execution_count": null,
   "metadata": {},
   "outputs": [],
   "source": []
  },
  {
   "cell_type": "code",
   "execution_count": null,
   "metadata": {},
   "outputs": [],
   "source": []
  },
  {
   "cell_type": "code",
   "execution_count": null,
   "metadata": {},
   "outputs": [],
   "source": []
  },
  {
   "cell_type": "code",
   "execution_count": null,
   "metadata": {},
   "outputs": [],
   "source": []
  },
  {
   "cell_type": "code",
   "execution_count": null,
   "metadata": {},
   "outputs": [],
   "source": []
  },
  {
   "cell_type": "code",
   "execution_count": null,
   "metadata": {},
   "outputs": [],
   "source": []
  },
  {
   "cell_type": "code",
   "execution_count": null,
   "metadata": {},
   "outputs": [],
   "source": []
  },
  {
   "cell_type": "code",
   "execution_count": null,
   "metadata": {},
   "outputs": [],
   "source": []
  },
  {
   "cell_type": "code",
   "execution_count": null,
   "metadata": {},
   "outputs": [],
   "source": []
  },
  {
   "cell_type": "code",
   "execution_count": null,
   "metadata": {},
   "outputs": [],
   "source": []
  }
 ],
 "metadata": {
  "kernelspec": {
   "display_name": "Python 3",
   "language": "python",
   "name": "python3"
  },
  "language_info": {
   "codemirror_mode": {
    "name": "ipython",
    "version": 3
   },
   "file_extension": ".py",
   "mimetype": "text/x-python",
   "name": "python",
   "nbconvert_exporter": "python",
   "pygments_lexer": "ipython3",
   "version": "3.8.5"
  }
 },
 "nbformat": 4,
 "nbformat_minor": 5
}
