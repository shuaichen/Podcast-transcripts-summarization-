{
 "cells": [
  {
   "cell_type": "markdown",
   "id": "ded0efa7-ad07-4a58-ae6d-408470a0d633",
   "metadata": {},
   "source": [
    "## Capstone --- Metadata cleaning\n",
    "\n",
    "\n",
    "#### Shuaichen Wu"
   ]
  },
  {
   "cell_type": "markdown",
   "id": "036a0a8f-b3b1-467d-83b2-eaff41d4ddd2",
   "metadata": {},
   "source": [
    "## Introduction\n",
    "\n",
    "The purpose of this notebook is EDA on metadata and removing descriptions that doesn't meet particular quality requirements."
   ]
  },
  {
   "cell_type": "markdown",
   "id": "24fef523-3043-42b3-8b12-c51107b2767f",
   "metadata": {},
   "source": [
    "## Import libraries"
   ]
  },
  {
   "cell_type": "code",
   "execution_count": 30,
   "id": "9823d3e6",
   "metadata": {},
   "outputs": [],
   "source": [
    "import numpy as np\n",
    "import pandas as pd\n",
    "import matplotlib.pyplot as plt\n",
    "import seaborn as sns\n",
    "import joblib\n",
    "import time\n",
    "from sklearn.metrics.pairwise import cosine_similarity\n",
    "from sklearn.feature_extraction.text import TfidfVectorizer"
   ]
  },
  {
   "cell_type": "markdown",
   "id": "b1121e52",
   "metadata": {},
   "source": [
    "First load the metadata dataset to a Dataframe."
   ]
  },
  {
   "cell_type": "code",
   "execution_count": 2,
   "id": "76c8e29b",
   "metadata": {},
   "outputs": [],
   "source": [
    "metadata =  pd.read_csv('spotify-podcasts-2020/metadata.tsv',sep='\\t')"
   ]
  },
  {
   "cell_type": "markdown",
   "id": "b0fe289f",
   "metadata": {},
   "source": [
    "Check the head of the medata dataframe."
   ]
  },
  {
   "cell_type": "code",
   "execution_count": 3,
   "id": "96de0316",
   "metadata": {},
   "outputs": [
    {
     "data": {
      "text/html": [
       "<div>\n",
       "<style scoped>\n",
       "    .dataframe tbody tr th:only-of-type {\n",
       "        vertical-align: middle;\n",
       "    }\n",
       "\n",
       "    .dataframe tbody tr th {\n",
       "        vertical-align: top;\n",
       "    }\n",
       "\n",
       "    .dataframe thead th {\n",
       "        text-align: right;\n",
       "    }\n",
       "</style>\n",
       "<table border=\"1\" class=\"dataframe\">\n",
       "  <thead>\n",
       "    <tr style=\"text-align: right;\">\n",
       "      <th></th>\n",
       "      <th>show_uri</th>\n",
       "      <th>show_name</th>\n",
       "      <th>show_description</th>\n",
       "      <th>publisher</th>\n",
       "      <th>language</th>\n",
       "      <th>rss_link</th>\n",
       "      <th>episode_uri</th>\n",
       "      <th>episode_name</th>\n",
       "      <th>episode_description</th>\n",
       "      <th>duration</th>\n",
       "      <th>show_filename_prefix</th>\n",
       "      <th>episode_filename_prefix</th>\n",
       "    </tr>\n",
       "  </thead>\n",
       "  <tbody>\n",
       "    <tr>\n",
       "      <th>0</th>\n",
       "      <td>spotify:show:2NYtxEZyYelR6RMKmjfPLB</td>\n",
       "      <td>Kream in your Koffee</td>\n",
       "      <td>A 20-something blunt female takes on the world...</td>\n",
       "      <td>Katie Houle</td>\n",
       "      <td>['en']</td>\n",
       "      <td>https://anchor.fm/s/11b84b68/podcast/rss</td>\n",
       "      <td>spotify:episode:000A9sRBYdVh66csG2qEdj</td>\n",
       "      <td>1: It’s Christmas Time!</td>\n",
       "      <td>On the first ever episode of Kream in your Kof...</td>\n",
       "      <td>12.700133</td>\n",
       "      <td>show_2NYtxEZyYelR6RMKmjfPLB</td>\n",
       "      <td>000A9sRBYdVh66csG2qEdj</td>\n",
       "    </tr>\n",
       "    <tr>\n",
       "      <th>1</th>\n",
       "      <td>spotify:show:15iWCbU7QoO23EndPEO6aN</td>\n",
       "      <td>Morning Cup Of Murder</td>\n",
       "      <td>Ever wonder what murder took place on today in...</td>\n",
       "      <td>Morning Cup Of Murder</td>\n",
       "      <td>['en']</td>\n",
       "      <td>https://anchor.fm/s/b07181c/podcast/rss</td>\n",
       "      <td>spotify:episode:000HP8n3hNIfglT2wSI2cA</td>\n",
       "      <td>The Goleta Postal Facility shootings- January ...</td>\n",
       "      <td>See something, say something. It’s a mantra ma...</td>\n",
       "      <td>6.019383</td>\n",
       "      <td>show_15iWCbU7QoO23EndPEO6aN</td>\n",
       "      <td>000HP8n3hNIfglT2wSI2cA</td>\n",
       "    </tr>\n",
       "    <tr>\n",
       "      <th>2</th>\n",
       "      <td>spotify:show:6vZRgUFTYwbAA79UNCADr4</td>\n",
       "      <td>Inside The 18 : A Podcast for Goalkeepers by G...</td>\n",
       "      <td>Inside the 18 is your source for all things Go...</td>\n",
       "      <td>Inside the 18 GK Media</td>\n",
       "      <td>['en']</td>\n",
       "      <td>https://anchor.fm/s/81a072c/podcast/rss</td>\n",
       "      <td>spotify:episode:001UfOruzkA3Bn1SPjcdfa</td>\n",
       "      <td>Ep.36 - Incorporating a Singular Goalkeeping C...</td>\n",
       "      <td>Today’s episode is a sit down Michael and Omar...</td>\n",
       "      <td>43.616333</td>\n",
       "      <td>show_6vZRgUFTYwbAA79UNCADr4</td>\n",
       "      <td>001UfOruzkA3Bn1SPjcdfa</td>\n",
       "    </tr>\n",
       "    <tr>\n",
       "      <th>3</th>\n",
       "      <td>spotify:show:5BvKEjaMSuvUsGROGi2S7s</td>\n",
       "      <td>Arrowhead Live!</td>\n",
       "      <td>Your favorite podcast for everything @Chiefs! ...</td>\n",
       "      <td>Arrowhead Live!</td>\n",
       "      <td>['en-US']</td>\n",
       "      <td>https://anchor.fm/s/917dba4/podcast/rss</td>\n",
       "      <td>spotify:episode:001i89SvIQgDuuyC53hfBm</td>\n",
       "      <td>Episode 1: Arrowhead Live! Debut</td>\n",
       "      <td>Join us as we take a look at all current Chief...</td>\n",
       "      <td>58.189200</td>\n",
       "      <td>show_5BvKEjaMSuvUsGROGi2S7s</td>\n",
       "      <td>001i89SvIQgDuuyC53hfBm</td>\n",
       "    </tr>\n",
       "    <tr>\n",
       "      <th>4</th>\n",
       "      <td>spotify:show:7w3h3umpH74veEJcbE6xf4</td>\n",
       "      <td>FBoL</td>\n",
       "      <td>The comedy podcast about toxic characters, wri...</td>\n",
       "      <td>Emily Edwards</td>\n",
       "      <td>['en']</td>\n",
       "      <td>https://www.fuckboisoflit.com/episodes?format=rss</td>\n",
       "      <td>spotify:episode:0025RWNwe2lnp6HcnfzwzG</td>\n",
       "      <td>The Lion, The Witch, And The Wardrobe - Ashley...</td>\n",
       "      <td>The modern morality tail of how to stay good f...</td>\n",
       "      <td>51.782050</td>\n",
       "      <td>show_7w3h3umpH74veEJcbE6xf4</td>\n",
       "      <td>0025RWNwe2lnp6HcnfzwzG</td>\n",
       "    </tr>\n",
       "  </tbody>\n",
       "</table>\n",
       "</div>"
      ],
      "text/plain": [
       "                              show_uri  \\\n",
       "0  spotify:show:2NYtxEZyYelR6RMKmjfPLB   \n",
       "1  spotify:show:15iWCbU7QoO23EndPEO6aN   \n",
       "2  spotify:show:6vZRgUFTYwbAA79UNCADr4   \n",
       "3  spotify:show:5BvKEjaMSuvUsGROGi2S7s   \n",
       "4  spotify:show:7w3h3umpH74veEJcbE6xf4   \n",
       "\n",
       "                                           show_name  \\\n",
       "0                               Kream in your Koffee   \n",
       "1                              Morning Cup Of Murder   \n",
       "2  Inside The 18 : A Podcast for Goalkeepers by G...   \n",
       "3                                    Arrowhead Live!   \n",
       "4                                              FBoL    \n",
       "\n",
       "                                    show_description               publisher  \\\n",
       "0  A 20-something blunt female takes on the world...             Katie Houle   \n",
       "1  Ever wonder what murder took place on today in...   Morning Cup Of Murder   \n",
       "2  Inside the 18 is your source for all things Go...  Inside the 18 GK Media   \n",
       "3  Your favorite podcast for everything @Chiefs! ...         Arrowhead Live!   \n",
       "4  The comedy podcast about toxic characters, wri...           Emily Edwards   \n",
       "\n",
       "    language                                           rss_link  \\\n",
       "0     ['en']           https://anchor.fm/s/11b84b68/podcast/rss   \n",
       "1     ['en']            https://anchor.fm/s/b07181c/podcast/rss   \n",
       "2     ['en']            https://anchor.fm/s/81a072c/podcast/rss   \n",
       "3  ['en-US']            https://anchor.fm/s/917dba4/podcast/rss   \n",
       "4     ['en']  https://www.fuckboisoflit.com/episodes?format=rss   \n",
       "\n",
       "                              episode_uri  \\\n",
       "0  spotify:episode:000A9sRBYdVh66csG2qEdj   \n",
       "1  spotify:episode:000HP8n3hNIfglT2wSI2cA   \n",
       "2  spotify:episode:001UfOruzkA3Bn1SPjcdfa   \n",
       "3  spotify:episode:001i89SvIQgDuuyC53hfBm   \n",
       "4  spotify:episode:0025RWNwe2lnp6HcnfzwzG   \n",
       "\n",
       "                                        episode_name  \\\n",
       "0                            1: It’s Christmas Time!   \n",
       "1  The Goleta Postal Facility shootings- January ...   \n",
       "2  Ep.36 - Incorporating a Singular Goalkeeping C...   \n",
       "3                   Episode 1: Arrowhead Live! Debut   \n",
       "4  The Lion, The Witch, And The Wardrobe - Ashley...   \n",
       "\n",
       "                                 episode_description   duration  \\\n",
       "0  On the first ever episode of Kream in your Kof...  12.700133   \n",
       "1  See something, say something. It’s a mantra ma...   6.019383   \n",
       "2  Today’s episode is a sit down Michael and Omar...  43.616333   \n",
       "3  Join us as we take a look at all current Chief...  58.189200   \n",
       "4  The modern morality tail of how to stay good f...  51.782050   \n",
       "\n",
       "          show_filename_prefix episode_filename_prefix  \n",
       "0  show_2NYtxEZyYelR6RMKmjfPLB  000A9sRBYdVh66csG2qEdj  \n",
       "1  show_15iWCbU7QoO23EndPEO6aN  000HP8n3hNIfglT2wSI2cA  \n",
       "2  show_6vZRgUFTYwbAA79UNCADr4  001UfOruzkA3Bn1SPjcdfa  \n",
       "3  show_5BvKEjaMSuvUsGROGi2S7s  001i89SvIQgDuuyC53hfBm  \n",
       "4  show_7w3h3umpH74veEJcbE6xf4  0025RWNwe2lnp6HcnfzwzG  "
      ]
     },
     "execution_count": 3,
     "metadata": {},
     "output_type": "execute_result"
    }
   ],
   "source": [
    "metadata.head()"
   ]
  },
  {
   "cell_type": "markdown",
   "id": "85e7c2d3",
   "metadata": {},
   "source": [
    "Check the shape of the dataframe."
   ]
  },
  {
   "cell_type": "code",
   "execution_count": 4,
   "id": "3fb90697",
   "metadata": {},
   "outputs": [
    {
     "data": {
      "text/plain": [
       "(105360, 12)"
      ]
     },
     "execution_count": 4,
     "metadata": {},
     "output_type": "execute_result"
    }
   ],
   "source": [
    "metadata.shape"
   ]
  },
  {
   "cell_type": "markdown",
   "id": "bfefa31b",
   "metadata": {},
   "source": [
    "We have 105360 episodes and 12 features."
   ]
  },
  {
   "cell_type": "code",
   "execution_count": 5,
   "id": "7aee482a",
   "metadata": {},
   "outputs": [
    {
     "name": "stdout",
     "output_type": "stream",
     "text": [
      "<class 'pandas.core.frame.DataFrame'>\n",
      "RangeIndex: 105360 entries, 0 to 105359\n",
      "Data columns (total 12 columns):\n",
      " #   Column                   Non-Null Count   Dtype  \n",
      "---  ------                   --------------   -----  \n",
      " 0   show_uri                 105360 non-null  object \n",
      " 1   show_name                105360 non-null  object \n",
      " 2   show_description         105358 non-null  object \n",
      " 3   publisher                105360 non-null  object \n",
      " 4   language                 105360 non-null  object \n",
      " 5   rss_link                 105360 non-null  object \n",
      " 6   episode_uri              105360 non-null  object \n",
      " 7   episode_name             105360 non-null  object \n",
      " 8   episode_description      105155 non-null  object \n",
      " 9   duration                 105360 non-null  float64\n",
      " 10  show_filename_prefix     105360 non-null  object \n",
      " 11  episode_filename_prefix  105360 non-null  object \n",
      "dtypes: float64(1), object(11)\n",
      "memory usage: 9.6+ MB\n"
     ]
    }
   ],
   "source": [
    "metadata.info()"
   ]
  },
  {
   "cell_type": "markdown",
   "id": "afcb5e38",
   "metadata": {},
   "source": [
    "We have 12 columns here.\n",
    "\n",
    "About the show\n",
    "0 show_uri: uri is short for uniform resource identifier, spotify uri for the show\n",
    "\n",
    "1 show_name: name of the show\n",
    "\n",
    "2 show_description: description of the show\n",
    "\n",
    "3 publisher: publisher of the show\n",
    "\n",
    "4 language: language the show is in\n",
    "\n",
    "5 rss_link: links of show rss feed\n",
    "\n",
    "10 show_filename_prefix: filename_prefix of the show\n",
    "\n",
    "\n",
    "About the episode\n",
    "6 episode_uri: Spotify uri for the episode\n",
    "\n",
    "7 episode_name: Name of the episode\n",
    "\n",
    "8 episode_description: Description of the episode\n",
    "\n",
    "9 duration: duration of the episode in minutes\n",
    "\n",
    "11 episode_file_name_prefix: filename_prefix of the episode\n",
    "\n",
    "\n",
    "\n"
   ]
  },
  {
   "cell_type": "markdown",
   "id": "47169bb3",
   "metadata": {},
   "source": [
    "Now we need to check for null values and duplicated information"
   ]
  },
  {
   "cell_type": "code",
   "execution_count": 6,
   "id": "bd18d313",
   "metadata": {},
   "outputs": [
    {
     "data": {
      "text/plain": [
       "show_uri                     0\n",
       "show_name                    0\n",
       "show_description             2\n",
       "publisher                    0\n",
       "language                     0\n",
       "rss_link                     0\n",
       "episode_uri                  0\n",
       "episode_name                 0\n",
       "episode_description        205\n",
       "duration                     0\n",
       "show_filename_prefix         0\n",
       "episode_filename_prefix      0\n",
       "dtype: int64"
      ]
     },
     "execution_count": 6,
     "metadata": {},
     "output_type": "execute_result"
    }
   ],
   "source": [
    "metadata.isna().sum()"
   ]
  },
  {
   "cell_type": "code",
   "execution_count": 7,
   "id": "7c2c0bae",
   "metadata": {},
   "outputs": [
    {
     "data": {
      "text/plain": [
       "0"
      ]
     },
     "execution_count": 7,
     "metadata": {},
     "output_type": "execute_result"
    }
   ],
   "source": [
    "metadata.duplicated().sum()"
   ]
  },
  {
   "cell_type": "markdown",
   "id": "a1dbad09",
   "metadata": {},
   "source": [
    "The dataset doesn't have duplicated rows, but we have 205 null values. It is a small number, so we decide to drop it. "
   ]
  },
  {
   "cell_type": "code",
   "execution_count": 8,
   "id": "0528cba0",
   "metadata": {},
   "outputs": [],
   "source": [
    "metadata.dropna(inplace=True)"
   ]
  },
  {
   "cell_type": "code",
   "execution_count": 9,
   "id": "980fe409",
   "metadata": {},
   "outputs": [
    {
     "data": {
      "text/plain": [
       "0"
      ]
     },
     "execution_count": 9,
     "metadata": {},
     "output_type": "execute_result"
    }
   ],
   "source": [
    "#verify the change we did\n",
    "metadata.isna().sum().sum()"
   ]
  },
  {
   "cell_type": "markdown",
   "id": "37f38bb1",
   "metadata": {},
   "source": [
    "There are two columns in the dataset that could identify a show. One is show_name, and another one is show_uri.\n",
    "I check if they contain the same information."
   ]
  },
  {
   "cell_type": "code",
   "execution_count": 10,
   "id": "1ba6ec29",
   "metadata": {},
   "outputs": [
    {
     "data": {
      "text/plain": [
       "show_name\n",
       "Chompers                                                   1071\n",
       "Dr Berg’s Healthy Keto and Intermittent Fasting Podcast     746\n",
       "Coach Corey Wayne                                           615\n",
       "Optimal Living Daily: Personal Development & Minimalism     424\n",
       "Daily Fortnite                                              417\n",
       "                                                           ... \n",
       "Mindful Mommy and More                                        1\n",
       "Mindful Mondays by Afro Yoga                                  1\n",
       "Mindful meditations by Eva Lilleoer                           1\n",
       "Minding The Gap                                               1\n",
       "Of Dice and Myths                                             1\n",
       "Length: 18240, dtype: int64"
      ]
     },
     "execution_count": 10,
     "metadata": {},
     "output_type": "execute_result"
    }
   ],
   "source": [
    "metadata.groupby('show_name').size().sort_values(ascending=False)"
   ]
  },
  {
   "cell_type": "code",
   "execution_count": 11,
   "id": "177e2e23",
   "metadata": {},
   "outputs": [
    {
     "data": {
      "text/plain": [
       "show_uri\n",
       "spotify:show:21ASCcEXgUlbFSmoqjroZm    1071\n",
       "spotify:show:5HT3tYlyW8TJF9KWHQXXtX     746\n",
       "spotify:show:56CjYLQWyMx1MkOEQmlubi     615\n",
       "spotify:show:1hygb4nGhNhlLn4pBnN00j     424\n",
       "spotify:show:4GoSoxDAsPxdQifYr4vv69     417\n",
       "                                       ... \n",
       "spotify:show:3WDgvVRwgwqQxsg6IKEnyJ       1\n",
       "spotify:show:3WE0GsACUrsGw5z19fkR0Y       1\n",
       "spotify:show:3WGNSAIvSRaom78pRqImHN       1\n",
       "spotify:show:3WR3UCfquYMUb0TMJyQelZ       1\n",
       "spotify:show:7zzrs2gTHKXL8fbtjdLDAE       1\n",
       "Length: 18326, dtype: int64"
      ]
     },
     "execution_count": 11,
     "metadata": {},
     "output_type": "execute_result"
    }
   ],
   "source": [
    "metadata.groupby('show_uri').size().sort_values(ascending=False)"
   ]
  },
  {
   "cell_type": "code",
   "execution_count": 12,
   "id": "aa54d005-2341-4696-8ca8-f6e8602688a2",
   "metadata": {},
   "outputs": [
    {
     "data": {
      "text/plain": [
       "show_filename_prefix\n",
       "show_21ASCcEXgUlbFSmoqjroZm    1071\n",
       "show_5HT3tYlyW8TJF9KWHQXXtX     746\n",
       "show_56CjYLQWyMx1MkOEQmlubi     615\n",
       "show_1hygb4nGhNhlLn4pBnN00j     424\n",
       "show_4GoSoxDAsPxdQifYr4vv69     417\n",
       "                               ... \n",
       "show_3WDgvVRwgwqQxsg6IKEnyJ       1\n",
       "show_3WE0GsACUrsGw5z19fkR0Y       1\n",
       "show_3WGNSAIvSRaom78pRqImHN       1\n",
       "show_3WR3UCfquYMUb0TMJyQelZ       1\n",
       "show_7zzrs2gTHKXL8fbtjdLDAE       1\n",
       "Length: 18326, dtype: int64"
      ]
     },
     "execution_count": 12,
     "metadata": {},
     "output_type": "execute_result"
    }
   ],
   "source": [
    "metadata.groupby('show_filename_prefix').size().sort_values(ascending=False)"
   ]
  },
  {
   "cell_type": "markdown",
   "id": "74824684",
   "metadata": {},
   "source": [
    "Regarding the URI unique resource identifier, there are more show uris than show names in this dataset. It shows there are some shows that have the same show names.\n",
    "\n",
    "Show_filename_prefix contains the same information with show uri."
   ]
  },
  {
   "cell_type": "markdown",
   "id": "9489c0be-0f4e-47ba-8ebe-cd8168063dea",
   "metadata": {},
   "source": [
    "And I know that all the 105360 episodes come from 18,326 shows. \n",
    "\n",
    "Since I only need the filename prefix to build file paths for transcripts, now I can safely drop show show_uri."
   ]
  },
  {
   "cell_type": "code",
   "execution_count": 13,
   "id": "96ad10d3-ea6a-4531-9b86-43e098b46dbe",
   "metadata": {},
   "outputs": [],
   "source": [
    "metadata.drop('show_uri',axis=1,inplace=True)"
   ]
  },
  {
   "cell_type": "code",
   "execution_count": 14,
   "id": "9f8fc73d-8b43-4811-bfb2-ceaab3cea816",
   "metadata": {},
   "outputs": [
    {
     "data": {
      "text/plain": [
       "Index(['show_name', 'show_description', 'publisher', 'language', 'rss_link',\n",
       "       'episode_uri', 'episode_name', 'episode_description', 'duration',\n",
       "       'show_filename_prefix', 'episode_filename_prefix'],\n",
       "      dtype='object')"
      ]
     },
     "execution_count": 14,
     "metadata": {},
     "output_type": "execute_result"
    }
   ],
   "source": [
    "#check the modification we did\n",
    "metadata.columns"
   ]
  },
  {
   "cell_type": "markdown",
   "id": "8ccd2578",
   "metadata": {},
   "source": [
    "Now we check the language column distribution."
   ]
  },
  {
   "cell_type": "code",
   "execution_count": 15,
   "id": "9b5fdb3e",
   "metadata": {},
   "outputs": [
    {
     "data": {
      "text/plain": [
       "array([\"['en']\", \"['en-US']\", \"['en-AU']\", \"['en-CA']\", \"['en-GB']\",\n",
       "       \"['en-NZ']\", \"['en-IE']\", \"['ms']\", \"['en-PH']\", \"['ta']\",\n",
       "       \"['en-ZA']\", \"['id']\", \"['nl-BE']\", \"['ga']\", \"['en-JM']\",\n",
       "       \"['hi']\", \"['ml']\", \"['en-IN']\", \"['es']\", \"['pt']\"], dtype=object)"
      ]
     },
     "execution_count": 15,
     "metadata": {},
     "output_type": "execute_result"
    }
   ],
   "source": [
    "metadata['language'].unique()"
   ]
  },
  {
   "cell_type": "markdown",
   "id": "e326b3ea",
   "metadata": {},
   "source": [
    "We find out that our podcasts have a diverse set of languages. Let's check the distribution of episodes by language."
   ]
  },
  {
   "cell_type": "code",
   "execution_count": 16,
   "id": "99a44961",
   "metadata": {},
   "outputs": [
    {
     "name": "stderr",
     "output_type": "stream",
     "text": [
      "/Users/wuxiaobai/opt/anaconda3/envs/deeplearning/lib/python3.8/site-packages/seaborn/_decorators.py:36: FutureWarning: Pass the following variables as keyword args: x, y. From version 0.12, the only valid positional argument will be `data`, and passing other arguments without an explicit keyword will result in an error or misinterpretation.\n",
      "  warnings.warn(\n"
     ]
    },
    {
     "data": {
      "image/png": "[encoded data removed]",
      "text/plain": [
       "<Figure size 720x576 with 1 Axes>"
      ]
     },
     "metadata": {
      "needs_background": "light"
     },
     "output_type": "display_data"
    }
   ],
   "source": [
    "plt.figure(figsize=(10,8))\n",
    "sns.barplot(metadata['language'].value_counts().values,metadata['language'].value_counts().index)\n",
    "plt.xticks(rotation=45)\n",
    "plt.xlabel('count of episodes',size=15)\n",
    "plt.ylabel('laguage',size=15);\n",
    "plt.title('Count of podcasts by language',size=20)\n",
    "plt.savefig('count of podcasts by language')"
   ]
  },
  {
   "cell_type": "markdown",
   "id": "cdf99034",
   "metadata": {},
   "source": [
    "We find out that the majority of our podcasts use English. For convenience of analysis, we decide to merge all the english episodes -- for example, 'en', 'en-US', 'en_AU' -- then drop all episodes with non-english language."
   ]
  },
  {
   "cell_type": "code",
   "execution_count": 17,
   "id": "792e14c1",
   "metadata": {},
   "outputs": [],
   "source": [
    "metadata['language']=metadata['language'].apply(lambda x:1 if 'en' in x else 0)"
   ]
  },
  {
   "cell_type": "code",
   "execution_count": 18,
   "id": "69f34118",
   "metadata": {},
   "outputs": [
    {
     "data": {
      "text/plain": [
       "1    105025\n",
       "0       128\n",
       "Name: language, dtype: int64"
      ]
     },
     "execution_count": 18,
     "metadata": {},
     "output_type": "execute_result"
    }
   ],
   "source": [
    "#verify the change we did\n",
    "metadata['language'].value_counts()"
   ]
  },
  {
   "cell_type": "code",
   "execution_count": 19,
   "id": "3ab52ef9",
   "metadata": {},
   "outputs": [],
   "source": [
    "#drop the non english episodes\n",
    "metadata = metadata[metadata['language']==1]"
   ]
  },
  {
   "cell_type": "code",
   "execution_count": 20,
   "id": "3964165d",
   "metadata": {},
   "outputs": [
    {
     "data": {
      "text/plain": [
       "1    105025\n",
       "Name: language, dtype: int64"
      ]
     },
     "execution_count": 20,
     "metadata": {},
     "output_type": "execute_result"
    }
   ],
   "source": [
    "#verify the change we did\n",
    "metadata['language'].value_counts()"
   ]
  },
  {
   "cell_type": "markdown",
   "id": "a79b9a4c",
   "metadata": {},
   "source": [
    "Now we can safely drop the language column, since it doesn't offer any information about the dataset."
   ]
  },
  {
   "cell_type": "code",
   "execution_count": 21,
   "id": "fd229aa6",
   "metadata": {},
   "outputs": [],
   "source": [
    "metadata.drop('language',axis=1,inplace=True)"
   ]
  },
  {
   "cell_type": "code",
   "execution_count": 22,
   "id": "c4a8a66b",
   "metadata": {},
   "outputs": [
    {
     "data": {
      "text/html": [
       "<div>\n",
       "<style scoped>\n",
       "    .dataframe tbody tr th:only-of-type {\n",
       "        vertical-align: middle;\n",
       "    }\n",
       "\n",
       "    .dataframe tbody tr th {\n",
       "        vertical-align: top;\n",
       "    }\n",
       "\n",
       "    .dataframe thead th {\n",
       "        text-align: right;\n",
       "    }\n",
       "</style>\n",
       "<table border=\"1\" class=\"dataframe\">\n",
       "  <thead>\n",
       "    <tr style=\"text-align: right;\">\n",
       "      <th></th>\n",
       "      <th>show_name</th>\n",
       "      <th>show_description</th>\n",
       "      <th>publisher</th>\n",
       "      <th>rss_link</th>\n",
       "      <th>episode_uri</th>\n",
       "      <th>episode_name</th>\n",
       "      <th>episode_description</th>\n",
       "      <th>duration</th>\n",
       "      <th>show_filename_prefix</th>\n",
       "      <th>episode_filename_prefix</th>\n",
       "    </tr>\n",
       "  </thead>\n",
       "  <tbody>\n",
       "    <tr>\n",
       "      <th>0</th>\n",
       "      <td>Kream in your Koffee</td>\n",
       "      <td>A 20-something blunt female takes on the world...</td>\n",
       "      <td>Katie Houle</td>\n",
       "      <td>https://anchor.fm/s/11b84b68/podcast/rss</td>\n",
       "      <td>spotify:episode:000A9sRBYdVh66csG2qEdj</td>\n",
       "      <td>1: It’s Christmas Time!</td>\n",
       "      <td>On the first ever episode of Kream in your Kof...</td>\n",
       "      <td>12.700133</td>\n",
       "      <td>show_2NYtxEZyYelR6RMKmjfPLB</td>\n",
       "      <td>000A9sRBYdVh66csG2qEdj</td>\n",
       "    </tr>\n",
       "    <tr>\n",
       "      <th>1</th>\n",
       "      <td>Morning Cup Of Murder</td>\n",
       "      <td>Ever wonder what murder took place on today in...</td>\n",
       "      <td>Morning Cup Of Murder</td>\n",
       "      <td>https://anchor.fm/s/b07181c/podcast/rss</td>\n",
       "      <td>spotify:episode:000HP8n3hNIfglT2wSI2cA</td>\n",
       "      <td>The Goleta Postal Facility shootings- January ...</td>\n",
       "      <td>See something, say something. It’s a mantra ma...</td>\n",
       "      <td>6.019383</td>\n",
       "      <td>show_15iWCbU7QoO23EndPEO6aN</td>\n",
       "      <td>000HP8n3hNIfglT2wSI2cA</td>\n",
       "    </tr>\n",
       "    <tr>\n",
       "      <th>2</th>\n",
       "      <td>Inside The 18 : A Podcast for Goalkeepers by G...</td>\n",
       "      <td>Inside the 18 is your source for all things Go...</td>\n",
       "      <td>Inside the 18 GK Media</td>\n",
       "      <td>https://anchor.fm/s/81a072c/podcast/rss</td>\n",
       "      <td>spotify:episode:001UfOruzkA3Bn1SPjcdfa</td>\n",
       "      <td>Ep.36 - Incorporating a Singular Goalkeeping C...</td>\n",
       "      <td>Today’s episode is a sit down Michael and Omar...</td>\n",
       "      <td>43.616333</td>\n",
       "      <td>show_6vZRgUFTYwbAA79UNCADr4</td>\n",
       "      <td>001UfOruzkA3Bn1SPjcdfa</td>\n",
       "    </tr>\n",
       "    <tr>\n",
       "      <th>3</th>\n",
       "      <td>Arrowhead Live!</td>\n",
       "      <td>Your favorite podcast for everything @Chiefs! ...</td>\n",
       "      <td>Arrowhead Live!</td>\n",
       "      <td>https://anchor.fm/s/917dba4/podcast/rss</td>\n",
       "      <td>spotify:episode:001i89SvIQgDuuyC53hfBm</td>\n",
       "      <td>Episode 1: Arrowhead Live! Debut</td>\n",
       "      <td>Join us as we take a look at all current Chief...</td>\n",
       "      <td>58.189200</td>\n",
       "      <td>show_5BvKEjaMSuvUsGROGi2S7s</td>\n",
       "      <td>001i89SvIQgDuuyC53hfBm</td>\n",
       "    </tr>\n",
       "    <tr>\n",
       "      <th>4</th>\n",
       "      <td>FBoL</td>\n",
       "      <td>The comedy podcast about toxic characters, wri...</td>\n",
       "      <td>Emily Edwards</td>\n",
       "      <td>https://www.fuckboisoflit.com/episodes?format=rss</td>\n",
       "      <td>spotify:episode:0025RWNwe2lnp6HcnfzwzG</td>\n",
       "      <td>The Lion, The Witch, And The Wardrobe - Ashley...</td>\n",
       "      <td>The modern morality tail of how to stay good f...</td>\n",
       "      <td>51.782050</td>\n",
       "      <td>show_7w3h3umpH74veEJcbE6xf4</td>\n",
       "      <td>0025RWNwe2lnp6HcnfzwzG</td>\n",
       "    </tr>\n",
       "  </tbody>\n",
       "</table>\n",
       "</div>"
      ],
      "text/plain": [
       "                                           show_name  \\\n",
       "0                               Kream in your Koffee   \n",
       "1                              Morning Cup Of Murder   \n",
       "2  Inside The 18 : A Podcast for Goalkeepers by G...   \n",
       "3                                    Arrowhead Live!   \n",
       "4                                              FBoL    \n",
       "\n",
       "                                    show_description               publisher  \\\n",
       "0  A 20-something blunt female takes on the world...             Katie Houle   \n",
       "1  Ever wonder what murder took place on today in...   Morning Cup Of Murder   \n",
       "2  Inside the 18 is your source for all things Go...  Inside the 18 GK Media   \n",
       "3  Your favorite podcast for everything @Chiefs! ...         Arrowhead Live!   \n",
       "4  The comedy podcast about toxic characters, wri...           Emily Edwards   \n",
       "\n",
       "                                            rss_link  \\\n",
       "0           https://anchor.fm/s/11b84b68/podcast/rss   \n",
       "1            https://anchor.fm/s/b07181c/podcast/rss   \n",
       "2            https://anchor.fm/s/81a072c/podcast/rss   \n",
       "3            https://anchor.fm/s/917dba4/podcast/rss   \n",
       "4  https://www.fuckboisoflit.com/episodes?format=rss   \n",
       "\n",
       "                              episode_uri  \\\n",
       "0  spotify:episode:000A9sRBYdVh66csG2qEdj   \n",
       "1  spotify:episode:000HP8n3hNIfglT2wSI2cA   \n",
       "2  spotify:episode:001UfOruzkA3Bn1SPjcdfa   \n",
       "3  spotify:episode:001i89SvIQgDuuyC53hfBm   \n",
       "4  spotify:episode:0025RWNwe2lnp6HcnfzwzG   \n",
       "\n",
       "                                        episode_name  \\\n",
       "0                            1: It’s Christmas Time!   \n",
       "1  The Goleta Postal Facility shootings- January ...   \n",
       "2  Ep.36 - Incorporating a Singular Goalkeeping C...   \n",
       "3                   Episode 1: Arrowhead Live! Debut   \n",
       "4  The Lion, The Witch, And The Wardrobe - Ashley...   \n",
       "\n",
       "                                 episode_description   duration  \\\n",
       "0  On the first ever episode of Kream in your Kof...  12.700133   \n",
       "1  See something, say something. It’s a mantra ma...   6.019383   \n",
       "2  Today’s episode is a sit down Michael and Omar...  43.616333   \n",
       "3  Join us as we take a look at all current Chief...  58.189200   \n",
       "4  The modern morality tail of how to stay good f...  51.782050   \n",
       "\n",
       "          show_filename_prefix episode_filename_prefix  \n",
       "0  show_2NYtxEZyYelR6RMKmjfPLB  000A9sRBYdVh66csG2qEdj  \n",
       "1  show_15iWCbU7QoO23EndPEO6aN  000HP8n3hNIfglT2wSI2cA  \n",
       "2  show_6vZRgUFTYwbAA79UNCADr4  001UfOruzkA3Bn1SPjcdfa  \n",
       "3  show_5BvKEjaMSuvUsGROGi2S7s  001i89SvIQgDuuyC53hfBm  \n",
       "4  show_7w3h3umpH74veEJcbE6xf4  0025RWNwe2lnp6HcnfzwzG  "
      ]
     },
     "execution_count": 22,
     "metadata": {},
     "output_type": "execute_result"
    }
   ],
   "source": [
    "#verify the drop we did\n",
    "metadata.head(5)"
   ]
  },
  {
   "cell_type": "markdown",
   "id": "fb12fd04",
   "metadata": {},
   "source": [
    "Let's check the duration column."
   ]
  },
  {
   "cell_type": "code",
   "execution_count": 23,
   "id": "d43b254d",
   "metadata": {},
   "outputs": [
    {
     "data": {
      "text/plain": [
       "count    105025.000000\n",
       "mean         33.911146\n",
       "std          22.715013\n",
       "min           0.175317\n",
       "25%          13.650283\n",
       "50%          31.708400\n",
       "75%          50.487833\n",
       "max         304.953900\n",
       "Name: duration, dtype: float64"
      ]
     },
     "execution_count": 23,
     "metadata": {},
     "output_type": "execute_result"
    }
   ],
   "source": [
    "metadata['duration'].describe()"
   ]
  },
  {
   "cell_type": "code",
   "execution_count": 24,
   "id": "ae4613b5",
   "metadata": {},
   "outputs": [
    {
     "name": "stderr",
     "output_type": "stream",
     "text": [
      "/Users/wuxiaobai/opt/anaconda3/envs/deeplearning/lib/python3.8/site-packages/seaborn/_decorators.py:36: FutureWarning: Pass the following variable as a keyword arg: x. From version 0.12, the only valid positional argument will be `data`, and passing other arguments without an explicit keyword will result in an error or misinterpretation.\n",
      "  warnings.warn(\n"
     ]
    },
    {
     "data": {
      "image/png": "[encoded data removed]",
      "text/plain": [
       "<Figure size 720x216 with 1 Axes>"
      ]
     },
     "metadata": {
      "needs_background": "light"
     },
     "output_type": "display_data"
    }
   ],
   "source": [
    "plt.figure(figsize=(10,3))\n",
    "sns.boxplot(metadata['duration'],color='pink')\n",
    "plt.xticks(range(0,300,15))\n",
    "plt.title('Boxplot of Podcast duration distribution')\n",
    "plt.savefig('Boxplot of podcast duration distribution')"
   ]
  },
  {
   "cell_type": "markdown",
   "id": "4b9639e0",
   "metadata": {},
   "source": [
    "This feature describes episode duration. From the description table, we know the shortest episode could be close to 0.17 minites, which is an unprofessional podcast. To eliminate all unprofessional podcasts we decide to set a threshold."
   ]
  },
  {
   "cell_type": "code",
   "execution_count": 25,
   "id": "87ca4551",
   "metadata": {},
   "outputs": [
    {
     "data": {
      "text/plain": [
       "3.1949766666666672"
      ]
     },
     "execution_count": 25,
     "metadata": {},
     "output_type": "execute_result"
    }
   ],
   "source": [
    "metadata['duration'].quantile(0.05)"
   ]
  },
  {
   "cell_type": "markdown",
   "id": "04f4db16",
   "metadata": {},
   "source": [
    "95% podcasts in the dataset are longer than 3 minutes. There are some podcasts that try to fit into people's life and make the duration around 3 to 5 minutes, for example radio headspace: https://www.headspace.com/podcast.\n",
    "\n",
    "3 minutes is a reasonable cut.\n",
    "\n",
    "Also, some outliers show after 105 minutes, so we decide to drop outliers too."
   ]
  },
  {
   "cell_type": "code",
   "execution_count": 26,
   "id": "468cfcbd",
   "metadata": {},
   "outputs": [],
   "source": [
    "metadata=metadata[(metadata['duration']>=3) & (metadata['duration']<=105)]"
   ]
  },
  {
   "cell_type": "code",
   "execution_count": 27,
   "id": "690ac75f",
   "metadata": {},
   "outputs": [
    {
     "data": {
      "text/plain": [
       "count    100245.000000\n",
       "mean         35.352103\n",
       "std          21.989070\n",
       "min           3.000000\n",
       "25%          15.794983\n",
       "50%          33.290883\n",
       "75%          51.487783\n",
       "max         104.970883\n",
       "Name: duration, dtype: float64"
      ]
     },
     "execution_count": 27,
     "metadata": {},
     "output_type": "execute_result"
    }
   ],
   "source": [
    "#verify the change we made\n",
    "metadata['duration'].describe()"
   ]
  },
  {
   "cell_type": "markdown",
   "id": "54c3eed6",
   "metadata": {},
   "source": [
    "There are a few columns that are not needed for our future model building.\n",
    "\n",
    "'rss_link': contains information I don't need\n",
    "\n",
    "'episode_uri': shares the same information with 'episode_filename_prefix'\n",
    "\n",
    "'show_name'\n",
    "\n",
    "'episode_name'\n",
    "\n",
    "We decide to drop them."
   ]
  },
  {
   "cell_type": "code",
   "execution_count": 28,
   "id": "9c90523c",
   "metadata": {},
   "outputs": [],
   "source": [
    "metadata.drop(['rss_link','episode_uri'],axis=1,inplace=True)"
   ]
  },
  {
   "cell_type": "code",
   "execution_count": 29,
   "id": "e01a702b-8bfc-48b7-948a-997098d3ec33",
   "metadata": {},
   "outputs": [],
   "source": [
    "metadata.drop(['show_name','episode_name'],axis=1,inplace=True)"
   ]
  },
  {
   "cell_type": "code",
   "execution_count": 30,
   "id": "d36bf05d-b1c1-475b-b790-2b0fbee76954",
   "metadata": {},
   "outputs": [
    {
     "data": {
      "text/plain": [
       "Index(['show_description', 'publisher', 'episode_description', 'duration',\n",
       "       'show_filename_prefix', 'episode_filename_prefix'],\n",
       "      dtype='object')"
      ]
     },
     "execution_count": 30,
     "metadata": {},
     "output_type": "execute_result"
    }
   ],
   "source": [
    "#verify the change we did\n",
    "metadata.columns"
   ]
  },
  {
   "cell_type": "code",
   "execution_count": 31,
   "id": "c5c0a4b7",
   "metadata": {},
   "outputs": [
    {
     "data": {
      "text/plain": [
       "100245"
      ]
     },
     "execution_count": 31,
     "metadata": {},
     "output_type": "execute_result"
    }
   ],
   "source": [
    "#check the number of episodes now.\n",
    "metadata['episode_filename_prefix'].nunique() "
   ]
  },
  {
   "cell_type": "code",
   "execution_count": 32,
   "id": "4b0169ea-a60b-4ff7-882d-9afaeb47614c",
   "metadata": {},
   "outputs": [
    {
     "data": {
      "text/plain": [
       "17498"
      ]
     },
     "execution_count": 32,
     "metadata": {},
     "output_type": "execute_result"
    }
   ],
   "source": [
    "##check the number of shows now.\n",
    "metadata['show_filename_prefix'].nunique() "
   ]
  },
  {
   "cell_type": "markdown",
   "id": "fd53d9d3-e8dd-4713-9a56-90d8e6c8315a",
   "metadata": {},
   "source": [
    "Now we have 17,498 shows and 100,245 episodes left."
   ]
  },
  {
   "cell_type": "markdown",
   "id": "90e5707a",
   "metadata": {},
   "source": [
    "Every episode_filename maps to an episode. The file name is what we need to map back to the transcript, so we can keep both for tracking convience."
   ]
  },
  {
   "cell_type": "markdown",
   "id": "e6081dda-2242-42eb-ba92-4e29b9c03de9",
   "metadata": {},
   "source": [
    "## Text cleaning on show description and episode description\n",
    "I need both information from show description and episode description. I need do some text cleaning on them."
   ]
  },
  {
   "cell_type": "code",
   "execution_count": 33,
   "id": "5e66cc48-ebb3-4a7f-8ab7-336e6a830a2c",
   "metadata": {},
   "outputs": [
    {
     "name": "stdout",
     "output_type": "stream",
     "text": [
      "A 20-something blunt female takes on the world and gives you her take on it. Enjoy visits from special guests and friends to give insight and input into interesting situations.\n",
      "\n",
      "Ever wonder what murder took place on today in true crime history? If so, sit back and grab a cup of coffee as you enjoy your daily dose of TC goodness. Your host, Korina Biemesderfer, guides you through history with tales of murder, abduction, serial killers, crimes of passion, cults and more in this short form daily true crime podcast. Support this podcast: https://anchor.fm/morning-cup-of-murder/support\n",
      "\n",
      "Inside the 18 is your source for all things Goalkeeping! Each week we are joined by guests from around the world. We recap the weeks events, discuss new training techniques and have candid conversations with professional goalkeepers and goalkeeper coaches. The show is a must listen for the goalkeeping enthusiast!    #insidethe18 #goalkeeperpodcast #thegoalkeepers #goalkicks #ederson #NWSL #ashlynharris #UWSNT #MLS #USMNT #goalkeepercoaches #degea #neuer #navas #areola #oblak #USL #goalkeepersaves #courtois #technefutbol #gkunion #gk #progk #goalkeepertraining #soccer #futbol #messi #ronaldo\n",
      "\n",
      "Your favorite podcast for everything @Chiefs! Providing #ChiefsKingdom with up to the minute news & insight all day, everyday with @KC_Winn & @grant_morse7🎙\n",
      "\n",
      "The comedy podcast about toxic characters, writers, and tropes of literature, folklore, myths, and legend.   Join host Emily Edwards to discuss feminist literature, toxic masculinity, gender roles, and intersectional representation in books. These are the Fuckbois of Literature. Support this podcast: https://anchor.fm/fuckboisoflit/support\n",
      "\n"
     ]
    }
   ],
   "source": [
    "#take a look at first 5 show description\n",
    "for i in metadata['show_description'][:5]:\n",
    "    print(i)\n",
    "    print()"
   ]
  },
  {
   "cell_type": "code",
   "execution_count": 34,
   "id": "0d1f2975-1836-402a-9288-16cd2da9ff36",
   "metadata": {},
   "outputs": [
    {
     "name": "stdout",
     "output_type": "stream",
     "text": [
      "On the first ever episode of Kream in your Koffee, Katie talks about tips for Christmas shopping. We also get a little insight into who and what we’ll be hearing about in next weeks episode! \n",
      "\n",
      "See something, say something. It’s a mantra many live by. If you see something strange, call it in or make someone aware, even if it seems innocuous. Jennifer San Marco had strange behaviors. It was clear to many that the woman suffered from mental illness that was being untreated. But, many wrote it off. And, on January 30th 2006 her strange behaviors bubbled over and the Goleta Postal Facility shootings began. Jennifer San Marco Kills (2006) Become a supporter of this podcast on Patreon: https://www.patreon.com/morningcupofmurder Follow Morning Cup of Murder on Twitter: https://twitter.com/cupofmurder @cupofmurder Follow MCOM on Instagram: @morningcupofmurder Have a Murder or strange true crime story you want to share, email the show here: morningcupofmurder@gmail.com Morning Cup of Murder is researched, written and performed by Korina Biemesderfer. Follow Korina on Instagram: @kbiemesderfer  ---   Send in a voice message: https://anchor.fm/morning-cup-of-murder/message Support this podcast: https://anchor.fm/morning-cup-of-murder/support\n",
      "\n",
      "Today’s episode is a sit down Michael and Omar had with former USMNT and former USWNT goalkeeper coach, Phil Wheddon. Phil discusses how he started the International Goalkeeper Coaches Conference (IGCC), what the US needs to do in order to create a successful goalkeeping curriculum across the United States and lastly, he gives his best advice to young goalkeepers and goalkeeper coaches.  Make sure to Subscribe to Inside the 18 on both Apple Podcasts and Spotify and don’t forget to leave us a rating and a comment to let us know how we’re doing!  Contact Information: @la_goalkeeping_academy @progkacademy_ @aviatasports @philwheddon \n",
      "\n",
      "Join us as we take a look at all current Chiefs news, including the draft, free agency, in-house contract talks, and much more!  ---   This episode is sponsored by  · Anchor: The easiest way to make a podcast.  https://anchor.fm/app \n",
      "\n",
      "The modern morality tail of how to stay good for Christmas. Ashley Beall of Make It Modern Podcast (@MIM_Podcast) joins me to discuss the redemption arcs of one of KidLit's biggest fuckbois, Edmund Pevensie.  iTunes Spotify YouTube Stitcher Google Play Music Anchor Do you want to work with us? Email us!  ---   This episode is sponsored by  · Anchor: The easiest way to make a podcast.  https://anchor.fm/app  Support this podcast: https://anchor.fm/fuckboisoflit/support\n",
      "\n"
     ]
    }
   ],
   "source": [
    "#take a look at first 5 episode description\n",
    "for i in metadata['episode_description'][:5]:\n",
    "    print(i)\n",
    "    print()"
   ]
  },
  {
   "cell_type": "markdown",
   "id": "c263bdc4-047c-4fd2-af58-9a86c49dc6eb",
   "metadata": {},
   "source": [
    "After observation, I found there are the following items that need to be removed:\n",
    "\n",
    "1. links\n",
    "\n",
    "2. @ tags\n",
    "\n",
    "3. The information associated with anchor, twitter, and sponsors"
   ]
  },
  {
   "cell_type": "code",
   "execution_count": 35,
   "id": "146504fb-d3eb-465a-90db-5852b5cf1249",
   "metadata": {},
   "outputs": [],
   "source": [
    "import re\n",
    "import emoji\n",
    "def text_cleaner(text):\n",
    "    text = text.lower()\n",
    "    text = re.sub(r'[\\sa-z:]*https://[a-z./-]*', ' ', text) # get rid of links and the information before the link\n",
    "    text = re.sub(r'[1-9\\sa-z:]*\\.com', ' ', text) # get rid of links and information beore the link\n",
    "    text = re.sub(r'[1-9\\sa-z:]*\\.fm', ' ', text) # get rid of links and information beore the link\n",
    "    text = re.sub(r'@[a-z_]*', ' ', text) #get rid of @ and contact name\n",
    "    \n",
    "    text = re.sub(r'this episode is sponsored by.*', ' ', text) #get rid of sponsor information\n",
    "    text = re.sub(r'anchor:[a-z\\s]*', '',text) #get rid of anchor information\n",
    "    text = re.sub(r'support this podcst:[a-z\\s]*', '',text) #get rid of anchor information\n",
    "    \n",
    "    text = re.sub(r'\\xa0', ' ', text) #get rid of some special characters\n",
    "    text = re.sub(r'[()]', ' ', text) #get rid of \"(,)\"\n",
    "    text = re.sub(r'--+', ' ', text) #get rid of more than one '-'\n",
    "    text = re.sub(r'\\s\\s+', ' ', text) # get rid more than one space\n",
    "    \n",
    "    text = emoji.demojize(text, delimiters=(\"\", \"\")) # get rid of emojis\n",
    "    \n",
    "    text = re.sub(r'\\s[.]\\s','',text) # get rid of single dot\n",
    "    \n",
    "    text = text.strip() #get rid of the space in the end of sentences.\n",
    "    return text"
   ]
  },
  {
   "cell_type": "markdown",
   "id": "b6414af1-6429-4488-8f07-89e8b780ff9b",
   "metadata": {},
   "source": [
    "Now we need apply text cleaner on both show descriptions and episode descriptions."
   ]
  },
  {
   "cell_type": "code",
   "execution_count": 36,
   "id": "359c24a8-7ff1-4445-a04c-428061fa68e8",
   "metadata": {},
   "outputs": [],
   "source": [
    "#apply text cleaner on show description\n",
    "metadata['show_description']=metadata['show_description'].apply(text_cleaner)"
   ]
  },
  {
   "cell_type": "code",
   "execution_count": 37,
   "id": "cd02f867-f84f-4bd7-91e4-08db7cc009a2",
   "metadata": {},
   "outputs": [],
   "source": [
    "#apply text cleaner on episode description\n",
    "metadata['episode_description']=metadata['episode_description'].apply(text_cleaner)"
   ]
  },
  {
   "cell_type": "code",
   "execution_count": 38,
   "id": "601703b1-f67f-4441-ac91-e5783a258ff7",
   "metadata": {},
   "outputs": [
    {
     "data": {
      "text/html": [
       "<div>\n",
       "<style scoped>\n",
       "    .dataframe tbody tr th:only-of-type {\n",
       "        vertical-align: middle;\n",
       "    }\n",
       "\n",
       "    .dataframe tbody tr th {\n",
       "        vertical-align: top;\n",
       "    }\n",
       "\n",
       "    .dataframe thead th {\n",
       "        text-align: right;\n",
       "    }\n",
       "</style>\n",
       "<table border=\"1\" class=\"dataframe\">\n",
       "  <thead>\n",
       "    <tr style=\"text-align: right;\">\n",
       "      <th></th>\n",
       "      <th>show_description</th>\n",
       "      <th>publisher</th>\n",
       "      <th>episode_description</th>\n",
       "      <th>duration</th>\n",
       "      <th>show_filename_prefix</th>\n",
       "      <th>episode_filename_prefix</th>\n",
       "    </tr>\n",
       "  </thead>\n",
       "  <tbody>\n",
       "    <tr>\n",
       "      <th>361</th>\n",
       "      <td></td>\n",
       "      <td>Ben Mills</td>\n",
       "      <td>our first episode! grant and ben discuss annoy...</td>\n",
       "      <td>27.570933</td>\n",
       "      <td>show_1DWNcJ7Y3O2nwOMQtJe4NC</td>\n",
       "      <td>01a4hlkwaRhFJB9WsLls31</td>\n",
       "    </tr>\n",
       "    <tr>\n",
       "      <th>436</th>\n",
       "      <td></td>\n",
       "      <td>katrine m</td>\n",
       "      <td>solo album release review</td>\n",
       "      <td>3.883533</td>\n",
       "      <td>show_17EmhNBWNZxZmH7Aq4E4g7</td>\n",
       "      <td>01xZkV7SRuzWcyd44LdMaK</td>\n",
       "    </tr>\n",
       "    <tr>\n",
       "      <th>443</th>\n",
       "      <td></td>\n",
       "      <td>Sean Miller</td>\n",
       "      <td>the very first episode of the keg friday podcast</td>\n",
       "      <td>24.066317</td>\n",
       "      <td>show_3SJu6gH68ch93wwT8MkI0j</td>\n",
       "      <td>01zN1mocXc2iBmAeNmxYqQ</td>\n",
       "    </tr>\n",
       "    <tr>\n",
       "      <th>481</th>\n",
       "      <td></td>\n",
       "      <td>Christina Sutra</td>\n",
       "      <td>a channeled message</td>\n",
       "      <td>5.310783</td>\n",
       "      <td>show_7mFneSlq4LDRJtYAZVKY66</td>\n",
       "      <td>027pQ7U9Tmj7lSowNL3EsH</td>\n",
       "    </tr>\n",
       "    <tr>\n",
       "      <th>748</th>\n",
       "      <td></td>\n",
       "      <td>Andrew Sorrells</td>\n",
       "      <td>college basketball player rode a freight train...</td>\n",
       "      <td>50.255233</td>\n",
       "      <td>show_1kUF9QwqIt4vjin3CPuP5a</td>\n",
       "      <td>03OV3RDcVDFpem6cbkmRWt</td>\n",
       "    </tr>\n",
       "    <tr>\n",
       "      <th>...</th>\n",
       "      <td>...</td>\n",
       "      <td>...</td>\n",
       "      <td>...</td>\n",
       "      <td>...</td>\n",
       "      <td>...</td>\n",
       "      <td>...</td>\n",
       "    </tr>\n",
       "    <tr>\n",
       "      <th>104829</th>\n",
       "      <td></td>\n",
       "      <td>Michigan Bros. Grow Show</td>\n",
       "      <td>in this episode we sat down with the babes and...</td>\n",
       "      <td>38.531200</td>\n",
       "      <td>show_5tWTxszjpFxOV2E9Bz1jyN</td>\n",
       "      <td>7xZZjqFVp6ALtzB5QRPOaZ</td>\n",
       "    </tr>\n",
       "    <tr>\n",
       "      <th>104943</th>\n",
       "      <td></td>\n",
       "      <td>Brandon Epstein</td>\n",
       "      <td>free 7 day meditation challenge: http://bit.ly...</td>\n",
       "      <td>13.448400</td>\n",
       "      <td>show_544gZVaYCBhLMjxXFGf3SM</td>\n",
       "      <td>7y8u1kPyJg4UC61VIFqid9</td>\n",
       "    </tr>\n",
       "    <tr>\n",
       "      <th>104999</th>\n",
       "      <td></td>\n",
       "      <td>Jayson with a Y</td>\n",
       "      <td>in part 1 of this 3 part series on \"a world wi...</td>\n",
       "      <td>12.844500</td>\n",
       "      <td>show_2xhy7fZFZKh3sJqzogDM83</td>\n",
       "      <td>7yNaivEYvIrOWTf2wSSPGQ</td>\n",
       "    </tr>\n",
       "    <tr>\n",
       "      <th>105098</th>\n",
       "      <td></td>\n",
       "      <td>Goop squad</td>\n",
       "      <td>go time</td>\n",
       "      <td>59.285967</td>\n",
       "      <td>show_0oJNR4qs6v1yOBgjIf7Sq2</td>\n",
       "      <td>7yrJwwRC5aLBx1v0W5XQly</td>\n",
       "    </tr>\n",
       "    <tr>\n",
       "      <th>105251</th>\n",
       "      <td></td>\n",
       "      <td>Giosifa &amp; silencioSLAP</td>\n",
       "      <td>we’re back and ready like warm spaghetti. come...</td>\n",
       "      <td>63.493417</td>\n",
       "      <td>show_3AdWzHXo3oh375xrCYERMI</td>\n",
       "      <td>7zYY91qIdJFvGCZvP6fAHf</td>\n",
       "    </tr>\n",
       "  </tbody>\n",
       "</table>\n",
       "<p>505 rows × 6 columns</p>\n",
       "</div>"
      ],
      "text/plain": [
       "       show_description                 publisher  \\\n",
       "361                                     Ben Mills   \n",
       "436                                     katrine m   \n",
       "443                                   Sean Miller   \n",
       "481                              Christina Sutra    \n",
       "748                               Andrew Sorrells   \n",
       "...                 ...                       ...   \n",
       "104829                   Michigan Bros. Grow Show   \n",
       "104943                            Brandon Epstein   \n",
       "104999                            Jayson with a Y   \n",
       "105098                                Goop squad    \n",
       "105251                     Giosifa & silencioSLAP   \n",
       "\n",
       "                                      episode_description   duration  \\\n",
       "361     our first episode! grant and ben discuss annoy...  27.570933   \n",
       "436                             solo album release review   3.883533   \n",
       "443      the very first episode of the keg friday podcast  24.066317   \n",
       "481                                   a channeled message   5.310783   \n",
       "748     college basketball player rode a freight train...  50.255233   \n",
       "...                                                   ...        ...   \n",
       "104829  in this episode we sat down with the babes and...  38.531200   \n",
       "104943  free 7 day meditation challenge: http://bit.ly...  13.448400   \n",
       "104999  in part 1 of this 3 part series on \"a world wi...  12.844500   \n",
       "105098                                            go time  59.285967   \n",
       "105251  we’re back and ready like warm spaghetti. come...  63.493417   \n",
       "\n",
       "               show_filename_prefix episode_filename_prefix  \n",
       "361     show_1DWNcJ7Y3O2nwOMQtJe4NC  01a4hlkwaRhFJB9WsLls31  \n",
       "436     show_17EmhNBWNZxZmH7Aq4E4g7  01xZkV7SRuzWcyd44LdMaK  \n",
       "443     show_3SJu6gH68ch93wwT8MkI0j  01zN1mocXc2iBmAeNmxYqQ  \n",
       "481     show_7mFneSlq4LDRJtYAZVKY66  027pQ7U9Tmj7lSowNL3EsH  \n",
       "748     show_1kUF9QwqIt4vjin3CPuP5a  03OV3RDcVDFpem6cbkmRWt  \n",
       "...                             ...                     ...  \n",
       "104829  show_5tWTxszjpFxOV2E9Bz1jyN  7xZZjqFVp6ALtzB5QRPOaZ  \n",
       "104943  show_544gZVaYCBhLMjxXFGf3SM  7y8u1kPyJg4UC61VIFqid9  \n",
       "104999  show_2xhy7fZFZKh3sJqzogDM83  7yNaivEYvIrOWTf2wSSPGQ  \n",
       "105098  show_0oJNR4qs6v1yOBgjIf7Sq2  7yrJwwRC5aLBx1v0W5XQly  \n",
       "105251  show_3AdWzHXo3oh375xrCYERMI  7zYY91qIdJFvGCZvP6fAHf  \n",
       "\n",
       "[505 rows x 6 columns]"
      ]
     },
     "execution_count": 38,
     "metadata": {},
     "output_type": "execute_result"
    }
   ],
   "source": [
    "#Since we did text cleaning, There are some episodes lost show descriptions and episode descriptions.\n",
    "#Take a look\n",
    "no_show_description = metadata[metadata['show_description'].apply(lambda x:len(x.split())) == 0]\n",
    "no_show_description"
   ]
  },
  {
   "cell_type": "markdown",
   "id": "dc0d0540-8108-4b80-a9a8-8b1b40cbb548",
   "metadata": {},
   "source": [
    "There are 505 episodes without show descriptions. I need the information of the show description for model training and evaluation, so I drop all the episodes that have no show_description."
   ]
  },
  {
   "cell_type": "code",
   "execution_count": 39,
   "id": "444601fd-9639-446b-80c1-24a7e5dab24c",
   "metadata": {},
   "outputs": [],
   "source": [
    "#drop podcasts episodes without show description\n",
    "metadata = metadata.drop(no_show_description.index,axis=0)"
   ]
  },
  {
   "cell_type": "code",
   "execution_count": 40,
   "id": "cfa67dfd-340e-4524-9b09-1ced529556ac",
   "metadata": {},
   "outputs": [
    {
     "data": {
      "text/html": [
       "<div>\n",
       "<style scoped>\n",
       "    .dataframe tbody tr th:only-of-type {\n",
       "        vertical-align: middle;\n",
       "    }\n",
       "\n",
       "    .dataframe tbody tr th {\n",
       "        vertical-align: top;\n",
       "    }\n",
       "\n",
       "    .dataframe thead th {\n",
       "        text-align: right;\n",
       "    }\n",
       "</style>\n",
       "<table border=\"1\" class=\"dataframe\">\n",
       "  <thead>\n",
       "    <tr style=\"text-align: right;\">\n",
       "      <th></th>\n",
       "      <th>show_description</th>\n",
       "      <th>publisher</th>\n",
       "      <th>episode_description</th>\n",
       "      <th>duration</th>\n",
       "      <th>show_filename_prefix</th>\n",
       "      <th>episode_filename_prefix</th>\n",
       "    </tr>\n",
       "  </thead>\n",
       "  <tbody>\n",
       "  </tbody>\n",
       "</table>\n",
       "</div>"
      ],
      "text/plain": [
       "Empty DataFrame\n",
       "Columns: [show_description, publisher, episode_description, duration, show_filename_prefix, episode_filename_prefix]\n",
       "Index: []"
      ]
     },
     "execution_count": 40,
     "metadata": {},
     "output_type": "execute_result"
    }
   ],
   "source": [
    "#verify the change we did\n",
    "metadata[metadata['show_description'].apply(lambda x:len(x.split())) == 0]"
   ]
  },
  {
   "cell_type": "markdown",
   "id": "fc869da8-1bd3-4adf-81ad-aca231a13db1",
   "metadata": {},
   "source": [
    "There is no data in the above data frame, which means we droped all the episodes without show descriptions."
   ]
  },
  {
   "cell_type": "code",
   "execution_count": 41,
   "id": "b3c302f6-e986-4a67-a0c6-47588a073c24",
   "metadata": {},
   "outputs": [
    {
     "data": {
      "text/html": [
       "<div>\n",
       "<style scoped>\n",
       "    .dataframe tbody tr th:only-of-type {\n",
       "        vertical-align: middle;\n",
       "    }\n",
       "\n",
       "    .dataframe tbody tr th {\n",
       "        vertical-align: top;\n",
       "    }\n",
       "\n",
       "    .dataframe thead th {\n",
       "        text-align: right;\n",
       "    }\n",
       "</style>\n",
       "<table border=\"1\" class=\"dataframe\">\n",
       "  <thead>\n",
       "    <tr style=\"text-align: right;\">\n",
       "      <th></th>\n",
       "      <th>show_description</th>\n",
       "      <th>publisher</th>\n",
       "      <th>episode_description</th>\n",
       "      <th>duration</th>\n",
       "      <th>show_filename_prefix</th>\n",
       "      <th>episode_filename_prefix</th>\n",
       "    </tr>\n",
       "  </thead>\n",
       "  <tbody>\n",
       "    <tr>\n",
       "      <th>272</th>\n",
       "      <td>a daily podcast that helps you raise your vibr...</td>\n",
       "      <td>A Higher Flying Disc</td>\n",
       "      <td></td>\n",
       "      <td>15.758617</td>\n",
       "      <td>show_2uLBfGb9Q8Rfp2ZFZeACQh</td>\n",
       "      <td>01D1VleYxGICa1jwVHRXym</td>\n",
       "    </tr>\n",
       "    <tr>\n",
       "      <th>275</th>\n",
       "      <td>welcome to stadia cast, your one stop shop for...</td>\n",
       "      <td>StadiaCast</td>\n",
       "      <td></td>\n",
       "      <td>57.160567</td>\n",
       "      <td>show_6OUmYXPo78opQFutV9UHX8</td>\n",
       "      <td>01DiMn0u8U8qEhby6L8lhd</td>\n",
       "    </tr>\n",
       "    <tr>\n",
       "      <th>415</th>\n",
       "      <td>what are the secrets behind some of the most s...</td>\n",
       "      <td>Rebecca Minkoff</td>\n",
       "      <td></td>\n",
       "      <td>21.682067</td>\n",
       "      <td>show_1O6UL6L2KTgIgMuH9LdxTY</td>\n",
       "      <td>01rBLipOBG6O0GJv0q9gtP</td>\n",
       "    </tr>\n",
       "    <tr>\n",
       "      <th>1021</th>\n",
       "      <td>welcome to the podcast of campus rush led by p...</td>\n",
       "      <td>Pastor Kofi Dartey</td>\n",
       "      <td></td>\n",
       "      <td>55.892467</td>\n",
       "      <td>show_1fBKgDfcgTx7Xsov0qzGF2</td>\n",
       "      <td>04geSOJUFBRVpzeSF3U9np</td>\n",
       "    </tr>\n",
       "    <tr>\n",
       "      <th>1122</th>\n",
       "      <td>a podcast to share my love of learning languag...</td>\n",
       "      <td>Azren The Language Nerd</td>\n",
       "      <td></td>\n",
       "      <td>20.952533</td>\n",
       "      <td>show_2KqaP5uKhR6oTYsRKIX7gS</td>\n",
       "      <td>05CCufGYgKYpm542DZcfO0</td>\n",
       "    </tr>\n",
       "    <tr>\n",
       "      <th>...</th>\n",
       "      <td>...</td>\n",
       "      <td>...</td>\n",
       "      <td>...</td>\n",
       "      <td>...</td>\n",
       "      <td>...</td>\n",
       "      <td>...</td>\n",
       "    </tr>\n",
       "    <tr>\n",
       "      <th>104515</th>\n",
       "      <td>want to improve you english pronunciation, spe...</td>\n",
       "      <td>English Speaking Secrets</td>\n",
       "      <td></td>\n",
       "      <td>7.978767</td>\n",
       "      <td>show_0e2tMqHNabAf1lJUF2Nakg</td>\n",
       "      <td>7w2ZXj3X4fSujTUcaPKTSm</td>\n",
       "    </tr>\n",
       "    <tr>\n",
       "      <th>104927</th>\n",
       "      <td>i'm katy and i'm an artist that struggled so m...</td>\n",
       "      <td>Katy Arrington</td>\n",
       "      <td></td>\n",
       "      <td>21.427767</td>\n",
       "      <td>show_6Mqs5y0FeaFMuZK0cf7g2x</td>\n",
       "      <td>7y5E1QDxn4rdnztSCCIZJW</td>\n",
       "    </tr>\n",
       "    <tr>\n",
       "      <th>105031</th>\n",
       "      <td>want to improve you english pronunciation, spe...</td>\n",
       "      <td>English Speaking Secrets</td>\n",
       "      <td></td>\n",
       "      <td>10.775600</td>\n",
       "      <td>show_0e2tMqHNabAf1lJUF2Nakg</td>\n",
       "      <td>7yXUO8zUbjqGdfjQGFtwdr</td>\n",
       "    </tr>\n",
       "    <tr>\n",
       "      <th>105135</th>\n",
       "      <td>dedicated to horse lovers around the globe! br...</td>\n",
       "      <td>Jenna Smeenk</td>\n",
       "      <td></td>\n",
       "      <td>33.682133</td>\n",
       "      <td>show_6yqAyZYRW9laXRDadzwLgN</td>\n",
       "      <td>7z2kEwYLfjq2rv4EazgZpC</td>\n",
       "    </tr>\n",
       "    <tr>\n",
       "      <th>105333</th>\n",
       "      <td>how to love yourself properly and what comes w...</td>\n",
       "      <td>Kiara Bynum</td>\n",
       "      <td></td>\n",
       "      <td>4.950100</td>\n",
       "      <td>show_5la8U1uoTRt9pUnBtAChOc</td>\n",
       "      <td>7zutVsEQ6En1nljqHp8aQz</td>\n",
       "    </tr>\n",
       "  </tbody>\n",
       "</table>\n",
       "<p>336 rows × 6 columns</p>\n",
       "</div>"
      ],
      "text/plain": [
       "                                         show_description  \\\n",
       "272     a daily podcast that helps you raise your vibr...   \n",
       "275     welcome to stadia cast, your one stop shop for...   \n",
       "415     what are the secrets behind some of the most s...   \n",
       "1021    welcome to the podcast of campus rush led by p...   \n",
       "1122    a podcast to share my love of learning languag...   \n",
       "...                                                   ...   \n",
       "104515  want to improve you english pronunciation, spe...   \n",
       "104927  i'm katy and i'm an artist that struggled so m...   \n",
       "105031  want to improve you english pronunciation, spe...   \n",
       "105135  dedicated to horse lovers around the globe! br...   \n",
       "105333  how to love yourself properly and what comes w...   \n",
       "\n",
       "                       publisher episode_description   duration  \\\n",
       "272         A Higher Flying Disc                      15.758617   \n",
       "275                   StadiaCast                      57.160567   \n",
       "415              Rebecca Minkoff                      21.682067   \n",
       "1021          Pastor Kofi Dartey                      55.892467   \n",
       "1122     Azren The Language Nerd                      20.952533   \n",
       "...                          ...                 ...        ...   \n",
       "104515  English Speaking Secrets                       7.978767   \n",
       "104927            Katy Arrington                      21.427767   \n",
       "105031  English Speaking Secrets                      10.775600   \n",
       "105135              Jenna Smeenk                      33.682133   \n",
       "105333               Kiara Bynum                       4.950100   \n",
       "\n",
       "               show_filename_prefix episode_filename_prefix  \n",
       "272     show_2uLBfGb9Q8Rfp2ZFZeACQh  01D1VleYxGICa1jwVHRXym  \n",
       "275     show_6OUmYXPo78opQFutV9UHX8  01DiMn0u8U8qEhby6L8lhd  \n",
       "415     show_1O6UL6L2KTgIgMuH9LdxTY  01rBLipOBG6O0GJv0q9gtP  \n",
       "1021    show_1fBKgDfcgTx7Xsov0qzGF2  04geSOJUFBRVpzeSF3U9np  \n",
       "1122    show_2KqaP5uKhR6oTYsRKIX7gS  05CCufGYgKYpm542DZcfO0  \n",
       "...                             ...                     ...  \n",
       "104515  show_0e2tMqHNabAf1lJUF2Nakg  7w2ZXj3X4fSujTUcaPKTSm  \n",
       "104927  show_6Mqs5y0FeaFMuZK0cf7g2x  7y5E1QDxn4rdnztSCCIZJW  \n",
       "105031  show_0e2tMqHNabAf1lJUF2Nakg  7yXUO8zUbjqGdfjQGFtwdr  \n",
       "105135  show_6yqAyZYRW9laXRDadzwLgN  7z2kEwYLfjq2rv4EazgZpC  \n",
       "105333  show_5la8U1uoTRt9pUnBtAChOc  7zutVsEQ6En1nljqHp8aQz  \n",
       "\n",
       "[336 rows x 6 columns]"
      ]
     },
     "execution_count": 41,
     "metadata": {},
     "output_type": "execute_result"
    }
   ],
   "source": [
    "#Now check podcast episodes without episode description.\n",
    "no_episode_description = metadata[metadata['episode_description'].apply(lambda x:len(x.split())) == 0]\n",
    "no_episode_description"
   ]
  },
  {
   "cell_type": "markdown",
   "id": "1c45eca9-7333-4d4d-a05e-02970cc4ef4b",
   "metadata": {},
   "source": [
    "There are 336 episodes without episode descriptions after text cleaning. These need to be dropped."
   ]
  },
  {
   "cell_type": "code",
   "execution_count": 42,
   "id": "87a2b0e2-aace-4a79-97e5-575544c5b817",
   "metadata": {},
   "outputs": [],
   "source": [
    "metadata = metadata.drop(no_episode_description.index,axis=0)"
   ]
  },
  {
   "cell_type": "code",
   "execution_count": 43,
   "id": "d0993a26-598e-4689-bdae-9b315d423675",
   "metadata": {},
   "outputs": [
    {
     "data": {
      "text/html": [
       "<div>\n",
       "<style scoped>\n",
       "    .dataframe tbody tr th:only-of-type {\n",
       "        vertical-align: middle;\n",
       "    }\n",
       "\n",
       "    .dataframe tbody tr th {\n",
       "        vertical-align: top;\n",
       "    }\n",
       "\n",
       "    .dataframe thead th {\n",
       "        text-align: right;\n",
       "    }\n",
       "</style>\n",
       "<table border=\"1\" class=\"dataframe\">\n",
       "  <thead>\n",
       "    <tr style=\"text-align: right;\">\n",
       "      <th></th>\n",
       "      <th>show_description</th>\n",
       "      <th>publisher</th>\n",
       "      <th>episode_description</th>\n",
       "      <th>duration</th>\n",
       "      <th>show_filename_prefix</th>\n",
       "      <th>episode_filename_prefix</th>\n",
       "    </tr>\n",
       "  </thead>\n",
       "  <tbody>\n",
       "  </tbody>\n",
       "</table>\n",
       "</div>"
      ],
      "text/plain": [
       "Empty DataFrame\n",
       "Columns: [show_description, publisher, episode_description, duration, show_filename_prefix, episode_filename_prefix]\n",
       "Index: []"
      ]
     },
     "execution_count": 43,
     "metadata": {},
     "output_type": "execute_result"
    }
   ],
   "source": [
    "#verify the change we did \n",
    "metadata[metadata['show_description'].apply(lambda x:len(x.split())) == 0]"
   ]
  },
  {
   "cell_type": "markdown",
   "id": "dd181ab5-3fb5-4eee-9f31-430e4ebba5bf",
   "metadata": {},
   "source": [
    "There is no data show above, which means all episodes without descriptions were removed."
   ]
  },
  {
   "cell_type": "markdown",
   "id": "441ed935-8333-4ed7-ae11-8059ccfd37ba",
   "metadata": {},
   "source": [
    "## Check the length of show descriptions"
   ]
  },
  {
   "cell_type": "code",
   "execution_count": 44,
   "id": "2e16fd0f-bfc0-41bc-a66f-acdd94c5a227",
   "metadata": {},
   "outputs": [],
   "source": [
    "#Since one show only have one description, use group by to get one description for each show\n",
    "show_description_len = metadata.groupby('show_filename_prefix')['show_description'].max().apply(lambda x:len(x.split()) )"
   ]
  },
  {
   "cell_type": "code",
   "execution_count": 45,
   "id": "d873f13b-cb3b-4b52-b69e-a650995f373d",
   "metadata": {},
   "outputs": [
    {
     "data": {
      "text/plain": [
       "count    17329.000000\n",
       "mean        38.299556\n",
       "std         27.468558\n",
       "min          1.000000\n",
       "25%         17.000000\n",
       "50%         31.000000\n",
       "75%         55.000000\n",
       "max        542.000000\n",
       "Name: show_description, dtype: float64"
      ]
     },
     "execution_count": 45,
     "metadata": {},
     "output_type": "execute_result"
    }
   ],
   "source": [
    "#Check the distribution of transcripts length.\n",
    "show_description_len.describe()"
   ]
  },
  {
   "cell_type": "code",
   "execution_count": 46,
   "id": "e2c45c6a-8e79-46ff-96e4-20731bf5ab56",
   "metadata": {},
   "outputs": [
    {
     "data": {
      "text/plain": [
       "Text(0, 0.5, 'number of shows')"
      ]
     },
     "execution_count": 46,
     "metadata": {},
     "output_type": "execute_result"
    },
    {
     "data": {
      "image/png": "[encoded data removed]",
      "text/plain": [
       "<Figure size 576x576 with 1 Axes>"
      ]
     },
     "metadata": {
      "needs_background": "light"
     },
     "output_type": "display_data"
    }
   ],
   "source": [
    "#visualize the length disribution\n",
    "plt.figure(figsize=(8,8))\n",
    "plt.hist(show_description_len)\n",
    "plt.xlabel('length of show description')\n",
    "plt.ylabel('number of shows')"
   ]
  },
  {
   "cell_type": "markdown",
   "id": "f021228f-1e7e-48c0-adaf-23c0074abdc7",
   "metadata": {},
   "source": [
    "For show descriptions, the average length is 31 words. 75% of show descriptions have less than 55 words. Also from the diagram above, I know the majority of show descriptions are less than 100 words."
   ]
  },
  {
   "cell_type": "markdown",
   "id": "ac0570c6-fdd0-498b-a396-c2acc9a3c449",
   "metadata": {},
   "source": [
    "## Check the length of episode descriptions"
   ]
  },
  {
   "cell_type": "code",
   "execution_count": 47,
   "id": "381b88c5-684c-41e1-ae22-a095d7a91178",
   "metadata": {},
   "outputs": [],
   "source": [
    "episode_description_len = metadata['episode_description'].apply(lambda x:len(x.split()) )"
   ]
  },
  {
   "cell_type": "code",
   "execution_count": 48,
   "id": "0494be33-75ac-471d-b9f8-7e27ce18b905",
   "metadata": {},
   "outputs": [
    {
     "data": {
      "text/plain": [
       "count    99404.000000\n",
       "mean        74.422126\n",
       "std         72.946285\n",
       "min          1.000000\n",
       "25%         26.000000\n",
       "50%         52.000000\n",
       "75%         97.000000\n",
       "max        748.000000\n",
       "Name: episode_description, dtype: float64"
      ]
     },
     "execution_count": 48,
     "metadata": {},
     "output_type": "execute_result"
    }
   ],
   "source": [
    "#Check the distribution of transcripts length.\n",
    "episode_description_len.describe()"
   ]
  },
  {
   "cell_type": "code",
   "execution_count": 49,
   "id": "7bc94eec-708c-453d-b821-b74a645f4000",
   "metadata": {},
   "outputs": [
    {
     "data": {
      "text/plain": [
       "Text(0, 0.5, 'number of episodes')"
      ]
     },
     "execution_count": 49,
     "metadata": {},
     "output_type": "execute_result"
    },
    {
     "data": {
      "image/png": "[encoded data removed]",
      "text/plain": [
       "<Figure size 576x576 with 1 Axes>"
      ]
     },
     "metadata": {
      "needs_background": "light"
     },
     "output_type": "display_data"
    }
   ],
   "source": [
    "#visualize the length disribution\n",
    "plt.figure(figsize=(8,8))\n",
    "plt.hist(episode_description_len)\n",
    "plt.xlabel('length of episode description')\n",
    "plt.ylabel('number of episodes')"
   ]
  },
  {
   "cell_type": "markdown",
   "id": "76448f4d-aa04-46d5-9074-57090e57ef90",
   "metadata": {},
   "source": [
    "For episode descriptions, the average length is 52 words. 75% of episode descriptions are less than 97 words. From the diagram above, I know the majority of episode descriptions are less than 150 words. "
   ]
  },
  {
   "cell_type": "code",
   "execution_count": null,
   "id": "881a4ba7-39cf-4542-8538-378443d43aa5",
   "metadata": {},
   "outputs": [],
   "source": []
  },
  {
   "cell_type": "markdown",
   "id": "2de637a8-02b2-4b9a-bca9-c9d28be0fa62",
   "metadata": {},
   "source": [
    "### Criteria for length \n",
    "\n",
    "In the TREC paper[1] that describes the information about the dataset, the length criteria is mentioned.\n",
    "\n",
    "For episode descriptions, the professional length should be between 20 to 750 words. Any description that is beyond or less than that is less descriptive."
   ]
  },
  {
   "cell_type": "code",
   "execution_count": 50,
   "id": "799edd5f-c98c-4cd2-9089-e80d254afcc0",
   "metadata": {},
   "outputs": [],
   "source": [
    "#create new column that describe the length of descriptions\n",
    "metadata['episode_description_len'] = metadata['episode_description'].apply(lambda x:len(x.split()) )"
   ]
  },
  {
   "cell_type": "code",
   "execution_count": 51,
   "id": "cfa87637-8675-4e75-827c-2c83c01a4b83",
   "metadata": {},
   "outputs": [],
   "source": [
    "#filter the length of episode description"
   ]
  },
  {
   "cell_type": "code",
   "execution_count": 52,
   "id": "734692db-b398-4e52-8f2a-4265931a4722",
   "metadata": {},
   "outputs": [
    {
     "data": {
      "text/plain": [
       "(17359, 7)"
      ]
     },
     "execution_count": 52,
     "metadata": {},
     "output_type": "execute_result"
    }
   ],
   "source": [
    "filter_ = (metadata['episode_description_len']>=20) & (metadata['episode_description_len']<=750)\n",
    "metadata[~filter_].shape"
   ]
  },
  {
   "cell_type": "code",
   "execution_count": 53,
   "id": "2db575fb-5506-458d-a75d-845e1cbeb393",
   "metadata": {},
   "outputs": [],
   "source": [
    "metadata = metadata[filter_]"
   ]
  },
  {
   "cell_type": "markdown",
   "id": "d88d3d6c-a1fa-47a9-acda-717662253e23",
   "metadata": {},
   "source": [
    "We filter out 17,359 episodes."
   ]
  },
  {
   "cell_type": "code",
   "execution_count": 54,
   "id": "44dd9616-f893-434a-bd52-5e8b2de84307",
   "metadata": {},
   "outputs": [],
   "source": [
    "# now I can drop the episode description len column\n",
    "metadata.drop('episode_description_len',axis=1,inplace=True)"
   ]
  },
  {
   "cell_type": "markdown",
   "id": "acb5fdff-feda-4650-8710-a2600c02b51c",
   "metadata": {},
   "source": [
    "## Criteria for similarity to other descriptions\n",
    "\n",
    "If similarity with other episode description are more than 50%, it means it is less descriptive."
   ]
  },
  {
   "cell_type": "code",
   "execution_count": 55,
   "id": "8b9a57d5",
   "metadata": {},
   "outputs": [],
   "source": [
    "metadata.reset_index(drop=True,inplace=True)"
   ]
  },
  {
   "cell_type": "code",
   "execution_count": 56,
   "id": "3dcb5f26-9e11-4d6f-b7ca-846a2798ed6f",
   "metadata": {},
   "outputs": [
    {
     "data": {
      "text/html": [
       "<div>\n",
       "<style scoped>\n",
       "    .dataframe tbody tr th:only-of-type {\n",
       "        vertical-align: middle;\n",
       "    }\n",
       "\n",
       "    .dataframe tbody tr th {\n",
       "        vertical-align: top;\n",
       "    }\n",
       "\n",
       "    .dataframe thead th {\n",
       "        text-align: right;\n",
       "    }\n",
       "</style>\n",
       "<table border=\"1\" class=\"dataframe\">\n",
       "  <thead>\n",
       "    <tr style=\"text-align: right;\">\n",
       "      <th></th>\n",
       "      <th>show_description</th>\n",
       "      <th>publisher</th>\n",
       "      <th>episode_description</th>\n",
       "      <th>duration</th>\n",
       "      <th>show_filename_prefix</th>\n",
       "      <th>episode_filename_prefix</th>\n",
       "    </tr>\n",
       "  </thead>\n",
       "  <tbody>\n",
       "    <tr>\n",
       "      <th>0</th>\n",
       "      <td>a 20-something blunt female takes on the world...</td>\n",
       "      <td>Katie Houle</td>\n",
       "      <td>on the first ever episode of kream in your kof...</td>\n",
       "      <td>12.700133</td>\n",
       "      <td>show_2NYtxEZyYelR6RMKmjfPLB</td>\n",
       "      <td>000A9sRBYdVh66csG2qEdj</td>\n",
       "    </tr>\n",
       "    <tr>\n",
       "      <th>1</th>\n",
       "      <td>ever wonder what murder took place on today in...</td>\n",
       "      <td>Morning Cup Of Murder</td>\n",
       "      <td>see something, say something. it’s a mantra ma...</td>\n",
       "      <td>6.019383</td>\n",
       "      <td>show_15iWCbU7QoO23EndPEO6aN</td>\n",
       "      <td>000HP8n3hNIfglT2wSI2cA</td>\n",
       "    </tr>\n",
       "    <tr>\n",
       "      <th>2</th>\n",
       "      <td>inside the 18 is your source for all things go...</td>\n",
       "      <td>Inside the 18 GK Media</td>\n",
       "      <td>today’s episode is a sit down michael and omar...</td>\n",
       "      <td>43.616333</td>\n",
       "      <td>show_6vZRgUFTYwbAA79UNCADr4</td>\n",
       "      <td>001UfOruzkA3Bn1SPjcdfa</td>\n",
       "    </tr>\n",
       "    <tr>\n",
       "      <th>3</th>\n",
       "      <td>your favorite podcast for everything ! providi...</td>\n",
       "      <td>Arrowhead Live!</td>\n",
       "      <td>join us as we take a look at all current chief...</td>\n",
       "      <td>58.189200</td>\n",
       "      <td>show_5BvKEjaMSuvUsGROGi2S7s</td>\n",
       "      <td>001i89SvIQgDuuyC53hfBm</td>\n",
       "    </tr>\n",
       "    <tr>\n",
       "      <th>4</th>\n",
       "      <td>the comedy podcast about toxic characters, wri...</td>\n",
       "      <td>Emily Edwards</td>\n",
       "      <td>the modern morality tail of how to stay good f...</td>\n",
       "      <td>51.782050</td>\n",
       "      <td>show_7w3h3umpH74veEJcbE6xf4</td>\n",
       "      <td>0025RWNwe2lnp6HcnfzwzG</td>\n",
       "    </tr>\n",
       "  </tbody>\n",
       "</table>\n",
       "</div>"
      ],
      "text/plain": [
       "                                    show_description               publisher  \\\n",
       "0  a 20-something blunt female takes on the world...             Katie Houle   \n",
       "1  ever wonder what murder took place on today in...   Morning Cup Of Murder   \n",
       "2  inside the 18 is your source for all things go...  Inside the 18 GK Media   \n",
       "3  your favorite podcast for everything ! providi...         Arrowhead Live!   \n",
       "4  the comedy podcast about toxic characters, wri...           Emily Edwards   \n",
       "\n",
       "                                 episode_description   duration  \\\n",
       "0  on the first ever episode of kream in your kof...  12.700133   \n",
       "1  see something, say something. it’s a mantra ma...   6.019383   \n",
       "2  today’s episode is a sit down michael and omar...  43.616333   \n",
       "3  join us as we take a look at all current chief...  58.189200   \n",
       "4  the modern morality tail of how to stay good f...  51.782050   \n",
       "\n",
       "          show_filename_prefix episode_filename_prefix  \n",
       "0  show_2NYtxEZyYelR6RMKmjfPLB  000A9sRBYdVh66csG2qEdj  \n",
       "1  show_15iWCbU7QoO23EndPEO6aN  000HP8n3hNIfglT2wSI2cA  \n",
       "2  show_6vZRgUFTYwbAA79UNCADr4  001UfOruzkA3Bn1SPjcdfa  \n",
       "3  show_5BvKEjaMSuvUsGROGi2S7s  001i89SvIQgDuuyC53hfBm  \n",
       "4  show_7w3h3umpH74veEJcbE6xf4  0025RWNwe2lnp6HcnfzwzG  "
      ]
     },
     "execution_count": 56,
     "metadata": {},
     "output_type": "execute_result"
    }
   ],
   "source": [
    "metadata.head()"
   ]
  },
  {
   "cell_type": "code",
   "execution_count": 57,
   "id": "53992348",
   "metadata": {},
   "outputs": [],
   "source": [
    "show_des=metadata['show_description']\n",
    "episode_des=metadata['episode_description']"
   ]
  },
  {
   "cell_type": "markdown",
   "id": "d527de19",
   "metadata": {},
   "source": [
    "We use TF-IDF vectorizer on the two features separately and combine them together to a similarity matrix.\n",
    "\n",
    "TF-IDF is short for term frequency inverse document frequency, which is a statistic describe how important a term is for a corpus."
   ]
  },
  {
   "cell_type": "code",
   "execution_count": 59,
   "id": "f5806b07",
   "metadata": {},
   "outputs": [],
   "source": [
    "#I initiate TF-IDF vectorizer with stopwords, max_feature, and min_df.\n",
    "\n",
    "#initiate Tf_IDF vectorizer\n",
    "#show descriptions are put in sparse matrix\n",
    "show_vec = TfidfVectorizer(stop_words='english',min_df=2,max_features=1000)\n",
    "show_vec.fit(show_des)\n",
    "show_df = show_vec.transform(show_des)"
   ]
  },
  {
   "cell_type": "code",
   "execution_count": 60,
   "id": "34903bc7",
   "metadata": {},
   "outputs": [
    {
     "data": {
      "text/plain": [
       "(82045, 1000)"
      ]
     },
     "execution_count": 60,
     "metadata": {},
     "output_type": "execute_result"
    }
   ],
   "source": [
    "show_df.shape"
   ]
  },
  {
   "cell_type": "code",
   "execution_count": 61,
   "id": "256937be",
   "metadata": {},
   "outputs": [],
   "source": [
    "#episode descriptions are put in sparse matrix\n",
    "episode_vec = TfidfVectorizer(stop_words='english',min_df=2,max_features=1000)\n",
    "episode_vec.fit(episode_des)\n",
    "episode_df = episode_vec.transform(episode_des)"
   ]
  },
  {
   "cell_type": "code",
   "execution_count": 62,
   "id": "9f003f66",
   "metadata": {},
   "outputs": [
    {
     "data": {
      "text/plain": [
       "(82045, 1000)"
      ]
     },
     "execution_count": 62,
     "metadata": {},
     "output_type": "execute_result"
    }
   ],
   "source": [
    "episode_df.shape"
   ]
  },
  {
   "cell_type": "code",
   "execution_count": 63,
   "id": "18ebd36d",
   "metadata": {},
   "outputs": [],
   "source": [
    "#bring back together for show description\n",
    "show_transformed=pd.DataFrame(data=show_df.toarray(),columns=show_vec.get_feature_names())"
   ]
  },
  {
   "cell_type": "code",
   "execution_count": 64,
   "id": "ee996417",
   "metadata": {},
   "outputs": [],
   "source": [
    "#bring back together for episode description\n",
    "episode_transformed = pd.DataFrame(data=episode_df.toarray(),columns=episode_vec.get_feature_names())"
   ]
  },
  {
   "cell_type": "code",
   "execution_count": 65,
   "id": "6b0dcfb0-54c6-46e8-a48e-3c30a27d0a2d",
   "metadata": {},
   "outputs": [
    {
     "data": {
      "text/plain": [
       "array([[0.03572306]])"
      ]
     },
     "execution_count": 65,
     "metadata": {},
     "output_type": "execute_result"
    }
   ],
   "source": [
    "# check the similarity between episodes\n",
    "\n",
    "\n",
    "cosine_similarity(np.array([episode_transformed.loc[1].to_numpy()]),np.array([episode_transformed.loc[989].to_numpy()]))"
   ]
  },
  {
   "cell_type": "markdown",
   "id": "af3eb947-4538-4776-b44c-670c5df6b4c8",
   "metadata": {},
   "source": [
    "This shows that index 1 episode description and index 989 episode desription have 3% overlapping information."
   ]
  },
  {
   "cell_type": "markdown",
   "id": "01146c6d-24ca-4866-a9be-fbc8c2be2f74",
   "metadata": {},
   "source": [
    "Besides similarity between two random episodes, now I can compute pairwise similarity between episode descriptions."
   ]
  },
  {
   "cell_type": "code",
   "execution_count": 68,
   "id": "1a9dfe99-4cf6-4b5a-933e-166799c2c933",
   "metadata": {},
   "outputs": [
    {
     "name": "stdout",
     "output_type": "stream",
     "text": [
      "to output the duration of pairwise similarity cost 184.37505984306335\n"
     ]
    }
   ],
   "source": [
    "#use dense output equal false could hugely decrease the run time and computation memory\n",
    "start=time.time()\n",
    "similarities = cosine_similarity(episode_df,dense_output=False)\n",
    "end=time.time()\n",
    "print(f'to output the duration of pairwise similarity cost {end -start}')"
   ]
  },
  {
   "cell_type": "code",
   "execution_count": 69,
   "id": "06fd1fa4-fafb-47d8-a5b3-d5a89f1c6313",
   "metadata": {},
   "outputs": [
    {
     "data": {
      "text/plain": [
       "(82045, 82045)"
      ]
     },
     "execution_count": 69,
     "metadata": {},
     "output_type": "execute_result"
    }
   ],
   "source": [
    "similarities.shape"
   ]
  },
  {
   "cell_type": "code",
   "execution_count": 12,
   "id": "d869254b-5d08-40a6-a5ce-45e7090ae862",
   "metadata": {},
   "outputs": [],
   "source": [
    "#the following code will cause the kernel to die. I believe the reason is costing too much computational memory\n",
    "#similarities.toarray()"
   ]
  },
  {
   "cell_type": "markdown",
   "id": "a2f54fc6-2d7a-4546-b8b0-792bec303bf2",
   "metadata": {},
   "source": [
    "The similarities sparse matrix takes over 58GB memory. Without enough computation power, the kernel kept shutting down if I try to transfer similarities to a dense matrix. I decide to split the dense matrix into 8 chunks, every chunk has 10,000 or more episodes descriptions and their similarity to all other episode descriptions."
   ]
  },
  {
   "cell_type": "code",
   "execution_count": 4,
   "id": "db676ab0-ff8a-4f04-a228-8e66eb90f534",
   "metadata": {},
   "outputs": [],
   "source": [
    "#First Chunk \n",
    "similarity_0_10000=np.array(similarities[0:10000,:].todense()).squeeze()"
   ]
  },
  {
   "cell_type": "code",
   "execution_count": 4,
   "id": "6c62de2b-eace-427a-8267-32e44a57a514",
   "metadata": {},
   "outputs": [
    {
     "data": {
      "text/plain": [
       "(10000, 82045)"
      ]
     },
     "execution_count": 4,
     "metadata": {},
     "output_type": "execute_result"
    }
   ],
   "source": [
    "similarity_0_10000.shape"
   ]
  },
  {
   "cell_type": "code",
   "execution_count": 32,
   "id": "1badd0aa-8efa-4ced-9f7c-c80f139f0a5e",
   "metadata": {},
   "outputs": [],
   "source": [
    "#get the episode description that overlaps with only themselves\n",
    "descriptive_index=[]\n",
    "for i in range(10000):\n",
    "    similar_filter = (similarity_0_10000[i]>0.5) \n",
    "    if len(similarity_0_10000[i][similar_filter])<=1: #exclude the one that only has high similarity with itself\n",
    "        descriptive_index.append(i)"
   ]
  },
  {
   "cell_type": "markdown",
   "id": "8880ede0-28d4-4fdc-8edd-7743ca212990",
   "metadata": {},
   "source": [
    "Check for the first 10,000 episode descriptions, the indices of too much similarity with other episode descriptions."
   ]
  },
  {
   "cell_type": "code",
   "execution_count": 33,
   "id": "675b6b94-2cb1-4872-ace8-0e68be282c3c",
   "metadata": {},
   "outputs": [
    {
     "data": {
      "text/plain": [
       "3946"
      ]
     },
     "execution_count": 33,
     "metadata": {},
     "output_type": "execute_result"
    }
   ],
   "source": [
    "len(descriptive_index)"
   ]
  },
  {
   "cell_type": "markdown",
   "id": "083e571b-1f71-4913-8df1-83264fbee2d4",
   "metadata": {},
   "source": [
    "For the first 100,000 episode descriptions, there are 6054 episode descriptions that have overlap of more than 50% informaiton with others. Only 3946 episodes descriptions left."
   ]
  },
  {
   "cell_type": "markdown",
   "id": "d51f811b-9b5a-4333-bbb0-02f6c57253e0",
   "metadata": {},
   "source": [
    " Let's do the same thing to the next 100,000 episode descriptions."
   ]
  },
  {
   "cell_type": "code",
   "execution_count": 4,
   "id": "8f6d67e8-8fdb-495f-a827-31a895257f69",
   "metadata": {},
   "outputs": [],
   "source": [
    "chunk = 10000 # use chunk to represent the length"
   ]
  },
  {
   "cell_type": "code",
   "execution_count": 5,
   "id": "9af42553-4b42-46fe-9ed1-b5fec28cb6d5",
   "metadata": {},
   "outputs": [],
   "source": [
    "#Second chunk\n",
    "similarity_10000_20000=np.array(similarities[chunk:chunk*2].todense()).squeeze()"
   ]
  },
  {
   "cell_type": "code",
   "execution_count": 16,
   "id": "41de2876-c84d-4cec-b5c9-4cbec838095a",
   "metadata": {},
   "outputs": [
    {
     "data": {
      "text/plain": [
       "(10000, 82045)"
      ]
     },
     "execution_count": 16,
     "metadata": {},
     "output_type": "execute_result"
    }
   ],
   "source": [
    "similarity_10000_20000.shape"
   ]
  },
  {
   "cell_type": "code",
   "execution_count": 34,
   "id": "1f41a331-2a31-4fe6-b54f-5502d6253198",
   "metadata": {},
   "outputs": [],
   "source": [
    "#for second chunk, get the episodes descriptions that are only similar to themselves\n",
    "for i in range(10000):\n",
    "    similar_filter = (similarity_10000_20000[i]>0.5) \n",
    "    if len(similarity_10000_20000[i][similar_filter])<=1:\n",
    "        descriptive_index.append(i+chunk)"
   ]
  },
  {
   "cell_type": "code",
   "execution_count": 35,
   "id": "62d8c2d4-6cd7-442e-9da7-bd0b2f9f1e44",
   "metadata": {},
   "outputs": [
    {
     "data": {
      "text/plain": [
       "7884"
      ]
     },
     "execution_count": 35,
     "metadata": {},
     "output_type": "execute_result"
    }
   ],
   "source": [
    "len(descriptive_index)"
   ]
  },
  {
   "cell_type": "markdown",
   "id": "cd3402bf-a014-4bc3-bff7-ed25a65ab1b9",
   "metadata": {},
   "source": [
    "Now I have 7884 episode descriptions."
   ]
  },
  {
   "cell_type": "code",
   "execution_count": null,
   "id": "0e8c45df-f87f-40a1-98ce-a7b0027ad10d",
   "metadata": {},
   "outputs": [],
   "source": [
    "#Third chunk\n",
    "similarity_20000_30000=np.array(similarities[chunk*2:chunk*3].todense()).squeeze()"
   ]
  },
  {
   "cell_type": "code",
   "execution_count": 36,
   "id": "f1d75f54-e1e4-4694-bc80-8d4560a14112",
   "metadata": {},
   "outputs": [],
   "source": [
    "for i in range(10000):\n",
    "    similar_filter = (similarity_20000_30000[i]>0.5) \n",
    "    if len(similarity_20000_30000[i][similar_filter])<=1:\n",
    "        descriptive_index.append(i+chunk*2)"
   ]
  },
  {
   "cell_type": "code",
   "execution_count": 37,
   "id": "257b2cc9-ce7a-4098-93ca-bb74c5b29b0c",
   "metadata": {},
   "outputs": [
    {
     "data": {
      "text/plain": [
       "11846"
      ]
     },
     "execution_count": 37,
     "metadata": {},
     "output_type": "execute_result"
    }
   ],
   "source": [
    "len(descriptive_index)"
   ]
  },
  {
   "cell_type": "markdown",
   "id": "049a1994-cfe5-4330-9c2a-667db2579943",
   "metadata": {},
   "source": [
    "Now I have 11846 episode descriptions."
   ]
  },
  {
   "cell_type": "code",
   "execution_count": 8,
   "id": "799ee515-5dea-4810-a770-8432f59cd849",
   "metadata": {},
   "outputs": [],
   "source": [
    "#Fourth chunk\n",
    "similarity_30000_40000=np.array(similarities[chunk*3:chunk*4].todense()).squeeze()"
   ]
  },
  {
   "cell_type": "code",
   "execution_count": 38,
   "id": "ed37d39e-1514-4a34-8768-7cbbe14a1718",
   "metadata": {},
   "outputs": [],
   "source": [
    "for i in range(10000):\n",
    "    similar_filter = (similarity_30000_40000[i]>0.5) \n",
    "    if len(similarity_30000_40000[i][similar_filter])<=1:\n",
    "        descriptive_index.append(i+chunk*3)"
   ]
  },
  {
   "cell_type": "code",
   "execution_count": 39,
   "id": "7a725ce1-aed5-40a8-99d3-1723f6cfb084",
   "metadata": {},
   "outputs": [
    {
     "data": {
      "text/plain": [
       "15796"
      ]
     },
     "execution_count": 39,
     "metadata": {},
     "output_type": "execute_result"
    }
   ],
   "source": [
    "len(descriptive_index)"
   ]
  },
  {
   "cell_type": "markdown",
   "id": "1240f5db-3ffd-41dc-84b9-7e0a205095ef",
   "metadata": {},
   "source": [
    "Now I have 15796 episode descriptions."
   ]
  },
  {
   "cell_type": "code",
   "execution_count": 9,
   "id": "f11c39fb-6e44-4efe-8fc7-7e47f8ae536e",
   "metadata": {},
   "outputs": [],
   "source": [
    "#Fifth chunk\n",
    "similarity_40000_50000=np.array(similarities[chunk*4:chunk*5].todense()).squeeze()"
   ]
  },
  {
   "cell_type": "code",
   "execution_count": 40,
   "id": "e4fa1e7d-3c14-4004-8556-b0f2edf37240",
   "metadata": {},
   "outputs": [],
   "source": [
    "for i in range(10000):\n",
    "    similar_filter = (similarity_40000_50000[i]>0.5) \n",
    "    if len(similarity_40000_50000[i][similar_filter])<=1:\n",
    "        descriptive_index.append(i+chunk*4)"
   ]
  },
  {
   "cell_type": "code",
   "execution_count": 41,
   "id": "c8047403-e48d-43b7-9692-1d04046aab49",
   "metadata": {},
   "outputs": [
    {
     "data": {
      "text/plain": [
       "19869"
      ]
     },
     "execution_count": 41,
     "metadata": {},
     "output_type": "execute_result"
    }
   ],
   "source": [
    "len(descriptive_index)"
   ]
  },
  {
   "cell_type": "markdown",
   "id": "efda9d1c-7b65-4e30-82af-1498744d97ff",
   "metadata": {},
   "source": [
    "Now I have 19869 episode descriptions."
   ]
  },
  {
   "cell_type": "code",
   "execution_count": 5,
   "id": "d9857180-2657-4502-9a40-015b973ea3fe",
   "metadata": {},
   "outputs": [],
   "source": [
    "#Sixth chunk\n",
    "similarity_50000_60000=np.array(similarities[chunk*5:chunk*6].todense()).squeeze()"
   ]
  },
  {
   "cell_type": "code",
   "execution_count": 9,
   "id": "a7309e69-4877-402e-8dcb-dd1aaac24dda",
   "metadata": {},
   "outputs": [],
   "source": [
    "for i in range(10000):\n",
    "    similar_filter = (similarity_50000_60000[i]>0.5) \n",
    "    if len(similarity_50000_60000[i][similar_filter])<=1:\n",
    "        descriptive_index.append(i+chunk*5)"
   ]
  },
  {
   "cell_type": "code",
   "execution_count": 10,
   "id": "61ee6ad2-b94c-4658-8ce5-a3d53f8da476",
   "metadata": {},
   "outputs": [
    {
     "data": {
      "text/plain": [
       "23842"
      ]
     },
     "execution_count": 10,
     "metadata": {},
     "output_type": "execute_result"
    }
   ],
   "source": [
    "len(descriptive_index)"
   ]
  },
  {
   "cell_type": "markdown",
   "id": "f673752a-ae14-495a-83d0-32bc69a40339",
   "metadata": {},
   "source": [
    "Now I have 23842 episode descriptions."
   ]
  },
  {
   "cell_type": "code",
   "execution_count": 12,
   "id": "e72d5687-2119-4280-9434-6d6a84770d7d",
   "metadata": {},
   "outputs": [],
   "source": [
    "#Seventh chunk\n",
    "similarity_60000_70000=np.array(similarities[chunk*6:chunk*7].todense()).squeeze()"
   ]
  },
  {
   "cell_type": "code",
   "execution_count": 14,
   "id": "a5cc00fe-b6a2-4d60-aa63-2e9a0ad6a827",
   "metadata": {},
   "outputs": [],
   "source": [
    "for i in range(10000):\n",
    "    similar_filter = (similarity_60000_70000[i]>0.5) \n",
    "    if len(similarity_60000_70000[i][similar_filter])<=1:\n",
    "        descriptive_index.append(i+chunk*6)"
   ]
  },
  {
   "cell_type": "code",
   "execution_count": 15,
   "id": "246b53f7-375a-458f-92e2-1ddc7d5993cb",
   "metadata": {},
   "outputs": [
    {
     "data": {
      "text/plain": [
       "27853"
      ]
     },
     "execution_count": 15,
     "metadata": {},
     "output_type": "execute_result"
    }
   ],
   "source": [
    "len(descriptive_index)"
   ]
  },
  {
   "cell_type": "markdown",
   "id": "1a4fcf3f-e4b8-4b62-acd1-2dad7f3d7780",
   "metadata": {},
   "source": [
    "Now I have 27853 episode descriptions."
   ]
  },
  {
   "cell_type": "code",
   "execution_count": 10,
   "id": "02b617c1-7869-47d2-8c16-e1dfdca750c8",
   "metadata": {},
   "outputs": [],
   "source": [
    "descriptive_index=joblib.load('des_index_checkpoint1-7.pkl')"
   ]
  },
  {
   "cell_type": "code",
   "execution_count": 5,
   "id": "172af6ca-05ec-4247-9517-d4bed52ca6f6",
   "metadata": {},
   "outputs": [],
   "source": [
    "#The last chunk\n",
    "similarity_70000_=np.array(similarities[chunk*7:].todense()).squeeze()"
   ]
  },
  {
   "cell_type": "code",
   "execution_count": 8,
   "id": "451a14a6-0904-44e6-8a34-7b90427eb5e2",
   "metadata": {},
   "outputs": [
    {
     "data": {
      "text/plain": [
       "12045"
      ]
     },
     "execution_count": 8,
     "metadata": {},
     "output_type": "execute_result"
    }
   ],
   "source": [
    "#The last chunk length\n",
    "final_chunk = similarity_70000_.shape[0]\n",
    "final_chunk"
   ]
  },
  {
   "cell_type": "markdown",
   "id": "4fa9dba3-7152-4946-a77b-b1f9f7230859",
   "metadata": {},
   "source": [
    "The last chunk has 12,045 episode transcriptions"
   ]
  },
  {
   "cell_type": "code",
   "execution_count": 11,
   "id": "368e9164-675a-4cfd-b5b3-84a74fd5d52c",
   "metadata": {},
   "outputs": [],
   "source": [
    "for i in range(final_chunk):\n",
    "    similar_filter = (similarity_70000_[i]>0.5) \n",
    "    if len(similarity_70000_[i][similar_filter])<=1:\n",
    "        descriptive_index.append(i+chunk*7)"
   ]
  },
  {
   "cell_type": "code",
   "execution_count": 12,
   "id": "a5a69920-9e9f-4359-90e1-67a4f0d39be4",
   "metadata": {},
   "outputs": [
    {
     "data": {
      "text/plain": [
       "32627"
      ]
     },
     "execution_count": 12,
     "metadata": {},
     "output_type": "execute_result"
    }
   ],
   "source": [
    "len(descriptive_index)"
   ]
  },
  {
   "cell_type": "markdown",
   "id": "78f65773-9337-477b-88db-22350b61f2ee",
   "metadata": {},
   "source": [
    "Now I have total 32,627 episodes left."
   ]
  },
  {
   "cell_type": "code",
   "execution_count": 18,
   "id": "3e6517e3-faf4-45f2-b4ea-3063c6c13abe",
   "metadata": {},
   "outputs": [],
   "source": [
    "#Now I need put the indexes collected back into metadata dataframe\n",
    "metadata = metadata.iloc[descriptive_index]"
   ]
  },
  {
   "cell_type": "markdown",
   "id": "05636bf6-32b2-412d-9a93-36076090561a",
   "metadata": {},
   "source": [
    "### Criteria for similarity to show description"
   ]
  },
  {
   "cell_type": "markdown",
   "id": "f3b4a83c-6f2b-43a7-b6a4-9fd54153145f",
   "metadata": {},
   "source": [
    "From the paper[1], episode descriptions that have high similarity with their show description (over 40%) are less descriptive."
   ]
  },
  {
   "cell_type": "code",
   "execution_count": 23,
   "id": "b1d46012-c704-46b4-ac99-9dde9110ce79",
   "metadata": {},
   "outputs": [],
   "source": [
    "metadata=metadata.reset_index(drop=True)"
   ]
  },
  {
   "cell_type": "code",
   "execution_count": 28,
   "id": "917b4677-d649-4b37-a857-61db0739cea2",
   "metadata": {},
   "outputs": [],
   "source": [
    "show_des=metadata['show_description']\n",
    "episode_des=metadata['episode_description']"
   ]
  },
  {
   "cell_type": "code",
   "execution_count": 31,
   "id": "a4c4b993-fb61-4ac7-a1a4-3157c5231295",
   "metadata": {},
   "outputs": [],
   "source": [
    "#initiate Tf_IDF vectorizer\n",
    "#show descriptions are put in sparse matrix\n",
    "show_vec = TfidfVectorizer(stop_words='english',min_df=2,max_features=2000)\n",
    "show_vec.fit(show_des)\n",
    "show_df = show_vec.transform(show_des)"
   ]
  },
  {
   "cell_type": "code",
   "execution_count": 32,
   "id": "578a2e0a-baf7-45c9-9ad6-34ac7e1de79a",
   "metadata": {},
   "outputs": [
    {
     "data": {
      "text/plain": [
       "(32627, 2000)"
      ]
     },
     "execution_count": 32,
     "metadata": {},
     "output_type": "execute_result"
    }
   ],
   "source": [
    "show_df.shape"
   ]
  },
  {
   "cell_type": "code",
   "execution_count": 33,
   "id": "35d5da04-4e42-4818-9fa2-bf2dedc782ed",
   "metadata": {},
   "outputs": [],
   "source": [
    "#episode descriptions are put in sparse matrix\n",
    "episode_vec = TfidfVectorizer(stop_words='english',min_df=2,max_features=2000)\n",
    "episode_vec.fit(episode_des)\n",
    "episode_df = episode_vec.transform(episode_des)"
   ]
  },
  {
   "cell_type": "code",
   "execution_count": 34,
   "id": "c3139fb4-b77e-4e2d-9634-b568f615c599",
   "metadata": {},
   "outputs": [
    {
     "data": {
      "text/plain": [
       "(32627, 2000)"
      ]
     },
     "execution_count": 34,
     "metadata": {},
     "output_type": "execute_result"
    }
   ],
   "source": [
    "episode_df.shape"
   ]
  },
  {
   "cell_type": "code",
   "execution_count": 35,
   "id": "9261b8ac-69a0-4324-83fe-d3d79b5a27e9",
   "metadata": {},
   "outputs": [],
   "source": [
    "#get the similarity between episode description and show description\n",
    "similarities_between = cosine_similarity(episode_df,show_df,dense_output=False)"
   ]
  },
  {
   "cell_type": "code",
   "execution_count": 52,
   "id": "bd63dcf1-aefe-4c4c-9ef1-4b6012eed259",
   "metadata": {},
   "outputs": [],
   "source": [
    "sb_l=similarities_between.shape[0]"
   ]
  },
  {
   "cell_type": "code",
   "execution_count": 53,
   "id": "72926910-9817-471a-a6d9-4668b3e101b1",
   "metadata": {},
   "outputs": [],
   "source": [
    "descriptive_index2=[]\n",
    "for i in range(sb_l):\n",
    "    if similarities_between[i,i]<0.4:\n",
    "        descriptive_index2.append(i)       "
   ]
  },
  {
   "cell_type": "code",
   "execution_count": 54,
   "id": "b737b852-bcaf-4805-a010-52053446245a",
   "metadata": {},
   "outputs": [
    {
     "data": {
      "text/plain": [
       "32627"
      ]
     },
     "execution_count": 54,
     "metadata": {},
     "output_type": "execute_result"
    }
   ],
   "source": [
    "len(descriptive_index2)"
   ]
  },
  {
   "cell_type": "markdown",
   "id": "b09d935e-8930-42fa-8bc2-805c613bb8e2",
   "metadata": {},
   "source": [
    "All episode descriptions left are not overlapping with the show descriptions. I got the metadata I need. Now I need to load the transcripts from the json files."
   ]
  },
  {
   "cell_type": "code",
   "execution_count": 55,
   "id": "2d4c27c3",
   "metadata": {},
   "outputs": [
    {
     "data": {
      "text/plain": [
       "['metadata.pkl']"
      ]
     },
     "execution_count": 55,
     "metadata": {},
     "output_type": "execute_result"
    }
   ],
   "source": [
    "#joblib.dump(metadata,'metadata.pkl')"
   ]
  },
  {
   "cell_type": "code",
   "execution_count": null,
   "id": "c4daa3fd",
   "metadata": {},
   "outputs": [],
   "source": []
  },
  {
   "cell_type": "markdown",
   "id": "d6a5d9dd-7b81-45b2-9712-c99112770c5e",
   "metadata": {},
   "source": [
    "## Conclusion"
   ]
  },
  {
   "cell_type": "markdown",
   "id": "fced8110-aa7f-409e-b583-e65957a17967",
   "metadata": {},
   "source": [
    "In this notebook, I did data cleaning and EDA on the metadata. \n",
    "\n",
    "I cleaned the text for episode descriptions and show descriptions.\n",
    "\n",
    "I checked the length of episode descriptions.\n",
    "\n",
    "I removed descriptions of small length, as was done in TREC 2020."
   ]
  },
  {
   "cell_type": "code",
   "execution_count": null,
   "id": "da8276de",
   "metadata": {},
   "outputs": [],
   "source": []
  },
  {
   "cell_type": "markdown",
   "id": "f076afe2-96bb-493a-a2f9-06cea3375b94",
   "metadata": {},
   "source": [
    "Reference\n",
    "[1][100,000 Podcasts: A Spoken English Document Corpus](https://aclanthology.org/2020.coling-main.519) (Clifton et al., COLING 2020)"
   ]
  }
 ],
 "metadata": {
  "kernelspec": {
   "display_name": "Python 3",
   "language": "python",
   "name": "python3"
  },
  "language_info": {
   "codemirror_mode": {
    "name": "ipython",
    "version": 3
   },
   "file_extension": ".py",
   "mimetype": "text/x-python",
   "name": "python",
   "nbconvert_exporter": "python",
   "pygments_lexer": "ipython3",
   "version": "3.6.9"
  }
 },
 "nbformat": 4,
 "nbformat_minor": 5
}
